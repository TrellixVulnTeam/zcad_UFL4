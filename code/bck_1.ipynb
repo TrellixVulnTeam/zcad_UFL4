{
 "cells": [
  {
   "cell_type": "markdown",
   "metadata": {},
   "source": [
    "\n",
    "# PTSD Model Inference with IRT Features\n",
    "\n",
    "## [Center for Health Statistics](http://www.healthstats.org)\n",
    "\n",
    "## [The Zero Knowledge Discovery Lab](http://zed.uchicago.edu)\n",
    "---\n",
    "\n"
   ]
  },
  {
   "cell_type": "code",
   "execution_count": 1,
   "metadata": {},
   "outputs": [],
   "source": [
    "import ccx as cx\n",
    "import pylab as plt\n",
    "plt.style.use('ggplot')\n",
    "import pickle\n",
    "import pandas as pd\n",
    "import numpy as np\n",
    "%matplotlib inline"
   ]
  },
  {
   "cell_type": "code",
   "execution_count": 2,
   "metadata": {},
   "outputs": [],
   "source": [
    "#datafile='../data/CAD-PTSDData.csv'\n",
    "nfeatures=211\n",
    "DEBUG=False"
   ]
  },
  {
   "cell_type": "code",
   "execution_count": 3,
   "metadata": {},
   "outputs": [],
   "source": [
    "modelset=cx.load('../model/model_3_2.pkl')"
   ]
  },
  {
   "cell_type": "code",
   "execution_count": 4,
   "metadata": {},
   "outputs": [],
   "source": [
    "def chooseForm(modelset,index=None):\n",
    "    if index is None:\n",
    "        index=cx.random.randint(0,len(modelset)-1)\n",
    "    return modelset[index]"
   ]
  },
  {
   "cell_type": "code",
   "execution_count": 5,
   "metadata": {},
   "outputs": [],
   "source": [
    "model=chooseForm(modelset)"
   ]
  },
  {
   "cell_type": "code",
   "execution_count": 6,
   "metadata": {},
   "outputs": [],
   "source": [
    "cx.drawTrees(model,PREF='../model/this')"
   ]
  },
  {
   "cell_type": "code",
   "execution_count": 7,
   "metadata": {},
   "outputs": [],
   "source": [
    "def ask(item,B=0,E=5):\n",
    "    response=cx.random.randint(B,E)\n",
    "    return {item:response}"
   ]
  },
  {
   "cell_type": "code",
   "execution_count": 8,
   "metadata": {},
   "outputs": [],
   "source": [
    "def getNodeid(model,nodeid=None,responses=None,ask=ask,DEBUG=DEBUG):\n",
    "    if responses is None:\n",
    "        responses={}\n",
    "    if nodeid is None:\n",
    "        nodeid=np.zeros(model.n_estimators).astype(int)\n",
    "    \n",
    "    items=[model.estimators_[i].tree_.feature[nodeid[i]] \n",
    "              for i in range(model.n_estimators)]\n",
    "    \n",
    "    for i in np.arange(len(items)):\n",
    "        if nodeid[i] < 0:\n",
    "            continue\n",
    "        if items[i] not in responses:\n",
    "            responses.update(ask(items[i]))\n",
    "        if responses[items[i]] < model.estimators_[i].tree_.threshold[nodeid[i]]:\n",
    "            nodeid[i]=model.estimators_[i].tree_.children_left[nodeid[i]]\n",
    "        else:\n",
    "            nodeid[i]=model.estimators_[i].tree_.children_right[nodeid[i]]\n",
    "    \n",
    "    responses.pop(-2,None)\n",
    "    if DEBUG:\n",
    "        print(nodeid)\n",
    "    return nodeid,responses"
   ]
  },
  {
   "cell_type": "code",
   "execution_count": 9,
   "metadata": {},
   "outputs": [],
   "source": [
    "def runCAD(model,nfeatures):\n",
    "    nodeid=np.zeros(model.n_estimators).astype(int)\n",
    "    responses={}\n",
    "    while not all(nodeid<0):\n",
    "        [nodeid,responses]=getNodeid(model,nodeid=nodeid,responses=responses)\n",
    "    \n",
    "    Xs=np.zeros(nfeatures)\n",
    "    for key in responses.keys():\n",
    "        Xs[key]=responses[key]\n",
    "    prd=model.predict_proba(Xs.reshape(1, -1))\n",
    "\n",
    "    return responses,prd"
   ]
  },
  {
   "cell_type": "code",
   "execution_count": 10,
   "metadata": {},
   "outputs": [
    {
     "name": "stdout",
     "output_type": "stream",
     "text": [
      "[[0.53 0.47]]\n",
      "[[0.75 0.25]]\n",
      "[[0.44481605 0.55518395]]\n",
      "[[0.875 0.125]]\n",
      "[[0.46474359 0.53525641]]\n",
      "[[0.44481605 0.55518395]]\n",
      "[[0.75 0.25]]\n",
      "[[0.78 0.22]]\n",
      "[[0.94270833 0.05729167]]\n",
      "[[0.94270833 0.05729167]]\n",
      "[[1. 0.]]\n",
      "[[0.30361757 0.69638243]]\n",
      "[[0.57729469 0.42270531]]\n",
      "[[0.5625 0.4375]]\n",
      "[[0.83333333 0.16666667]]\n",
      "[[0.546875 0.453125]]\n",
      "[[0.83333333 0.16666667]]\n",
      "[[0.75 0.25]]\n",
      "[[0.58139535 0.41860465]]\n",
      "[[0.57411859 0.42588141]]\n",
      "[[0.8134058 0.1865942]]\n",
      "[[0.625 0.375]]\n",
      "[[0.70833333 0.29166667]]\n",
      "[[0.546875 0.453125]]\n",
      "[[0.30361757 0.69638243]]\n",
      "[[0.5625 0.4375]]\n",
      "[[0.46474359 0.53525641]]\n",
      "[[1. 0.]]\n",
      "[[1. 0.]]\n",
      "[[0.46474359 0.53525641]]\n",
      "[[0.83333333 0.16666667]]\n",
      "[[0.60507246 0.39492754]]\n",
      "[[0.41757246 0.58242754]]\n",
      "[[0.75 0.25]]\n",
      "[[0.50833333 0.49166667]]\n",
      "[[0.655 0.345]]\n",
      "[[0.46474359 0.53525641]]\n",
      "[[0.984375 0.015625]]\n",
      "[[0.14389535 0.85610465]]\n",
      "[[0.95833333 0.04166667]]\n"
     ]
    }
   ],
   "source": [
    "for i in range(40):\n",
    "    [r,p]=runCAD(model,nfeatures)\n",
    "    print(p)"
   ]
  },
  {
   "cell_type": "code",
   "execution_count": null,
   "metadata": {},
   "outputs": [],
   "source": [
    "nfeatures"
   ]
  },
  {
   "cell_type": "raw",
   "metadata": {},
   "source": [
    "n=cx.random.randint(0,nsamples-1)\n",
    "Xs=X[n,:]\n",
    "F=model.estimators_[0].tree_.feature\n",
    "F=np.append(F,model.estimators_[1].tree_.feature)\n",
    "F=F[F>0]\n",
    "print('F:',F,'len:',len(F))\n",
    "prd=model.predict_proba(Xs.reshape(1, -1))\n",
    "print('n:',n,' target:',y[n],' preds:',prd)\n",
    "#---\n",
    "Xr=200*Xs\n",
    "for i in F:\n",
    "    Xr[i]=Xs[i]\n",
    "prdr=model.predict_proba(Xr.reshape(1, -1))\n",
    "print('n:',n,' target:',y[n],' predr:',prdr)\n"
   ]
  }
 ],
 "metadata": {
  "kernelspec": {
   "display_name": "Python 2",
   "language": "python",
   "name": "python2"
  },
  "language_info": {
   "codemirror_mode": {
    "name": "ipython",
    "version": 3
   },
   "file_extension": ".py",
   "mimetype": "text/x-python",
   "name": "python",
   "nbconvert_exporter": "python",
   "pygments_lexer": "ipython3",
   "version": "3.7.1"
  }
 },
 "nbformat": 4,
 "nbformat_minor": 1
}
