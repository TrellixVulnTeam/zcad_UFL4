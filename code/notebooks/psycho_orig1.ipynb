{
 "cells": [
  {
   "cell_type": "markdown",
   "metadata": {},
   "source": [
    "\n",
    "# PTSD Model Inference with IRT Features\n",
    "\n",
    "## [Center for Health Statistics](http://www.healthstats.org)\n",
    "\n",
    "## [The Zero Knowledge Discovery Lab](http://zed.uchicago.edu)\n",
    "---\n",
    "\n"
   ]
  },
  {
   "cell_type": "code",
   "execution_count": 40,
   "metadata": {},
   "outputs": [],
   "source": [
    "import numpy as np\n",
    "import matplotlib.pyplot as plt\n",
    "from sklearn import svm\n",
    "import pandas as pd\n",
    "import seaborn as sns\n",
    "from sklearn import svm\n",
    "from sklearn.model_selection import train_test_split\n",
    "from sklearn import metrics\n",
    "from sklearn import neighbors, datasets\n",
    "from sklearn.model_selection import cross_val_score\n",
    "from sklearn.datasets import make_blobs\n",
    "from sklearn.ensemble import RandomForestClassifier\n",
    "from sklearn.ensemble import ExtraTreesClassifier\n",
    "from sklearn.tree import DecisionTreeClassifier\n",
    "from sklearn.ensemble import AdaBoostClassifier\n",
    "from sklearn.ensemble import GradientBoostingClassifier\n",
    "from scipy.spatial import ConvexHull\n",
    "from tqdm import tqdm\n",
    "import random\n",
    "plt.style.use('ggplot')\n",
    "import pickle\n",
    "from sklearn import tree\n",
    "from sklearn.tree import export_graphviz\n",
    "from joblib import dump, load\n",
    "\n",
    "%matplotlib inline"
   ]
  },
  {
   "cell_type": "code",
   "execution_count": 41,
   "metadata": {},
   "outputs": [],
   "source": [
    "plt.rcParams[\"font.size\"]=12\n",
    "plt.rcParams['font.family'] = 'serif'\n",
    "plt.rcParams['font.serif'] = ['Times New Roman'] + plt.rcParams['font.serif']"
   ]
  },
  {
   "cell_type": "code",
   "execution_count": 100,
   "metadata": {},
   "outputs": [],
   "source": [
    "def processDATA(dummy):\n",
    "    '''\n",
    "        process data file \n",
    "        into training data X, target labels y\n",
    "    '''\n",
    "    df=pd.read_csv('psychoByDiag.csv',index_col=0,sep=',')\n",
    "    df=df[df['DX']>0]\n",
    "    #df=df[df.DX.between(1,2)]\n",
    "    X=df.iloc[:,1:].values\n",
    "    y=df.iloc[:,0].values.astype(str)\n",
    "    y=[(x=='1')+0 for x in y]\n",
    "    Xdiag=X\n",
    "\n",
    "\n",
    "    df=pd.read_csv('PSYCHO.DAT',header=None,index_col=0,sep='\\s+')\n",
    "    df=df[df[1]>0]\n",
    "    #df=df[df[1].between(1,2)]\n",
    "    X=df.loc[:,2:].values\n",
    "    #y=df.loc[:,1].values.astype(str)\n",
    "    y=(df.loc[:,1]==1)+0\n",
    "    Xpsy=X\n",
    "\n",
    "\n",
    "    df=pd.read_csv('/home/ishanu/Dropbox/scratch_/Qfeatures.csv')\n",
    "    df=df[df.labels>0]\n",
    "    #df=df[df.labels.between(1,2)]\n",
    "    Xq=df.drop('labels',axis=1).values\n",
    "    #y=df.labels.values.astype(str)\n",
    "    X=np.c_[Xpsy,Xq]\n",
    "    #X=np.c_[X,Xdiag]\n",
    "    \n",
    "    [nsamples,nfeatures]=X.shape\n",
    "    return X,y,nfeatures,nsamples"
   ]
  },
  {
   "cell_type": "code",
   "execution_count": 101,
   "metadata": {},
   "outputs": [],
   "source": [
    "def pickleModel(models,threshold=0.87,filename='model.pkl',verbose=True):\n",
    "    '''\n",
    "        save trained model set\n",
    "    '''\n",
    "    MODELS=[]\n",
    "    for key,mds in models.items():\n",
    "        if key >= threshold:\n",
    "            mds_=[i[0] for i in mds]\n",
    "            MODELS.extend(mds_)\n",
    "    if verbose:\n",
    "        print(\"number of models (tests):\", len(MODELS))\n",
    "        FS=getCoverage(MODELS,verbose=True)\n",
    "        print(\"Item Use Fraction:\", FS.size/(len(MODELS)+0.0))\n",
    "    dump(MODELS, filename)\n",
    "    return\n",
    "\n",
    "def loadModel(filename):\n",
    "    '''\n",
    "        load models\n",
    "    '''\n",
    "    return load(filename)\n",
    "\n",
    "def drawTrees(model,index=0):\n",
    "    '''\n",
    "        draw the estimators (trees)\n",
    "        in a single model\n",
    "    '''\n",
    "    N=len(model[index].estimators_)\n",
    "\n",
    "    for count in range(N):\n",
    "        estimator = model[index].estimators_[count]\n",
    "\n",
    "        export_graphviz(estimator, out_file='PSYtree.dot', \n",
    "                        #feature_names = iris.feature_names,\n",
    "                        #class_names = iris.target_names,\n",
    "                        rounded = True, proportion = False, \n",
    "                        precision = 2, filled = True)\n",
    "\n",
    "        from subprocess import call\n",
    "        call(['dot', '-Tpng', 'PSYtree.dot', '-o', 'PSYtree'+str(count)+'.png', '-Gdpi=600'])\n",
    "        from IPython.display import Image\n",
    "        Image(filename = 'PSYtree'+str(count)+'.png') \n",
    "\n",
    "def getCoverage(model,verbose=True):\n",
    "    '''\n",
    "        return how many distinct items (questions)\n",
    "        are used in the model set.\n",
    "        This includes the set of questions being\n",
    "        covered by all forms that may be \n",
    "        generated by the model set\n",
    "    '''\n",
    "    FS=[]\n",
    "    for m in model:\n",
    "        for count in range(len(m.estimators_)):\n",
    "            clf=m.estimators_[count]\n",
    "            fs=clf.tree_.feature[clf.tree_.feature>0]\n",
    "            FS=np.array(list(set(np.append(FS,fs))))\n",
    "    if verbose:\n",
    "        print(\"Number of items used: \", FS.size)\n",
    "    return FS\n",
    "\n",
    "def getAuc(X,y,test_size=0.25,max_depth=None,n_estimators=100,\n",
    "           minsplit=4,FPR=[],TPR=[],VERBOSE=False, USE_ONLY=None):\n",
    "    '''\n",
    "        get AUC given training data X, with target labels y\n",
    "    '''\n",
    "    X_train, X_test, y_train, y_test = train_test_split(X, y, test_size=test_size)\n",
    "    CLASSIFIERS=[DecisionTreeClassifier(max_depth=max_depth, min_samples_split=minsplit),\n",
    "                RandomForestClassifier(n_estimators=n_estimators,\n",
    "                                       max_depth=max_depth,min_samples_split=minsplit),\n",
    "                ExtraTreesClassifier(n_estimators=n_estimators,\n",
    "                                     max_depth=max_depth,min_samples_split=minsplit,class_weight='balanced'),\n",
    "                AdaBoostClassifier(n_estimators=n_estimators),\n",
    "                GradientBoostingClassifier(n_estimators=n_estimators,max_depth=max_depth),\n",
    "                svm.SVC(kernel='rbf',gamma='scale',class_weight='balanced',probability=True)]\n",
    "\n",
    "    if USE_ONLY is not None:\n",
    "        if isinstance(USE_ONLY, (list,)):\n",
    "            CLASSIFIERS=[CLASSIFIERS[i] for i in USE_ONLY]\n",
    "        if isinstance(USE_ONLY, (int,)):\n",
    "            CLASSIFIERS=CLASSIFIERS[USE_ONLY]\n",
    "\n",
    "    for clf in CLASSIFIERS:\n",
    "        clf.fit(X_train,y_train)\n",
    "        y_pred=clf.predict_proba(X_test)\n",
    "        #print(y_pred)\n",
    "        fpr, tpr, thresholds = metrics.roc_curve(y_test,y_pred[:,1], pos_label=1)\n",
    "        auc=metrics.auc(fpr, tpr)\n",
    "        \n",
    "        if auc > 0.9:\n",
    "            fpr_c=fpr\n",
    "            tpr_c=tpr\n",
    "            dfa=pd.DataFrame(fpr_c,tpr_c).reset_index()\n",
    "            dfa.columns=['tpr','fpr']\n",
    "            dfa[['fpr','tpr']].to_csv('roc_.csv')\n",
    "\n",
    "        \n",
    "        if VERBOSE:\n",
    "            print(auc)\n",
    "\n",
    "        FPR=np.append(FPR,fpr)\n",
    "        TPR=np.append(TPR,tpr)\n",
    "    points=np.array([[a[0],a[1]] for a in zip(FPR,TPR)])\n",
    "    hull = ConvexHull(points)\n",
    "    x=np.argsort(points[hull.vertices,:][:,0])\n",
    "    auc=metrics.auc(points[hull.vertices,:][x,0],points[hull.vertices,:][x,1])\n",
    "    if auc > 0.91:\n",
    "        fpr_c=points[hull.vertices,:][x,0]\n",
    "        tpr_c=points[hull.vertices,:][x,1]\n",
    "        dfa=pd.DataFrame(fpr_c,tpr_c).reset_index()\n",
    "        dfa.columns=['tpr','fpr']\n",
    "        dfa[['fpr','tpr']].to_csv('roc.csv')\n",
    "        \n",
    "    return auc,CLASSIFIERS\n",
    "\n",
    "#test model\n",
    "def getModel(P,THRESHOLD=0.95):\n",
    "    '''\n",
    "        Select only models with minimum AUC\n",
    "    '''\n",
    "    Pgood=[model for (auc,model) in zip(P[::2],P[1::2]) if auc > THRESHOLD]\n",
    "    AUC=[]\n",
    "    if len(Pgood)==0:\n",
    "        return Pgood,len(Pgood),0,0,0,[]\n",
    "    for i in tqdm(range(1000)):\n",
    "        random_choice=random.randint(0,len(Pgood)-1)\n",
    "        clf=Pgood[random_choice][0]\n",
    "        # pretend as if we have not sen any of this data before\n",
    "        # but we have!\n",
    "        # need to only use test data here\n",
    "        X_train, X_test, y_train, y_test = train_test_split(X, y, test_size=0.8)\n",
    "        y_pred=clf.predict_proba(X_test)\n",
    "        fpr, tpr, thresholds = metrics.roc_curve(y_test,y_pred[:,1], pos_label=1)\n",
    "        auc=metrics.auc(fpr, tpr)\n",
    "        AUC=np.append(AUC,auc)\n",
    "        \n",
    "    DEPTH=Pgood[0][0].max_depth\n",
    "    N_ESTIMATORS=Pgood[0][0].n_estimators\n",
    "    \n",
    "    NITEMS=DEPTH*N_ESTIMATORS\n",
    "    VARIATIONS=len(Pgood)#2*DEPTH*len(Pgood)\n",
    "    return Pgood,len(Pgood),np.median(AUC),NITEMS,VARIATIONS,AUC\n",
    "\n",
    "def getSystem(X,y,max_depth=2,n_estimators=3):\n",
    "    '''\n",
    "        get model set with training data X and target labels y\n",
    "        -> calls getAUC, and getModel\n",
    "    '''\n",
    "    P1=[]\n",
    "    for i in tqdm(range(100)):\n",
    "        #USE_ONLY=2 implies ExtraTreesClassifier is used only\n",
    "        P1=np.append(P1,getAuc(X,y,minsplit=2,max_depth=max_depth,\n",
    "                               n_estimators=n_estimators,USE_ONLY=[2]))\n",
    "    PERF=[]\n",
    "    DPERF={}\n",
    "    MODELS={}\n",
    "    for threshold in np.arange(0.8,0.95,0.01):\n",
    "        Pgood,nmodels,auc_,NITEMS,VARIATIONS,AUC=getModel(P1,threshold)\n",
    "        if len(Pgood) > 0:\n",
    "            PERF=np.append(PERF,[auc_,NITEMS,VARIATIONS])\n",
    "            DPERF[VARIATIONS]=AUC\n",
    "            MODELS[auc_]=Pgood\n",
    "    PERF=PERF.reshape(int(len(PERF)/3),3)    \n",
    "    return PERF,DPERF,MODELS,NITEMS\n",
    "\n",
    "def PLOT(Dperf,Nitems,N=1000,dn=''):\n",
    "    '''\n",
    "        Plots the achieved AUC along with \n",
    "        confidence bounds against the \n",
    "        number of different forms \n",
    "        generated.\n",
    "    '''\n",
    "    NUMQ='No. of Items Per Subject: '+str(Nitems)\n",
    "    Df=pd.DataFrame(Dperf)\n",
    "    dfs=Df.std()\n",
    "    dfm=Df.mean()\n",
    "    plt.figure(figsize=[8,6])\n",
    "    dfm.plot(marker='o',color='r',ms=10,markeredgecolor='w',markerfacecolor='k',lw=2)\n",
    "    (dfm+2.62*(dfs/np.sqrt(N))).plot(ls='--',color='.5')\n",
    "    (dfm-2.62*(dfs/np.sqrt(N))).plot(ls='--',color='.5')\n",
    "    plt.xlabel('No. of different question sets')\n",
    "    plt.ylabel('mean AUC')\n",
    "    plt.title('AUC vs Test Variation (99% CB)',fontsize=12,fontweight='bold')\n",
    "    plt.text(0.55,0.9,NUMQ,transform=plt.gca().transAxes,fontweight='bold',\n",
    "             fontsize=12,bbox=dict(facecolor='k', alpha=0.4),color='w')\n",
    "    pdfname='Result'+dn+'.pdf'\n",
    "    plt.savefig(pdfname,dpi=300,bbox_inches='tight',pad_inches=0,transparent=False)\n",
    "    return"
   ]
  },
  {
   "cell_type": "code",
   "execution_count": 102,
   "metadata": {},
   "outputs": [],
   "source": [
    "X,y,nfeatures,nsamples=processDATA('dummy')"
   ]
  },
  {
   "cell_type": "code",
   "execution_count": 103,
   "metadata": {},
   "outputs": [
    {
     "data": {
      "text/plain": [
       "83"
      ]
     },
     "execution_count": 103,
     "metadata": {},
     "output_type": "execute_result"
    }
   ],
   "source": [
    "nfeatures"
   ]
  },
  {
   "cell_type": "code",
   "execution_count": 104,
   "metadata": {
    "scrolled": false
   },
   "outputs": [
    {
     "name": "stderr",
     "output_type": "stream",
     "text": [
      "100%|██████████| 100/100 [00:00<00:00, 144.10it/s]\n",
      "100%|██████████| 1000/1000 [00:02<00:00, 449.52it/s]\n",
      "100%|██████████| 1000/1000 [00:02<00:00, 462.66it/s]\n",
      "100%|██████████| 1000/1000 [00:02<00:00, 452.24it/s]\n",
      "100%|██████████| 1000/1000 [00:02<00:00, 461.11it/s]\n",
      "100%|██████████| 1000/1000 [00:02<00:00, 458.99it/s]\n",
      "100%|██████████| 1000/1000 [00:02<00:00, 457.33it/s]\n",
      "100%|██████████| 1000/1000 [00:02<00:00, 462.50it/s]\n",
      "100%|██████████| 1000/1000 [00:02<00:00, 467.23it/s]\n",
      "100%|██████████| 1000/1000 [00:02<00:00, 469.13it/s]\n"
     ]
    },
    {
     "name": "stdout",
     "output_type": "stream",
     "text": [
      "0\n"
     ]
    },
    {
     "data": {
      "image/png": "[encoded data removed]",
      "text/plain": [
       "<Figure size 576x432 with 1 Axes>"
      ]
     },
     "metadata": {},
     "output_type": "display_data"
    }
   ],
   "source": [
    "Perf23,Dperf23,Models23,Nitems23=getSystem(X,y,max_depth=2,n_estimators=3)\n",
    "print(Nitems23)\n",
    "PLOT(Dperf23,Nitems23,dn='PSY23')"
   ]
  },
  {
   "cell_type": "code",
   "execution_count": 105,
   "metadata": {},
   "outputs": [
    {
     "name": "stderr",
     "output_type": "stream",
     "text": [
      "100%|██████████| 100/100 [00:00<00:00, 174.87it/s]\n",
      "100%|██████████| 1000/1000 [00:02<00:00, 490.86it/s]\n",
      "100%|██████████| 1000/1000 [00:02<00:00, 488.80it/s]\n",
      "100%|██████████| 1000/1000 [00:02<00:00, 488.11it/s]\n",
      "100%|██████████| 1000/1000 [00:02<00:00, 471.73it/s]\n",
      "100%|██████████| 1000/1000 [00:02<00:00, 469.61it/s]\n"
     ]
    },
    {
     "data": {
      "image/png": "[encoded data removed]",
      "text/plain": [
       "<Figure size 576x432 with 1 Axes>"
      ]
     },
     "metadata": {},
     "output_type": "display_data"
    }
   ],
   "source": [
    "Perf32,Dperf32,Models32,Nitems32=getSystem(X,y,max_depth=3,n_estimators=2)\n",
    "PLOT(Dperf32,Nitems32,dn='PSY32')"
   ]
  },
  {
   "cell_type": "code",
   "execution_count": 108,
   "metadata": {
    "scrolled": true
   },
   "outputs": [
    {
     "name": "stdout",
     "output_type": "stream",
     "text": [
      "--\n",
      "number of models (tests): 11\n",
      "Number of items used:  59\n",
      "Item Use Fraction: 5.363636363636363\n"
     ]
    }
   ],
   "source": [
    "#pickleModel(Models23,threshold=.7,filename='PSYmodel_2_3.pkl')\n",
    "print(\"--\")\n",
    "pickleModel(Models32,threshold=.79,filename='PSYmodel_3_2.pkl')"
   ]
  },
  {
   "cell_type": "code",
   "execution_count": 109,
   "metadata": {},
   "outputs": [],
   "source": [
    "drawTrees(loadModel('PSYmodel_3_2.pkl'),1)"
   ]
  },
  {
   "cell_type": "code",
   "execution_count": null,
   "metadata": {},
   "outputs": [],
   "source": [
    "FS23=getCoverage(load('PSYmodel_2_3.pkl'))\n",
    "FS32=getCoverage(load('PSYmodel_3_2.pkl'))"
   ]
  },
  {
   "cell_type": "code",
   "execution_count": null,
   "metadata": {},
   "outputs": [],
   "source": [
    "drawTrees(loadModel('PSYmodel_3_2.pkl'),1)"
   ]
  },
  {
   "cell_type": "code",
   "execution_count": null,
   "metadata": {},
   "outputs": [],
   "source": []
  },
  {
   "cell_type": "code",
   "execution_count": null,
   "metadata": {},
   "outputs": [],
   "source": []
  },
  {
   "cell_type": "code",
   "execution_count": null,
   "metadata": {},
   "outputs": [],
   "source": []
  },
  {
   "cell_type": "code",
   "execution_count": null,
   "metadata": {},
   "outputs": [],
   "source": []
  },
  {
   "cell_type": "code",
   "execution_count": null,
   "metadata": {},
   "outputs": [],
   "source": []
  },
  {
   "cell_type": "code",
   "execution_count": null,
   "metadata": {},
   "outputs": [],
   "source": []
  },
  {
   "cell_type": "code",
   "execution_count": null,
   "metadata": {},
   "outputs": [],
   "source": []
  },
  {
   "cell_type": "code",
   "execution_count": null,
   "metadata": {},
   "outputs": [],
   "source": []
  },
  {
   "cell_type": "code",
   "execution_count": null,
   "metadata": {},
   "outputs": [],
   "source": []
  },
  {
   "cell_type": "code",
   "execution_count": null,
   "metadata": {},
   "outputs": [],
   "source": []
  },
  {
   "cell_type": "code",
   "execution_count": null,
   "metadata": {},
   "outputs": [],
   "source": []
  },
  {
   "cell_type": "code",
   "execution_count": null,
   "metadata": {},
   "outputs": [],
   "source": []
  },
  {
   "cell_type": "code",
   "execution_count": null,
   "metadata": {},
   "outputs": [],
   "source": []
  },
  {
   "cell_type": "code",
   "execution_count": null,
   "metadata": {},
   "outputs": [],
   "source": []
  },
  {
   "cell_type": "code",
   "execution_count": null,
   "metadata": {},
   "outputs": [],
   "source": []
  },
  {
   "cell_type": "code",
   "execution_count": null,
   "metadata": {},
   "outputs": [],
   "source": []
  },
  {
   "cell_type": "code",
   "execution_count": null,
   "metadata": {},
   "outputs": [],
   "source": []
  },
  {
   "cell_type": "code",
   "execution_count": null,
   "metadata": {},
   "outputs": [],
   "source": []
  },
  {
   "cell_type": "code",
   "execution_count": null,
   "metadata": {},
   "outputs": [],
   "source": []
  },
  {
   "cell_type": "code",
   "execution_count": null,
   "metadata": {},
   "outputs": [],
   "source": []
  },
  {
   "cell_type": "code",
   "execution_count": null,
   "metadata": {},
   "outputs": [],
   "source": []
  },
  {
   "cell_type": "code",
   "execution_count": null,
   "metadata": {},
   "outputs": [],
   "source": []
  },
  {
   "cell_type": "code",
   "execution_count": null,
   "metadata": {},
   "outputs": [],
   "source": []
  },
  {
   "cell_type": "code",
   "execution_count": null,
   "metadata": {},
   "outputs": [],
   "source": []
  },
  {
   "cell_type": "code",
   "execution_count": null,
   "metadata": {},
   "outputs": [],
   "source": []
  },
  {
   "cell_type": "code",
   "execution_count": null,
   "metadata": {},
   "outputs": [],
   "source": []
  },
  {
   "cell_type": "code",
   "execution_count": null,
   "metadata": {},
   "outputs": [],
   "source": []
  },
  {
   "cell_type": "code",
   "execution_count": null,
   "metadata": {},
   "outputs": [],
   "source": []
  },
  {
   "cell_type": "code",
   "execution_count": null,
   "metadata": {},
   "outputs": [],
   "source": []
  },
  {
   "cell_type": "code",
   "execution_count": null,
   "metadata": {},
   "outputs": [],
   "source": []
  },
  {
   "cell_type": "code",
   "execution_count": null,
   "metadata": {},
   "outputs": [],
   "source": []
  },
  {
   "cell_type": "code",
   "execution_count": null,
   "metadata": {},
   "outputs": [],
   "source": []
  },
  {
   "cell_type": "code",
   "execution_count": null,
   "metadata": {},
   "outputs": [],
   "source": []
  },
  {
   "cell_type": "code",
   "execution_count": null,
   "metadata": {},
   "outputs": [],
   "source": []
  },
  {
   "cell_type": "code",
   "execution_count": null,
   "metadata": {},
   "outputs": [],
   "source": []
  },
  {
   "cell_type": "code",
   "execution_count": null,
   "metadata": {},
   "outputs": [],
   "source": []
  },
  {
   "cell_type": "code",
   "execution_count": null,
   "metadata": {},
   "outputs": [],
   "source": []
  },
  {
   "cell_type": "code",
   "execution_count": null,
   "metadata": {},
   "outputs": [],
   "source": []
  },
  {
   "cell_type": "code",
   "execution_count": null,
   "metadata": {},
   "outputs": [],
   "source": []
  },
  {
   "cell_type": "code",
   "execution_count": null,
   "metadata": {},
   "outputs": [],
   "source": []
  },
  {
   "cell_type": "code",
   "execution_count": null,
   "metadata": {},
   "outputs": [],
   "source": []
  },
  {
   "cell_type": "code",
   "execution_count": null,
   "metadata": {},
   "outputs": [],
   "source": []
  },
  {
   "cell_type": "code",
   "execution_count": null,
   "metadata": {},
   "outputs": [],
   "source": []
  },
  {
   "cell_type": "code",
   "execution_count": null,
   "metadata": {},
   "outputs": [],
   "source": []
  },
  {
   "cell_type": "code",
   "execution_count": null,
   "metadata": {},
   "outputs": [],
   "source": []
  },
  {
   "cell_type": "code",
   "execution_count": null,
   "metadata": {},
   "outputs": [],
   "source": []
  },
  {
   "cell_type": "code",
   "execution_count": null,
   "metadata": {},
   "outputs": [],
   "source": []
  },
  {
   "cell_type": "code",
   "execution_count": null,
   "metadata": {},
   "outputs": [],
   "source": []
  },
  {
   "cell_type": "code",
   "execution_count": null,
   "metadata": {},
   "outputs": [],
   "source": []
  },
  {
   "cell_type": "code",
   "execution_count": null,
   "metadata": {},
   "outputs": [],
   "source": []
  },
  {
   "cell_type": "code",
   "execution_count": null,
   "metadata": {},
   "outputs": [],
   "source": []
  },
  {
   "cell_type": "code",
   "execution_count": null,
   "metadata": {},
   "outputs": [],
   "source": []
  },
  {
   "cell_type": "code",
   "execution_count": null,
   "metadata": {},
   "outputs": [],
   "source": []
  },
  {
   "cell_type": "code",
   "execution_count": null,
   "metadata": {},
   "outputs": [],
   "source": []
  },
  {
   "cell_type": "code",
   "execution_count": null,
   "metadata": {},
   "outputs": [],
   "source": []
  },
  {
   "cell_type": "code",
   "execution_count": null,
   "metadata": {},
   "outputs": [],
   "source": []
  },
  {
   "cell_type": "code",
   "execution_count": null,
   "metadata": {},
   "outputs": [],
   "source": []
  },
  {
   "cell_type": "code",
   "execution_count": null,
   "metadata": {},
   "outputs": [],
   "source": []
  },
  {
   "cell_type": "code",
   "execution_count": null,
   "metadata": {},
   "outputs": [],
   "source": []
  },
  {
   "cell_type": "code",
   "execution_count": null,
   "metadata": {},
   "outputs": [],
   "source": []
  },
  {
   "cell_type": "code",
   "execution_count": null,
   "metadata": {},
   "outputs": [],
   "source": []
  },
  {
   "cell_type": "code",
   "execution_count": null,
   "metadata": {},
   "outputs": [],
   "source": []
  },
  {
   "cell_type": "code",
   "execution_count": null,
   "metadata": {},
   "outputs": [],
   "source": []
  },
  {
   "cell_type": "code",
   "execution_count": null,
   "metadata": {},
   "outputs": [],
   "source": []
  },
  {
   "cell_type": "code",
   "execution_count": null,
   "metadata": {},
   "outputs": [],
   "source": []
  },
  {
   "cell_type": "code",
   "execution_count": null,
   "metadata": {},
   "outputs": [],
   "source": []
  },
  {
   "cell_type": "code",
   "execution_count": null,
   "metadata": {},
   "outputs": [],
   "source": []
  },
  {
   "cell_type": "code",
   "execution_count": null,
   "metadata": {},
   "outputs": [],
   "source": []
  },
  {
   "cell_type": "code",
   "execution_count": null,
   "metadata": {},
   "outputs": [],
   "source": []
  },
  {
   "cell_type": "code",
   "execution_count": null,
   "metadata": {},
   "outputs": [],
   "source": []
  },
  {
   "cell_type": "code",
   "execution_count": null,
   "metadata": {},
   "outputs": [],
   "source": []
  },
  {
   "cell_type": "code",
   "execution_count": null,
   "metadata": {},
   "outputs": [],
   "source": []
  },
  {
   "cell_type": "code",
   "execution_count": null,
   "metadata": {},
   "outputs": [],
   "source": []
  },
  {
   "cell_type": "code",
   "execution_count": null,
   "metadata": {},
   "outputs": [],
   "source": []
  },
  {
   "cell_type": "code",
   "execution_count": null,
   "metadata": {},
   "outputs": [],
   "source": []
  },
  {
   "cell_type": "code",
   "execution_count": null,
   "metadata": {},
   "outputs": [],
   "source": []
  },
  {
   "cell_type": "code",
   "execution_count": null,
   "metadata": {},
   "outputs": [],
   "source": []
  },
  {
   "cell_type": "code",
   "execution_count": null,
   "metadata": {},
   "outputs": [],
   "source": []
  },
  {
   "cell_type": "code",
   "execution_count": null,
   "metadata": {},
   "outputs": [],
   "source": []
  },
  {
   "cell_type": "code",
   "execution_count": null,
   "metadata": {},
   "outputs": [],
   "source": []
  },
  {
   "cell_type": "code",
   "execution_count": null,
   "metadata": {},
   "outputs": [],
   "source": []
  },
  {
   "cell_type": "code",
   "execution_count": null,
   "metadata": {},
   "outputs": [],
   "source": []
  },
  {
   "cell_type": "code",
   "execution_count": null,
   "metadata": {},
   "outputs": [],
   "source": []
  },
  {
   "cell_type": "code",
   "execution_count": null,
   "metadata": {},
   "outputs": [],
   "source": []
  },
  {
   "cell_type": "code",
   "execution_count": null,
   "metadata": {},
   "outputs": [],
   "source": []
  },
  {
   "cell_type": "code",
   "execution_count": null,
   "metadata": {},
   "outputs": [],
   "source": []
  },
  {
   "cell_type": "code",
   "execution_count": null,
   "metadata": {},
   "outputs": [],
   "source": []
  },
  {
   "cell_type": "code",
   "execution_count": null,
   "metadata": {},
   "outputs": [],
   "source": []
  },
  {
   "cell_type": "code",
   "execution_count": null,
   "metadata": {},
   "outputs": [],
   "source": []
  },
  {
   "cell_type": "code",
   "execution_count": null,
   "metadata": {},
   "outputs": [],
   "source": []
  },
  {
   "cell_type": "code",
   "execution_count": null,
   "metadata": {},
   "outputs": [],
   "source": []
  },
  {
   "cell_type": "code",
   "execution_count": null,
   "metadata": {},
   "outputs": [],
   "source": []
  },
  {
   "cell_type": "code",
   "execution_count": null,
   "metadata": {},
   "outputs": [],
   "source": []
  },
  {
   "cell_type": "code",
   "execution_count": null,
   "metadata": {},
   "outputs": [],
   "source": []
  }
 ],
 "metadata": {
  "kernelspec": {
   "display_name": "Python 2",
   "language": "python",
   "name": "python2"
  },
  "language_info": {
   "codemirror_mode": {
    "name": "ipython",
    "version": 3
   },
   "file_extension": ".py",
   "mimetype": "text/x-python",
   "name": "python",
   "nbconvert_exporter": "python",
   "pygments_lexer": "ipython3",
   "version": "3.7.1"
  }
 },
 "nbformat": 4,
 "nbformat_minor": 1
}
