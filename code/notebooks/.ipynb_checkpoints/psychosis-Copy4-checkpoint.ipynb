{
 "cells": [
  {
   "cell_type": "code",
   "execution_count": 1,
   "metadata": {},
   "outputs": [],
   "source": [
    "import numpy as np\n",
    "import matplotlib.pyplot as plt\n",
    "from sklearn import svm\n",
    "import pandas as pd\n",
    "import seaborn as sns\n",
    "from sklearn import svm\n",
    "from sklearn.model_selection import train_test_split\n",
    "from sklearn import metrics\n",
    "from sklearn import neighbors, datasets\n",
    "from sklearn.model_selection import cross_val_score\n",
    "from sklearn.datasets import make_blobs\n",
    "from sklearn.ensemble import RandomForestClassifier\n",
    "from sklearn.ensemble import ExtraTreesClassifier\n",
    "from sklearn.tree import DecisionTreeClassifier\n",
    "from sklearn.ensemble import AdaBoostClassifier\n",
    "from sklearn.ensemble import GradientBoostingClassifier\n",
    "from scipy.spatial import ConvexHull\n",
    "from tqdm import tqdm\n",
    "import random\n",
    "plt.style.use('ggplot')\n",
    "import pickle\n",
    "from sklearn import tree\n",
    "from sklearn.tree import export_graphviz\n",
    "from joblib import dump, load\n",
    "from sklearn.metrics import confusion_matrix\n",
    "from sklearn.metrics import accuracy_score\n",
    "from sklearn.metrics import classification_report\n",
    "from scipy.interpolate import interp1d\n",
    "%matplotlib inline"
   ]
  },
  {
   "cell_type": "code",
   "execution_count": 2,
   "metadata": {},
   "outputs": [],
   "source": [
    "def getAuc(X,y,test_size=0.25,max_depth=None,n_estimators=100,\n",
    "           minsplit=4,FPR=[],TPR=[],VERBOSE=False, USE_ONLY=None):\n",
    "    '''\n",
    "        get AUC given training data X, with target labels y\n",
    "    '''\n",
    "    X_train, X_test, y_train, y_test = train_test_split(X, y, test_size=test_size)\n",
    "    CLASSIFIERS=[DecisionTreeClassifier(max_depth=max_depth, min_samples_split=minsplit,class_weight='balanced'),\n",
    "                RandomForestClassifier(n_estimators=n_estimators,\n",
    "                                       max_depth=max_depth,min_samples_split=minsplit,class_weight='balanced'),\n",
    "                ExtraTreesClassifier(n_estimators=n_estimators,\n",
    "                                     max_depth=max_depth,min_samples_split=minsplit,class_weight='balanced'),\n",
    "                AdaBoostClassifier(n_estimators=n_estimators),\n",
    "                GradientBoostingClassifier(n_estimators=n_estimators,max_depth=max_depth),\n",
    "                svm.SVC(kernel='rbf',gamma='scale',class_weight='balanced',probability=True)]\n",
    "\n",
    "    if USE_ONLY is not None:\n",
    "        if isinstance(USE_ONLY, (list,)):\n",
    "            CLASSIFIERS=[CLASSIFIERS[i] for i in USE_ONLY]\n",
    "        if isinstance(USE_ONLY, (int,)):\n",
    "            CLASSIFIERS=CLASSIFIERS[USE_ONLY]\n",
    "\n",
    "    for clf in CLASSIFIERS:\n",
    "        clf.fit(X_train,y_train)\n",
    "        y_pred=clf.predict_proba(X_test)\n",
    "        fpr, tpr, thresholds = metrics.roc_curve(y_test,y_pred[:,1], pos_label=1)\n",
    "        auc=metrics.auc(fpr, tpr)\n",
    "        if VERBOSE:\n",
    "            print(auc)\n",
    "\n",
    "        FPR=np.append(FPR,fpr)\n",
    "        TPR=np.append(TPR,tpr)\n",
    "    points=np.array([[a[0],a[1]] for a in zip(FPR,TPR)])\n",
    "    hull = ConvexHull(points)\n",
    "    x=np.argsort(points[hull.vertices,:][:,0])\n",
    "    auc=metrics.auc(points[hull.vertices,:][x,0],points[hull.vertices,:][x,1])\n",
    "    return auc,CLASSIFIERS\n",
    "\n",
    "\n",
    "def saveFIG(filename='tmp.pdf',AXIS=False):\n",
    "    '''\n",
    "        save fig for publication\n",
    "    '''\n",
    "    import pylab as plt\n",
    "    plt.subplots_adjust(top = 1, bottom = 0, right = 1, left = 0, \n",
    "            hspace = 0, wspace = 0)\n",
    "    plt.margins(0,0)\n",
    "    if not AXIS:\n",
    "        plt.gca().xaxis.set_major_locator(plt.NullLocator())\n",
    "        plt.gca().yaxis.set_major_locator(plt.NullLocator())\n",
    "    plt.savefig(filename,dpi=300, bbox_inches = 'tight',\n",
    "                pad_inches = 0,transparent=False) \n",
    "    return"
   ]
  },
  {
   "cell_type": "code",
   "execution_count": 3,
   "metadata": {},
   "outputs": [],
   "source": [
    "df=pd.read_csv('psychoByDiag.csv',index_col=0,sep=',')"
   ]
  },
  {
   "cell_type": "code",
   "execution_count": 4,
   "metadata": {},
   "outputs": [],
   "source": [
    "df=df[df['DX']>0]\n",
    "\n",
    "#df=df[df.DX.between(1,2)]\n",
    "\n",
    "X=df.iloc[:,1:].values\n",
    "y=df.iloc[:,0].values.astype(str)\n",
    "y=[(x=='1')+0 for x in y]\n",
    "Xdiag=X"
   ]
  },
  {
   "cell_type": "code",
   "execution_count": 5,
   "metadata": {
    "scrolled": false
   },
   "outputs": [
    {
     "name": "stderr",
     "output_type": "stream",
     "text": [
      "100%|██████████| 500/500 [00:02<00:00, 212.91it/s]\n"
     ]
    },
    {
     "data": {
      "text/plain": [
       "0.672394578986804"
      ]
     },
     "execution_count": 5,
     "metadata": {},
     "output_type": "execute_result"
    },
    {
     "data": {
      "image/png": "[encoded data removed]",
      "text/plain": [
       "<Figure size 432x288 with 1 Axes>"
      ]
     },
     "metadata": {},
     "output_type": "display_data"
    }
   ],
   "source": [
    "ACC=[]\n",
    "CLFdiag=None\n",
    "for run in tqdm(np.arange(500)):\n",
    "    auc,CLFS=getAuc(X,y,test_size=0.2,max_depth=3,n_estimators=2,\n",
    "               minsplit=2,VERBOSE=False, USE_ONLY=[2])\n",
    "    ACC=np.append(ACC,auc)\n",
    "    if auc > 0.85:\n",
    "        CLFdiag=CLFS\n",
    "sns.distplot(ACC)\n",
    "np.median(ACC)"
   ]
  },
  {
   "cell_type": "code",
   "execution_count": 6,
   "metadata": {},
   "outputs": [],
   "source": [
    "df=pd.read_csv('PSYCHO.DAT',header=None,index_col=0,sep='\\s+')\n",
    "df=df[df[1]>0]\n",
    "#df=df[df[1].between(1,2)]\n",
    "\n",
    "X=df.loc[:,2:].values\n",
    "#y=df.loc[:,1].values.astype(str)\n",
    "y=(df.loc[:,1]==1)+0\n",
    "Xpsy=X"
   ]
  },
  {
   "cell_type": "code",
   "execution_count": 7,
   "metadata": {},
   "outputs": [],
   "source": [
    "df=pd.read_csv('/home/ishanu/Dropbox/scratch_/Qfeatures.csv')\n",
    "df=df[df.labels>0]\n",
    "\n",
    "#df=df[df.labels.between(1,2)]\n",
    "\n",
    "Xq=df.drop('labels',axis=1).values\n",
    "#y=df.labels.values.astype(str)\n",
    "#X=np.c_[Xpsy,Xq]\n",
    "#X=np.c_[X,Xdiag]\n",
    "X=np.c_[Xpsy,Xdiag]\n",
    "#X=X1\n",
    "#X=np.c_[Xpsy,Xdiag]"
   ]
  },
  {
   "cell_type": "code",
   "execution_count": 8,
   "metadata": {},
   "outputs": [],
   "source": [
    "y=(df.labels==1)+0"
   ]
  },
  {
   "cell_type": "code",
   "execution_count": 9,
   "metadata": {},
   "outputs": [
    {
     "data": {
      "text/plain": [
       "(644, 78)"
      ]
     },
     "execution_count": 9,
     "metadata": {},
     "output_type": "execute_result"
    }
   ],
   "source": [
    "X.shape"
   ]
  },
  {
   "cell_type": "code",
   "execution_count": null,
   "metadata": {},
   "outputs": [],
   "source": []
  },
  {
   "cell_type": "code",
   "execution_count": 14,
   "metadata": {
    "scrolled": false
   },
   "outputs": [
    {
     "name": "stderr",
     "output_type": "stream",
     "text": [
      "100%|██████████| 2000/2000 [00:11<00:00, 171.35it/s]\n"
     ]
    },
    {
     "data": {
      "text/plain": [
       "{0.805720758991787: [ExtraTreesClassifier(bootstrap=False, class_weight='balanced',\n",
       "             criterion='gini', max_depth=10, max_features='auto',\n",
       "             max_leaf_nodes=None, min_impurity_decrease=0.0,\n",
       "             min_impurity_split=None, min_samples_leaf=1,\n",
       "             min_samples_split=2, min_weight_fraction_leaf=0.0,\n",
       "             n_estimators=2, n_jobs=None, oob_score=False, random_state=None,\n",
       "             verbose=0, warm_start=False)],\n",
       " 0.8107965402795938: [ExtraTreesClassifier(bootstrap=False, class_weight='balanced',\n",
       "             criterion='gini', max_depth=10, max_features='auto',\n",
       "             max_leaf_nodes=None, min_impurity_decrease=0.0,\n",
       "             min_impurity_split=None, min_samples_leaf=1,\n",
       "             min_samples_split=2, min_weight_fraction_leaf=0.0,\n",
       "             n_estimators=2, n_jobs=None, oob_score=False, random_state=None,\n",
       "             verbose=0, warm_start=False)]}"
      ]
     },
     "execution_count": 14,
     "metadata": {},
     "output_type": "execute_result"
    },
    {
     "data": {
      "image/png": "[encoded data removed]",
      "text/plain": [
       "<Figure size 432x288 with 1 Axes>"
      ]
     },
     "metadata": {},
     "output_type": "display_data"
    }
   ],
   "source": [
    "qACC=[]\n",
    "CLF={}\n",
    "for run in tqdm(np.arange(2000)):\n",
    "    auc,CLFS=getAuc(X,y,test_size=0.6,max_depth=10,n_estimators=2,\n",
    "               minsplit=2,VERBOSE=False, USE_ONLY=[2])\n",
    "    qACC=np.append(qACC,auc)\n",
    "    if auc > 0.8:\n",
    "        CLF[auc]=CLFS\n",
    "        #print('.')\n",
    "ax=sns.distplot(ACC,label='noq')\n",
    "sns.distplot(qACC,ax=ax,label='Q')\n",
    "ax.legend()\n",
    "np.median(qACC)\n",
    "CLF"
   ]
  },
  {
   "cell_type": "code",
   "execution_count": 15,
   "metadata": {},
   "outputs": [],
   "source": [
    "\n",
    "CLFstar=CLF[np.array([k for k in CLF.keys()]).max()][0]"
   ]
  },
  {
   "cell_type": "code",
   "execution_count": 16,
   "metadata": {},
   "outputs": [
    {
     "data": {
      "text/plain": [
       "0.8988081761398973"
      ]
     },
     "execution_count": 16,
     "metadata": {},
     "output_type": "execute_result"
    },
    {
     "data": {
      "image/png": "[encoded data removed]",
      "text/plain": [
       "<Figure size 432x288 with 1 Axes>"
      ]
     },
     "metadata": {},
     "output_type": "display_data"
    }
   ],
   "source": [
    "auc_=[]\n",
    "ROC={}\n",
    "fpr_ = np.linspace(0, 1, num=20, endpoint=True)\n",
    "for run in np.arange(1000):\n",
    "    clf=CLFstar\n",
    "    X_train, X_test, y_train, y_test = train_test_split(X, y, test_size=0.5)\n",
    "    y_pred=clf.predict_proba(X_test)\n",
    "    fpr, tpr, thresholds = metrics.roc_curve(y_test,y_pred[:,1], pos_label=1)\n",
    "    f = interp1d(fpr, tpr)\n",
    "    auc_=np.append(auc_,metrics.auc(fpr_, f(fpr_)))\n",
    "    ROC[metrics.auc(fpr, tpr)]={'fpr':fpr_,'tpr':f(fpr_)}\n",
    "sns.distplot(auc_)\n",
    "auc_.mean()"
   ]
  },
  {
   "cell_type": "code",
   "execution_count": 17,
   "metadata": {},
   "outputs": [
    {
     "data": {
      "image/png": "[encoded data removed]",
      "text/plain": [
       "<Figure size 432x288 with 1 Axes>"
      ]
     },
     "metadata": {},
     "output_type": "display_data"
    }
   ],
   "source": [
    "TPR=[]\n",
    "for a in ROC.keys():\n",
    "    #print(a)\n",
    "    #break\n",
    "    plt.plot(ROC[a]['fpr'],ROC[a]['tpr'],'-k',alpha=.05)\n",
    "    TPR=np.append(TPR,ROC[a]['tpr'])\n",
    "TPR=TPR.reshape(int(len(TPR)/len(fpr_)),len(fpr_))\n",
    "plt.plot(fpr_,np.median(TPR,axis=0),'-r')\n",
    "metrics.auc(fpr_,np.median(TPR,axis=0))\n",
    "plt.gca().set_title('schizophrenia vs [others]')\n",
    "plt.text(.6,.25,'AUC: '+str(metrics.auc(fpr_,np.median(TPR,axis=0)))[:5],color='r')\n",
    "#plt.text(.6,.31,'AUC: '+str(metrics.auc(fpr_,np.median(tprA,axis=0)))[:5],color='b')\n",
    "#plt.text(.6,.19,'AUC: '+str(metrics.auc(fpr_,np.median(tprB,axis=0)))[:5],color='g')\n",
    "plt.gca().set_xlabel('1-specificity')\n",
    "plt.gca().set_ylabel('sensitivity')\n",
    "saveFIG('sczVSall.pdf',AXIS=True)"
   ]
  },
  {
   "cell_type": "code",
   "execution_count": 27,
   "metadata": {},
   "outputs": [],
   "source": [
    "def pickleModel(models,threshold=0.87,filename='model.pkl',verbose=True):\n",
    "    '''\n",
    "        save trained model set\n",
    "    '''\n",
    "    MODELS=[]\n",
    "    for key,mds in models.items():\n",
    "        if key >= threshold:\n",
    "            mds_=mds\n",
    "            MODELS.extend(mds_)\n",
    "    if verbose:\n",
    "        print(\"number of models (tests):\", len(MODELS))\n",
    "        FS=getCoverage(MODELS,verbose=True)\n",
    "        print(\"Item Use Fraction:\", FS.size/(len(MODELS)+0.0))\n",
    "    dump(MODELS, filename)\n",
    "    return MODELS\n",
    "\n",
    "def loadModel(filename):\n",
    "    '''\n",
    "        load models\n",
    "    '''\n",
    "    return load(filename)\n",
    "\n",
    "def drawTrees(model):\n",
    "    '''\n",
    "        draw the estimators (trees)\n",
    "        in a single model\n",
    "    '''\n",
    "    N=len(model.estimators_)\n",
    "\n",
    "    for count in range(N):\n",
    "        estimator = model.estimators_[count]\n",
    "\n",
    "        export_graphviz(estimator, out_file='PSYtree.dot', \n",
    "                        #feature_names = iris.feature_names,\n",
    "                        #class_names = iris.target_names,\n",
    "                        rounded = True, proportion = False, \n",
    "                        precision = 2, filled = True)\n",
    "\n",
    "        from subprocess import call\n",
    "        call(['dot', '-Tpng', 'PSYtree.dot', '-o', 'PSYtree'+str(count)+'.png', '-Gdpi=600'])\n",
    "        from IPython.display import Image\n",
    "        Image(filename = 'PSYtree'+str(count)+'.png') \n",
    "        \n",
    "def getCoverage(model,verbose=True):\n",
    "    '''\n",
    "        return how many distinct items (questions)\n",
    "        are used in the model set.\n",
    "        This includes the set of questions being\n",
    "        covered by all forms that may be \n",
    "        generated by the model set\n",
    "    '''\n",
    "    FS=[]\n",
    "    for m in model:\n",
    "        for count in range(len(m.estimators_)):\n",
    "            clf=m.estimators_[count]\n",
    "            fs=clf.tree_.feature[clf.tree_.feature>0]\n",
    "            FS=np.array(list(set(np.append(FS,fs))))\n",
    "    if verbose:\n",
    "        print(\"Number of items used: \", FS.size)\n",
    "    return FS"
   ]
  },
  {
   "cell_type": "code",
   "execution_count": 28,
   "metadata": {},
   "outputs": [
    {
     "name": "stdout",
     "output_type": "stream",
     "text": [
      "number of models (tests): 9\n",
      "Number of items used:  52\n",
      "Item Use Fraction: 5.777777777777778\n"
     ]
    }
   ],
   "source": [
    "models=pickleModel(CLF,threshold=.81,filename='PSYmodel_3_2.pkl',verbose=True)"
   ]
  },
  {
   "cell_type": "code",
   "execution_count": 29,
   "metadata": {},
   "outputs": [
    {
     "data": {
      "text/plain": [
       "[ExtraTreesClassifier(bootstrap=False, class_weight='balanced',\n",
       "            criterion='gini', max_depth=3, max_features='auto',\n",
       "            max_leaf_nodes=None, min_impurity_decrease=0.0,\n",
       "            min_impurity_split=None, min_samples_leaf=1,\n",
       "            min_samples_split=2, min_weight_fraction_leaf=0.0,\n",
       "            n_estimators=2, n_jobs=None, oob_score=False, random_state=None,\n",
       "            verbose=0, warm_start=False),\n",
       " ExtraTreesClassifier(bootstrap=False, class_weight='balanced',\n",
       "            criterion='gini', max_depth=3, max_features='auto',\n",
       "            max_leaf_nodes=None, min_impurity_decrease=0.0,\n",
       "            min_impurity_split=None, min_samples_leaf=1,\n",
       "            min_samples_split=2, min_weight_fraction_leaf=0.0,\n",
       "            n_estimators=2, n_jobs=None, oob_score=False, random_state=None,\n",
       "            verbose=0, warm_start=False),\n",
       " ExtraTreesClassifier(bootstrap=False, class_weight='balanced',\n",
       "            criterion='gini', max_depth=3, max_features='auto',\n",
       "            max_leaf_nodes=None, min_impurity_decrease=0.0,\n",
       "            min_impurity_split=None, min_samples_leaf=1,\n",
       "            min_samples_split=2, min_weight_fraction_leaf=0.0,\n",
       "            n_estimators=2, n_jobs=None, oob_score=False, random_state=None,\n",
       "            verbose=0, warm_start=False),\n",
       " ExtraTreesClassifier(bootstrap=False, class_weight='balanced',\n",
       "            criterion='gini', max_depth=3, max_features='auto',\n",
       "            max_leaf_nodes=None, min_impurity_decrease=0.0,\n",
       "            min_impurity_split=None, min_samples_leaf=1,\n",
       "            min_samples_split=2, min_weight_fraction_leaf=0.0,\n",
       "            n_estimators=2, n_jobs=None, oob_score=False, random_state=None,\n",
       "            verbose=0, warm_start=False),\n",
       " ExtraTreesClassifier(bootstrap=False, class_weight='balanced',\n",
       "            criterion='gini', max_depth=3, max_features='auto',\n",
       "            max_leaf_nodes=None, min_impurity_decrease=0.0,\n",
       "            min_impurity_split=None, min_samples_leaf=1,\n",
       "            min_samples_split=2, min_weight_fraction_leaf=0.0,\n",
       "            n_estimators=2, n_jobs=None, oob_score=False, random_state=None,\n",
       "            verbose=0, warm_start=False),\n",
       " ExtraTreesClassifier(bootstrap=False, class_weight='balanced',\n",
       "            criterion='gini', max_depth=3, max_features='auto',\n",
       "            max_leaf_nodes=None, min_impurity_decrease=0.0,\n",
       "            min_impurity_split=None, min_samples_leaf=1,\n",
       "            min_samples_split=2, min_weight_fraction_leaf=0.0,\n",
       "            n_estimators=2, n_jobs=None, oob_score=False, random_state=None,\n",
       "            verbose=0, warm_start=False),\n",
       " ExtraTreesClassifier(bootstrap=False, class_weight='balanced',\n",
       "            criterion='gini', max_depth=3, max_features='auto',\n",
       "            max_leaf_nodes=None, min_impurity_decrease=0.0,\n",
       "            min_impurity_split=None, min_samples_leaf=1,\n",
       "            min_samples_split=2, min_weight_fraction_leaf=0.0,\n",
       "            n_estimators=2, n_jobs=None, oob_score=False, random_state=None,\n",
       "            verbose=0, warm_start=False),\n",
       " ExtraTreesClassifier(bootstrap=False, class_weight='balanced',\n",
       "            criterion='gini', max_depth=3, max_features='auto',\n",
       "            max_leaf_nodes=None, min_impurity_decrease=0.0,\n",
       "            min_impurity_split=None, min_samples_leaf=1,\n",
       "            min_samples_split=2, min_weight_fraction_leaf=0.0,\n",
       "            n_estimators=2, n_jobs=None, oob_score=False, random_state=None,\n",
       "            verbose=0, warm_start=False),\n",
       " ExtraTreesClassifier(bootstrap=False, class_weight='balanced',\n",
       "            criterion='gini', max_depth=3, max_features='auto',\n",
       "            max_leaf_nodes=None, min_impurity_decrease=0.0,\n",
       "            min_impurity_split=None, min_samples_leaf=1,\n",
       "            min_samples_split=2, min_weight_fraction_leaf=0.0,\n",
       "            n_estimators=2, n_jobs=None, oob_score=False, random_state=None,\n",
       "            verbose=0, warm_start=False)]"
      ]
     },
     "execution_count": 29,
     "metadata": {},
     "output_type": "execute_result"
    }
   ],
   "source": [
    "models"
   ]
  },
  {
   "cell_type": "code",
   "execution_count": 31,
   "metadata": {},
   "outputs": [],
   "source": [
    "drawTrees(models[3])"
   ]
  },
  {
   "cell_type": "code",
   "execution_count": null,
   "metadata": {},
   "outputs": [],
   "source": []
  }
 ],
 "metadata": {
  "kernelspec": {
   "display_name": "Python 3",
   "language": "python",
   "name": "python3"
  },
  "language_info": {
   "codemirror_mode": {
    "name": "ipython",
    "version": 3
   },
   "file_extension": ".py",
   "mimetype": "text/x-python",
   "name": "python",
   "nbconvert_exporter": "python",
   "pygments_lexer": "ipython3",
   "version": "3.7.1"
  }
 },
 "nbformat": 4,
 "nbformat_minor": 2
}
