{
 "cells": [
  {
   "cell_type": "markdown",
   "metadata": {},
   "source": [
    "\n",
    "# PTSD Model Inference with IRT Features\n",
    "\n",
    "## [Center for Health Statistics](http://www.healthstats.org)\n",
    "\n",
    "## [The Zero Knowledge Discovery Lab](http://zed.uchicago.edu)\n",
    "---\n",
    "\n"
   ]
  },
  {
   "cell_type": "code",
   "execution_count": 1,
   "metadata": {},
   "outputs": [],
   "source": [
    "import ccx as cx\n",
    "import pylab as plt\n",
    "plt.style.use('ggplot')\n",
    "import pickle\n",
    "import pandas as pd\n",
    "import numpy as np\n",
    "%matplotlib inline"
   ]
  },
  {
   "cell_type": "code",
   "execution_count": 2,
   "metadata": {},
   "outputs": [],
   "source": [
    "nfeatures=211"
   ]
  },
  {
   "cell_type": "code",
   "execution_count": 3,
   "metadata": {},
   "outputs": [],
   "source": [
    "modelset=cx.load('../model/model_3_2.pkl')\n",
    "model=cx.chooseForm(modelset)"
   ]
  },
  {
   "cell_type": "code",
   "execution_count": 6,
   "metadata": {},
   "outputs": [],
   "source": [
    "cx.drawTrees(model,PREF='../model/this')"
   ]
  },
  {
   "cell_type": "code",
   "execution_count": 9,
   "metadata": {},
   "outputs": [],
   "source": [
    "def ask(item,B=0,E=5):\n",
    "    response=cx.random.randint(B,E)\n",
    "    return {item:response}"
   ]
  },
  {
   "cell_type": "code",
   "execution_count": 10,
   "metadata": {},
   "outputs": [
    {
     "name": "stdout",
     "output_type": "stream",
     "text": [
      "[[0.43365385 0.56634615]]\n",
      "[[0.9300813 0.0699187]]\n",
      "[[0.91111111 0.08888889]]\n",
      "[[0.72115385 0.27884615]]\n",
      "[[0.33333333 0.66666667]]\n",
      "[[0.73760818 0.26239182]]\n",
      "[[0.48310811 0.51689189]]\n",
      "[[0.74859287 0.25140713]]\n",
      "[[0.5625 0.4375]]\n",
      "[[0.9300813 0.0699187]]\n",
      "[[0.83841463 0.16158537]]\n",
      "[[0.81282051 0.18717949]]\n",
      "[[0.61698718 0.38301282]]\n",
      "[[0.52678571 0.47321429]]\n",
      "[[0.67121212 0.32878788]]\n",
      "[[0.73424797 0.26575203]]\n",
      "[[0.73760818 0.26239182]]\n",
      "[[0.94444444 0.05555556]]\n",
      "[[0.72115385 0.27884615]]\n",
      "[[0.54861111 0.45138889]]\n",
      "[[0.46493902 0.53506098]]\n",
      "[[0.55091463 0.44908537]]\n",
      "[[0.60810811 0.39189189]]\n",
      "[[0.63133641 0.36866359]]\n",
      "[[0.46493902 0.53506098]]\n",
      "[[0.60698448 0.39301552]]\n",
      "[[0.60698448 0.39301552]]\n",
      "[[0.94444444 0.05555556]]\n",
      "[[0.51054713 0.48945287]]\n",
      "[[0.81282051 0.18717949]]\n",
      "[[0.43365385 0.56634615]]\n",
      "[[0.82380952 0.17619048]]\n",
      "[[0.43365385 0.56634615]]\n",
      "[[0.83841463 0.16158537]]\n",
      "[[0.96341463 0.03658537]]\n",
      "[[0.71527778 0.28472222]]\n",
      "[[0.5625 0.4375]]\n",
      "[[0.86585366 0.13414634]]\n",
      "[[0.54861111 0.45138889]]\n",
      "[[0.62034739 0.37965261]]\n"
     ]
    }
   ],
   "source": [
    "for i in range(40):\n",
    "    [r,p]=cx.runCAD(model,nfeatures,ask=ask)\n",
    "    print(p)"
   ]
  },
  {
   "cell_type": "code",
   "execution_count": null,
   "metadata": {},
   "outputs": [],
   "source": [
    "nfeatures"
   ]
  },
  {
   "cell_type": "raw",
   "metadata": {},
   "source": [
    "n=cx.random.randint(0,nsamples-1)\n",
    "Xs=X[n,:]\n",
    "F=model.estimators_[0].tree_.feature\n",
    "F=np.append(F,model.estimators_[1].tree_.feature)\n",
    "F=F[F>0]\n",
    "print('F:',F,'len:',len(F))\n",
    "prd=model.predict_proba(Xs.reshape(1, -1))\n",
    "print('n:',n,' target:',y[n],' preds:',prd)\n",
    "#---\n",
    "Xr=200*Xs\n",
    "for i in F:\n",
    "    Xr[i]=Xs[i]\n",
    "prdr=model.predict_proba(Xr.reshape(1, -1))\n",
    "print('n:',n,' target:',y[n],' predr:',prdr)\n"
   ]
  }
 ],
 "metadata": {
  "kernelspec": {
   "display_name": "Python 2",
   "language": "python",
   "name": "python2"
  },
  "language_info": {
   "codemirror_mode": {
    "name": "ipython",
    "version": 3
   },
   "file_extension": ".py",
   "mimetype": "text/x-python",
   "name": "python",
   "nbconvert_exporter": "python",
   "pygments_lexer": "ipython3",
   "version": "3.7.1"
  }
 },
 "nbformat": 4,
 "nbformat_minor": 1
}
