{
 "cells": [
  {
   "cell_type": "code",
   "execution_count": 1,
   "metadata": {
    "ExecuteTime": {
     "end_time": "2019-08-24T13:29:16.883486Z",
     "start_time": "2019-08-24T13:29:15.241475Z"
    }
   },
   "outputs": [],
   "source": [
    "import sklearn\n",
    "from sklearn_porter import Porter\n",
    "import pickle\n",
    "from sklearn.externals import joblib\n",
    "import joblib\n",
    "import numpy as np\n",
    "import os\n",
    "import re\n",
    "import json\n",
    "\n",
    "import ccx as cx"
   ]
  },
  {
   "cell_type": "code",
   "execution_count": 2,
   "metadata": {
    "ExecuteTime": {
     "end_time": "2019-08-24T13:29:18.387832Z",
     "start_time": "2019-08-24T13:29:18.381989Z"
    }
   },
   "outputs": [
    {
     "data": {
      "text/plain": [
       "'0.20.2'"
      ]
     },
     "execution_count": 2,
     "metadata": {},
     "output_type": "execute_result"
    }
   ],
   "source": [
    "# specifically needs version 0.20.2\n",
    "# can not open pickle file for later versions\n",
    "# activate the virtual environment venv\n",
    "sklearn.__version__"
   ]
  },
  {
   "cell_type": "code",
   "execution_count": 3,
   "metadata": {
    "ExecuteTime": {
     "end_time": "2019-08-24T13:29:18.649680Z",
     "start_time": "2019-08-24T13:29:18.645617Z"
    }
   },
   "outputs": [],
   "source": [
    "MODEL_PATH = '../model/'\n",
    "OUT_DIR = '../website/js/extraTrees/'\n",
    "model_2_3_path = MODEL_PATH + 'model_2_3.pkl'\n",
    "# 3 to 2 is used\n",
    "model_3_2_path = MODEL_PATH + 'model_3_2.pkl'"
   ]
  },
  {
   "cell_type": "code",
   "execution_count": 4,
   "metadata": {
    "ExecuteTime": {
     "end_time": "2019-08-24T13:29:19.167881Z",
     "start_time": "2019-08-24T13:29:19.064356Z"
    }
   },
   "outputs": [],
   "source": [
    "model_2_3 = joblib.load(model_2_3_path)\n",
    "model_3_2 = joblib.load(model_3_2_path)"
   ]
  },
  {
   "cell_type": "code",
   "execution_count": 5,
   "metadata": {
    "ExecuteTime": {
     "end_time": "2019-08-24T13:29:20.449481Z",
     "start_time": "2019-08-24T13:29:20.444711Z"
    }
   },
   "outputs": [
    {
     "name": "stdout",
     "output_type": "stream",
     "text": [
      "198\n",
      "242\n"
     ]
    }
   ],
   "source": [
    "print(len(model_2_3))\n",
    "print(len(model_3_2))"
   ]
  },
  {
   "cell_type": "code",
   "execution_count": 6,
   "metadata": {
    "ExecuteTime": {
     "end_time": "2019-08-24T13:29:20.899194Z",
     "start_time": "2019-08-24T13:29:20.889735Z"
    }
   },
   "outputs": [
    {
     "data": {
      "text/plain": [
       "array([1])"
      ]
     },
     "execution_count": 6,
     "metadata": {},
     "output_type": "execute_result"
    }
   ],
   "source": [
    "model_2_3[0].predict(\n",
    "    np.random.randint(0,6,211).reshape(1,-1))"
   ]
  },
  {
   "cell_type": "code",
   "execution_count": 19,
   "metadata": {
    "ExecuteTime": {
     "end_time": "2019-08-24T13:56:58.283116Z",
     "start_time": "2019-08-24T13:56:58.272825Z"
    }
   },
   "outputs": [],
   "source": [
    "porter = Porter(model_3_2[0], language='js')\n",
    "output = porter.export()\n",
    "with open(OUT_DIR + 'extraTrees.js', 'w') as f:\n",
    "    f.write(output)"
   ]
  },
  {
   "cell_type": "code",
   "execution_count": 20,
   "metadata": {
    "ExecuteTime": {
     "end_time": "2019-08-24T13:59:17.727320Z",
     "start_time": "2019-08-24T13:57:53.781244Z"
    }
   },
   "outputs": [
    {
     "data": {
      "text/plain": [
       "0.921"
      ]
     },
     "execution_count": 20,
     "metadata": {},
     "output_type": "execute_result"
    }
   ],
   "source": [
    "porter.integrity_score(np.random.randint(0,6,211 * 1000).reshape(1000,-1))"
   ]
  },
  {
   "cell_type": "code",
   "execution_count": 7,
   "metadata": {
    "ExecuteTime": {
     "end_time": "2019-08-19T20:22:16.391438Z",
     "start_time": "2019-08-19T20:22:16.387973Z"
    }
   },
   "outputs": [],
   "source": [
    "model = model_3_2[0]"
   ]
  },
  {
   "cell_type": "code",
   "execution_count": 8,
   "metadata": {
    "ExecuteTime": {
     "end_time": "2019-08-19T20:22:43.497909Z",
     "start_time": "2019-08-19T20:22:43.492816Z"
    }
   },
   "outputs": [],
   "source": [
    "# NOT NEEEDED\n",
    "def get_question_numbers(model):\n",
    "    \"\"\"\n",
    "    Args:\n",
    "        extra trees model\n",
    "        \n",
    "    Returns:\n",
    "        list of question numbers\n",
    "    \"\"\"\n",
    "    \n",
    "    nodeid=np.zeros(model.n_estimators).astype(int)\n",
    "    responses={}\n",
    "    while not all(nodeid<0):\n",
    "        [nodeid,responses]=cx.getNodeid(model,nodeid=nodeid,responses=responses,ask=cx.ask)\n",
    "    return list(responses.keys())"
   ]
  },
  {
   "cell_type": "code",
   "execution_count": 21,
   "metadata": {
    "ExecuteTime": {
     "end_time": "2019-08-24T13:59:56.079028Z",
     "start_time": "2019-08-24T13:59:56.072884Z"
    }
   },
   "outputs": [],
   "source": [
    "def extra_tree_to_js(model, out_file):\n",
    "    \"\"\"Create a js file of the extra trees.\n",
    "    \n",
    "    Args:\n",
    "        model: extraTrees model\n",
    "        out_file: file name to write to\n",
    "        \n",
    "    Returns:\n",
    "        Porter\n",
    "    \"\"\"\n",
    "    \n",
    "    porter = Porter(model, language='js')\n",
    "    output = porter.export()\n",
    "    \n",
    "    with open(out_file, 'w') as f:\n",
    "        f.write(output)\n",
    "        \n",
    "    return porter\n",
    "        \n",
    "# write_sklearn_porter(model, OUT_DIR + 'extraTrees.js')"
   ]
  },
  {
   "cell_type": "code",
   "execution_count": 22,
   "metadata": {
    "ExecuteTime": {
     "end_time": "2019-08-24T14:00:31.968032Z",
     "start_time": "2019-08-24T14:00:31.634050Z"
    }
   },
   "outputs": [],
   "source": [
    "def extra_trees_to_js(models, out_dir):\n",
    "    \"\"\"Create multiple js files from list of extra trees\n",
    "    \n",
    "    Args:\n",
    "        models: list of extra trees models\n",
    "        out_dir: directory to write js files\n",
    "        \n",
    "    Returns:\n",
    "        list of porters\n",
    "    \"\"\"\n",
    "    \n",
    "    porters = []\n",
    "    for i, model in enumerate(models):\n",
    "        name = str(i) + '.js'\n",
    "        porter = extra_tree_to_js(model, os.path.join (out_dir, name))\n",
    "        porters.append(porter)\n",
    "    return porters\n",
    "        \n",
    "porters = extra_trees_to_js(model_3_2, OUT_DIR)"
   ]
  },
  {
   "cell_type": "code",
   "execution_count": 27,
   "metadata": {
    "ExecuteTime": {
     "end_time": "2019-08-24T14:13:32.311998Z",
     "start_time": "2019-08-24T14:09:59.684679Z"
    }
   },
   "outputs": [
    {
     "data": {
      "text/plain": [
       "0.859504132231405"
      ]
     },
     "execution_count": 27,
     "metadata": {},
     "output_type": "execute_result"
    }
   ],
   "source": [
    "def calc_integrity(porters, num_samples):\n",
    "    \"\"\"Calculate the integrity of the porter.\n",
    "    \n",
    "    Meaning it calculates the accuracy of the ported \n",
    "    classifier.\n",
    "    The value is between 0 and 1.\n",
    "    \n",
    "    Args:\n",
    "        porters: list of porters\n",
    "        num_samples: number of samples for each porter to test\n",
    "        \n",
    "    Returns:\n",
    "        average probability\n",
    "    \"\"\"\n",
    "    \n",
    "    scores = []\n",
    "    for porter in porters:\n",
    "        random_samples = np.random.randint(0,6,211 * num_samples).reshape(num_samples,-1)\n",
    "        score = porter.integrity_score(random_samples)\n",
    "        scores.append(score)\n",
    "    scores = np.array(scores)\n",
    "    return scores.mean()\n",
    "\n",
    "calc_integrity(porters, 10)"
   ]
  },
  {
   "cell_type": "code",
   "execution_count": 11,
   "metadata": {
    "ExecuteTime": {
     "end_time": "2019-08-19T20:23:58.696070Z",
     "start_time": "2019-08-19T20:23:58.685299Z"
    }
   },
   "outputs": [
    {
     "data": {
      "text/plain": [
       "{'q_numbers': [143, 180, 186, 201, 184, 137, 60, 68, 192, 138, 186, 96, 160],\n",
       " 'thresholds': [2.886,\n",
       "  1.427,\n",
       "  2.942,\n",
       "  4.005,\n",
       "  2.714,\n",
       "  3.89,\n",
       "  2.103,\n",
       "  3.464,\n",
       "  2.977,\n",
       "  1.85,\n",
       "  1.52,\n",
       "  1.816,\n",
       "  2.988]}"
      ]
     },
     "execution_count": 11,
     "metadata": {},
     "output_type": "execute_result"
    }
   ],
   "source": [
    "def parse_extra_tree_js(file_name):\n",
    "    \"\"\"Parse the javascript file for the splits\n",
    "    \n",
    "    Args:\n",
    "        file_name: name of file\n",
    "        \n",
    "    Returns:\n",
    "        dictionary containing question numbers and threshold\n",
    "    \"\"\"\n",
    "    \n",
    "    split_points = {}\n",
    "    q_numbers = []\n",
    "    thresholds = []\n",
    "    \n",
    "    with open(file_name, 'r') as f:\n",
    "        content = f.read()\n",
    "        \n",
    "    instances = re.findall(r'features\\[\\d+\\] <= \\d+\\.\\d+', content)\n",
    "    \n",
    "    for instance in instances:\n",
    "        q_number = int(re.search(r'\\d+|$', instance).group())\n",
    "        threshold = float(re.search(r'\\d+\\.\\d+', instance).group())\n",
    "        threshold = round(threshold, 3)\n",
    "        q_numbers.append(q_number)\n",
    "        thresholds.append(threshold)\n",
    "        \n",
    "    split_points['q_numbers'] = q_numbers\n",
    "    split_points['thresholds'] = thresholds \n",
    "    return split_points\n",
    "\n",
    "split_dict = parse_extra_tree_js(OUT_DIR + 'extraTrees.js')\n",
    "split_dict"
   ]
  },
  {
   "cell_type": "code",
   "execution_count": 16,
   "metadata": {
    "ExecuteTime": {
     "end_time": "2019-08-19T20:29:43.704887Z",
     "start_time": "2019-08-19T20:29:43.616526Z"
    }
   },
   "outputs": [],
   "source": [
    "def parse_multiple_extra_tree_js(file_dir):\n",
    "    \"\"\"Parse multiple javascript files for splits.\n",
    "    CAUTION: right now, we only take the files with exactly 14 splits.\n",
    "    \n",
    "    Args:\n",
    "        file_dir: directory containing the javascript files\n",
    "        \n",
    "    Returns:\n",
    "        \n",
    "    \"\"\"\n",
    "    \n",
    "    file_name_to_split_points = {}\n",
    "    js_files = []\n",
    "    #q_numbers = []\n",
    "    \n",
    "    for file in os.listdir(file_dir):\n",
    "        if file.endswith(\".js\"):\n",
    "            js_files.append(file)\n",
    "    \n",
    "    for js_file in js_files:\n",
    "        split_points = parse_extra_tree_js(os.path.join(file_dir, js_file))\n",
    "        \n",
    "        if len(split_points['q_numbers']) == 14:\n",
    "            file_name_to_split_points['f' + js_file.split('.')[0]] = split_points\n",
    "        #q_numbers.append(split_points['q_numbers'])\n",
    "    \n",
    "    return file_name_to_split_points\n",
    "\n",
    "split_dict = parse_multiple_extra_tree_js(OUT_DIR)"
   ]
  },
  {
   "cell_type": "code",
   "execution_count": 18,
   "metadata": {
    "ExecuteTime": {
     "end_time": "2019-08-19T20:30:02.305752Z",
     "start_time": "2019-08-19T20:30:02.292729Z"
    }
   },
   "outputs": [],
   "source": [
    "with open('../website/js/tree_splits.json', 'w') as json_file:\n",
    "#     json.dump(split_dict, json_file, indent=4, sort_keys=True)\n",
    "    json.dump(split_dict, json_file, sort_keys=True)"
   ]
  },
  {
   "cell_type": "code",
   "execution_count": 10,
   "metadata": {
    "ExecuteTime": {
     "end_time": "2019-08-18T13:52:12.657545Z",
     "start_time": "2019-08-18T13:52:12.652845Z"
    }
   },
   "outputs": [],
   "source": [
    "# responses={}\n",
    "# while not all(nodeid<0):\n",
    "#     [nodeid,responses]=cx.getNodeid(model,nodeid=nodeid,responses=responses,ask=cx.ask)\n",
    "# # return list(responses.keys())"
   ]
  }
 ],
 "metadata": {
  "kernelspec": {
   "display_name": "venv",
   "language": "python",
   "name": "venv"
  },
  "language_info": {
   "codemirror_mode": {
    "name": "ipython",
    "version": 3
   },
   "file_extension": ".py",
   "mimetype": "text/x-python",
   "name": "python",
   "nbconvert_exporter": "python",
   "pygments_lexer": "ipython3",
   "version": "3.7.3"
  },
  "latex_envs": {
   "LaTeX_envs_menu_present": true,
   "autoclose": false,
   "autocomplete": true,
   "bibliofile": "biblio.bib",
   "cite_by": "apalike",
   "current_citInitial": 1,
   "eqLabelWithNumbers": true,
   "eqNumInitial": 1,
   "hotkeys": {
    "equation": "Ctrl-E",
    "itemize": "Ctrl-I"
   },
   "labels_anchors": false,
   "latex_user_defs": false,
   "report_style_numbering": false,
   "user_envs_cfg": false
  },
  "toc": {
   "base_numbering": 1,
   "nav_menu": {},
   "number_sections": true,
   "sideBar": true,
   "skip_h1_title": false,
   "title_cell": "Table of Contents",
   "title_sidebar": "Contents",
   "toc_cell": false,
   "toc_position": {},
   "toc_section_display": true,
   "toc_window_display": false
  },
  "varInspector": {
   "cols": {
    "lenName": 16,
    "lenType": 16,
    "lenVar": 40
   },
   "kernels_config": {
    "python": {
     "delete_cmd_postfix": "",
     "delete_cmd_prefix": "del ",
     "library": "var_list.py",
     "varRefreshCmd": "print(var_dic_list())"
    },
    "r": {
     "delete_cmd_postfix": ") ",
     "delete_cmd_prefix": "rm(",
     "library": "var_list.r",
     "varRefreshCmd": "cat(var_dic_list()) "
    }
   },
   "types_to_exclude": [
    "module",
    "function",
    "builtin_function_or_method",
    "instance",
    "_Feature"
   ],
   "window_display": false
  }
 },
 "nbformat": 4,
 "nbformat_minor": 2
}
