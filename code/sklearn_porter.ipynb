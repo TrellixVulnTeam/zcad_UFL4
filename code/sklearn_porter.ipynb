{
 "cells": [
  {
   "cell_type": "code",
   "execution_count": 1,
   "metadata": {
    "ExecuteTime": {
     "end_time": "2019-09-02T22:57:26.240872Z",
     "start_time": "2019-09-02T22:57:24.549989Z"
    }
   },
   "outputs": [],
   "source": [
    "import sklearn\n",
    "import sys\n",
    "# sys.path.insert(1, \"../../sklearn-porter/sklearn_porter\")\n",
    "sys.path.insert(1, \"../../sklearn-porter\")\n",
    "# from sklearn_porter import Porter\n",
    "# import Porter\n",
    "import pickle\n",
    "from sklearn.externals import joblib\n",
    "import joblib\n",
    "import numpy as np\n",
    "import pandas as pd\n",
    "import os\n",
    "import re\n",
    "import json\n",
    "\n",
    "import ccx as cx\n",
    "# import sklearn_porter.Porter\n",
    "from sklearn_porter import Porter\n",
    "\n",
    "from sklearn.tree import export_graphviz"
   ]
  },
  {
   "cell_type": "code",
   "execution_count": null,
   "metadata": {
    "ExecuteTime": {
     "end_time": "2019-08-31T15:32:19.271769Z",
     "start_time": "2019-08-31T15:32:19.269538Z"
    }
   },
   "outputs": [],
   "source": [
    "# Porter.__version__\n",
    "Porter."
   ]
  },
  {
   "cell_type": "code",
   "execution_count": null,
   "metadata": {
    "ExecuteTime": {
     "end_time": "2019-08-31T15:32:20.869677Z",
     "start_time": "2019-08-31T15:32:20.865513Z"
    }
   },
   "outputs": [],
   "source": [
    "# specifically needs version 0.20.2\n",
    "# can not open pickle file for later versions\n",
    "# activate the virtual environment venv\n",
    "sklearn.__version__"
   ]
  },
  {
   "cell_type": "code",
   "execution_count": 9,
   "metadata": {
    "ExecuteTime": {
     "end_time": "2019-09-03T00:02:43.336590Z",
     "start_time": "2019-09-03T00:02:43.324509Z"
    }
   },
   "outputs": [],
   "source": [
    "MODEL_PATH = '../model/'\n",
    "OUT_DIR = '../website/js/extraTrees/'\n",
    "model_2_3_path = MODEL_PATH + 'model_2_3.pkl'\n",
    "# 3 to 2 is used\n",
    "model_3_2_path = MODEL_PATH + 'model_3_2.pkl'"
   ]
  },
  {
   "cell_type": "code",
   "execution_count": 10,
   "metadata": {
    "ExecuteTime": {
     "end_time": "2019-09-03T00:02:43.667070Z",
     "start_time": "2019-09-03T00:02:43.514448Z"
    }
   },
   "outputs": [],
   "source": [
    "model_2_3 = joblib.load(model_2_3_path)\n",
    "model_3_2 = joblib.load(model_3_2_path)"
   ]
  },
  {
   "cell_type": "code",
   "execution_count": 11,
   "metadata": {
    "ExecuteTime": {
     "end_time": "2019-09-03T00:02:43.987919Z",
     "start_time": "2019-09-03T00:02:43.983993Z"
    }
   },
   "outputs": [
    {
     "name": "stdout",
     "output_type": "stream",
     "text": [
      "198\n",
      "242\n"
     ]
    }
   ],
   "source": [
    "print(len(model_2_3))\n",
    "print(len(model_3_2))"
   ]
  },
  {
   "cell_type": "code",
   "execution_count": 12,
   "metadata": {
    "ExecuteTime": {
     "end_time": "2019-09-03T00:02:44.322613Z",
     "start_time": "2019-09-03T00:02:44.306945Z"
    }
   },
   "outputs": [
    {
     "name": "stdout",
     "output_type": "stream",
     "text": [
      "[0]\n",
      "[[0.69681154 0.30318846]]\n"
     ]
    }
   ],
   "source": [
    "random_input = np.random.randint(0,6,211).reshape(1,-1).astype(float)\n",
    "print(model_2_3[0].predict(random_input))\n",
    "print(model_2_3[0].predict_proba(random_input))"
   ]
  },
  {
   "cell_type": "code",
   "execution_count": 16,
   "metadata": {
    "ExecuteTime": {
     "end_time": "2019-09-03T00:05:13.480621Z",
     "start_time": "2019-09-03T00:05:13.454521Z"
    }
   },
   "outputs": [],
   "source": [
    "porter = Porter(model_3_2[0], language='js')\n",
    "output = porter.export()\n",
    "with open(OUT_DIR + 'extraTrees.js', 'w') as f:\n",
    "    f.write(output)"
   ]
  },
  {
   "cell_type": "code",
   "execution_count": 17,
   "metadata": {
    "ExecuteTime": {
     "end_time": "2019-09-03T00:05:53.593671Z",
     "start_time": "2019-09-03T00:05:53.404649Z"
    }
   },
   "outputs": [
    {
     "ename": "ValueError",
     "evalue": "invalid literal for int() with base 10: '[ 0.6595365418894831, 0.3404634581105169 ]'",
     "output_type": "error",
     "traceback": [
      "\u001b[0;31m---------------------------------------------------------------------------\u001b[0m",
      "\u001b[0;31mValueError\u001b[0m                                Traceback (most recent call last)",
      "\u001b[0;32m<ipython-input-17-ca2aa467cae9>\u001b[0m in \u001b[0;36m<module>\u001b[0;34m\u001b[0m\n\u001b[1;32m      1\u001b[0m \u001b[0mrandom_test_ints\u001b[0m \u001b[0;34m=\u001b[0m \u001b[0mnp\u001b[0m\u001b[0;34m.\u001b[0m\u001b[0mrandom\u001b[0m\u001b[0;34m.\u001b[0m\u001b[0mrandint\u001b[0m\u001b[0;34m(\u001b[0m\u001b[0;36m0\u001b[0m\u001b[0;34m,\u001b[0m\u001b[0;36m6\u001b[0m\u001b[0;34m,\u001b[0m\u001b[0;36m211\u001b[0m \u001b[0;34m*\u001b[0m \u001b[0;36m200\u001b[0m\u001b[0;34m)\u001b[0m\u001b[0;34m.\u001b[0m\u001b[0mreshape\u001b[0m\u001b[0;34m(\u001b[0m\u001b[0;36m200\u001b[0m\u001b[0;34m,\u001b[0m\u001b[0;34m-\u001b[0m\u001b[0;36m1\u001b[0m\u001b[0;34m)\u001b[0m\u001b[0;34m\u001b[0m\u001b[0;34m\u001b[0m\u001b[0m\n\u001b[1;32m      2\u001b[0m \u001b[0mrandom_test_floats\u001b[0m \u001b[0;34m=\u001b[0m \u001b[0mrandom_test_ints\u001b[0m\u001b[0;34m.\u001b[0m\u001b[0mastype\u001b[0m\u001b[0;34m(\u001b[0m\u001b[0mfloat\u001b[0m\u001b[0;34m)\u001b[0m\u001b[0;34m\u001b[0m\u001b[0;34m\u001b[0m\u001b[0m\n\u001b[0;32m----> 3\u001b[0;31m \u001b[0mprint\u001b[0m\u001b[0;34m(\u001b[0m\u001b[0mporter\u001b[0m\u001b[0;34m.\u001b[0m\u001b[0mintegrity_score\u001b[0m\u001b[0;34m(\u001b[0m\u001b[0mrandom_test_ints\u001b[0m\u001b[0;34m)\u001b[0m\u001b[0;34m)\u001b[0m\u001b[0;34m\u001b[0m\u001b[0;34m\u001b[0m\u001b[0m\n\u001b[0m",
      "\u001b[0;32m~/Projects/ZED/sklearn-porter/sklearn_porter/Porter.py\u001b[0m in \u001b[0;36mintegrity_score\u001b[0;34m(self, X, method, normalize, num_format)\u001b[0m\n\u001b[1;32m    429\u001b[0m             \u001b[0my_true\u001b[0m \u001b[0;34m=\u001b[0m \u001b[0mself\u001b[0m\u001b[0;34m.\u001b[0m\u001b[0mestimator\u001b[0m\u001b[0;34m.\u001b[0m\u001b[0mpredict\u001b[0m\u001b[0;34m(\u001b[0m\u001b[0mX\u001b[0m\u001b[0;34m)\u001b[0m\u001b[0;34m\u001b[0m\u001b[0;34m\u001b[0m\u001b[0m\n\u001b[1;32m    430\u001b[0m             y_pred = self.predict(X, tnp_dir='tmp_integrity_score',\n\u001b[0;32m--> 431\u001b[0;31m                                   keep_tmp_dir=True, num_format=num_format)\n\u001b[0m\u001b[1;32m    432\u001b[0m             \u001b[0;32mreturn\u001b[0m \u001b[0maccuracy_score\u001b[0m\u001b[0;34m(\u001b[0m\u001b[0my_true\u001b[0m\u001b[0;34m,\u001b[0m \u001b[0my_pred\u001b[0m\u001b[0;34m,\u001b[0m \u001b[0mnormalize\u001b[0m\u001b[0;34m=\u001b[0m\u001b[0mnormalize\u001b[0m\u001b[0;34m)\u001b[0m\u001b[0;34m\u001b[0m\u001b[0;34m\u001b[0m\u001b[0m\n\u001b[1;32m    433\u001b[0m \u001b[0;34m\u001b[0m\u001b[0m\n",
      "\u001b[0;32m~/Projects/ZED/sklearn-porter/sklearn_porter/Porter.py\u001b[0m in \u001b[0;36mpredict\u001b[0;34m(self, X, class_name, method_name, tnp_dir, keep_tmp_dir, num_format)\u001b[0m\n\u001b[1;32m    380\u001b[0m                 \u001b[0mfull_exec_cmd\u001b[0m \u001b[0;34m=\u001b[0m \u001b[0mexec_cmd\u001b[0m \u001b[0;34m+\u001b[0m \u001b[0;34m[\u001b[0m\u001b[0mstr\u001b[0m\u001b[0;34m(\u001b[0m\u001b[0mf\u001b[0m\u001b[0;34m)\u001b[0m\u001b[0;34m.\u001b[0m\u001b[0mstrip\u001b[0m\u001b[0;34m(\u001b[0m\u001b[0;34m)\u001b[0m \u001b[0;32mfor\u001b[0m \u001b[0mf\u001b[0m \u001b[0;32min\u001b[0m \u001b[0mfeatures\u001b[0m\u001b[0;34m]\u001b[0m\u001b[0;34m\u001b[0m\u001b[0;34m\u001b[0m\u001b[0m\n\u001b[1;32m    381\u001b[0m                 \u001b[0mpred\u001b[0m \u001b[0;34m=\u001b[0m \u001b[0mShell\u001b[0m\u001b[0;34m.\u001b[0m\u001b[0mcheck_output\u001b[0m\u001b[0;34m(\u001b[0m\u001b[0mfull_exec_cmd\u001b[0m\u001b[0;34m,\u001b[0m \u001b[0mcwd\u001b[0m\u001b[0;34m=\u001b[0m\u001b[0mtnp_dir\u001b[0m\u001b[0;34m)\u001b[0m\u001b[0;34m\u001b[0m\u001b[0;34m\u001b[0m\u001b[0m\n\u001b[0;32m--> 382\u001b[0;31m                 \u001b[0mpred_y\u001b[0m\u001b[0;34m[\u001b[0m\u001b[0midx\u001b[0m\u001b[0;34m]\u001b[0m \u001b[0;34m=\u001b[0m \u001b[0mint\u001b[0m\u001b[0;34m(\u001b[0m\u001b[0mpred\u001b[0m\u001b[0;34m)\u001b[0m\u001b[0;34m\u001b[0m\u001b[0;34m\u001b[0m\u001b[0m\n\u001b[0m\u001b[1;32m    383\u001b[0m \u001b[0;34m\u001b[0m\u001b[0m\n\u001b[1;32m    384\u001b[0m         \u001b[0;31m# Cleanup:\u001b[0m\u001b[0;34m\u001b[0m\u001b[0;34m\u001b[0m\u001b[0;34m\u001b[0m\u001b[0m\n",
      "\u001b[0;31mValueError\u001b[0m: invalid literal for int() with base 10: '[ 0.6595365418894831, 0.3404634581105169 ]'"
     ]
    }
   ],
   "source": [
    "random_test_ints = np.random.randint(0,6,211 * 200).reshape(200,-1)\n",
    "random_test_floats = random_test_ints.astype(float)\n",
    "print(porter.integrity_score(random_test_ints))"
   ]
  },
  {
   "cell_type": "code",
   "execution_count": null,
   "metadata": {
    "ExecuteTime": {
     "end_time": "2019-09-03T00:02:44.717954Z",
     "start_time": "2019-09-03T00:02:44.396Z"
    }
   },
   "outputs": [],
   "source": [
    "model = model_3_2[0]\n",
    "def drawTrees(model,PREF='../'):\n",
    "    '''\n",
    "        draw the estimators (trees)\n",
    "        in a single model\n",
    "    '''\n",
    "    N=len(model.estimators_)\n",
    "\n",
    "    for count in range(N):\n",
    "        estimator = model.estimators_[count]\n",
    "\n",
    "        export_graphviz(estimator, out_file=PREF+'tree.dot', \n",
    "                        #feature_names = iris.feature_names,\n",
    "                        #class_names = iris.target_names,\n",
    "                        rounded = True, proportion = False, \n",
    "                        precision = 2, filled = True)\n",
    "\n",
    "        from subprocess import call\n",
    "        call(['dot', '-Tpng',  PREF+'tree.dot', '-o', PREF+'tree'+str(count)+'.png', '-Gdpi=600'])\n",
    "        from IPython.display import Image\n",
    "        Image(filename = PREF+'tree'+str(count)+'.png') \n",
    "        \n",
    "        \n",
    "drawTrees(porter.estimator, \"graphs/\")"
   ]
  },
  {
   "cell_type": "code",
   "execution_count": null,
   "metadata": {
    "ExecuteTime": {
     "end_time": "2019-09-03T00:02:44.725275Z",
     "start_time": "2019-09-03T00:02:44.555Z"
    }
   },
   "outputs": [],
   "source": [
    "# NOT NEEEDED\n",
    "def get_question_numbers(model):\n",
    "    \"\"\"\n",
    "    Args:\n",
    "        extra trees model\n",
    "        \n",
    "    Returns:\n",
    "        list of question numbers\n",
    "    \"\"\"\n",
    "    \n",
    "    nodeid=np.zeros(model.n_estimators).astype(int)\n",
    "    responses={}\n",
    "    while not all(nodeid<0):\n",
    "        [nodeid,responses]=cx.getNodeid(model,nodeid=nodeid,responses=responses,ask=cx.ask)\n",
    "    return list(responses.keys())"
   ]
  },
  {
   "cell_type": "code",
   "execution_count": 20,
   "metadata": {
    "ExecuteTime": {
     "end_time": "2019-09-03T00:06:58.926138Z",
     "start_time": "2019-09-03T00:06:58.921984Z"
    }
   },
   "outputs": [],
   "source": [
    "def extra_tree_to_js(model, out_file):\n",
    "    \"\"\"Create a js file of the extra trees.\n",
    "    \n",
    "    Args:\n",
    "        model: extraTrees model\n",
    "        out_file: file name to write to\n",
    "        \n",
    "    Returns:\n",
    "        Porter\n",
    "    \"\"\"\n",
    "    \n",
    "    porter = Porter(model, language='js')\n",
    "    output = porter.export()\n",
    "    \n",
    "    with open(out_file, 'w') as f:\n",
    "        f.write(output)\n",
    "        \n",
    "    return porter\n",
    "        \n",
    "# write_sklearn_porter(model, OUT_DIR + 'extraTrees.js')"
   ]
  },
  {
   "cell_type": "code",
   "execution_count": 21,
   "metadata": {
    "ExecuteTime": {
     "end_time": "2019-09-03T00:06:59.669056Z",
     "start_time": "2019-09-03T00:06:59.314979Z"
    }
   },
   "outputs": [],
   "source": [
    "def extra_trees_to_js(models, out_dir):\n",
    "    \"\"\"Create multiple js files from list of extra trees\n",
    "    \n",
    "    Args:\n",
    "        models: list of extra trees models\n",
    "        out_dir: directory to write js files\n",
    "        \n",
    "    Returns:\n",
    "        list of porters\n",
    "    \"\"\"\n",
    "    \n",
    "    porters = []\n",
    "    for i, model in enumerate(models):\n",
    "        name = str(i) + '.js'\n",
    "        porter = extra_tree_to_js(model, os.path.join (out_dir, name))\n",
    "        porters.append(porter)\n",
    "    return porters\n",
    "        \n",
    "porters = extra_trees_to_js(model_3_2, OUT_DIR)"
   ]
  },
  {
   "cell_type": "code",
   "execution_count": null,
   "metadata": {
    "ExecuteTime": {
     "end_time": "2019-08-31T14:11:25.901523Z",
     "start_time": "2019-08-31T14:07:53.418706Z"
    }
   },
   "outputs": [],
   "source": [
    "def calc_integrity(porters, num_samples):\n",
    "    \"\"\"Calculate the integrity of the porter.\n",
    "    \n",
    "    Meaning it calculates the accuracy of the ported \n",
    "    classifier.\n",
    "    The value is between 0 and 1.\n",
    "    \n",
    "    Args:\n",
    "        porters: list of porters\n",
    "        num_samples: number of samples for each porter to test\n",
    "        \n",
    "    Returns:\n",
    "        average probability\n",
    "    \"\"\"\n",
    "    \n",
    "    scores = []\n",
    "    for porter in porters:\n",
    "        random_samples = np.random.randint(0,6,211 * num_samples).reshape(num_samples,-1)\n",
    "        score = porter.integrity_score(random_samples)\n",
    "        scores.append(score)\n",
    "    scores = np.array(scores)\n",
    "    return scores.mean()\n",
    "\n",
    "calc_integrity(porters, 10)"
   ]
  },
  {
   "cell_type": "code",
   "execution_count": 22,
   "metadata": {
    "ExecuteTime": {
     "end_time": "2019-09-03T00:07:04.536904Z",
     "start_time": "2019-09-03T00:07:04.523204Z"
    }
   },
   "outputs": [
    {
     "data": {
      "text/plain": [
       "{'q_numbers': [131, 143, 140, 3, 191, 82, 98, 152, 194, 69, 208, 170, 49, 129],\n",
       " 'thresholds': [2.966,\n",
       "  3.174,\n",
       "  1.909,\n",
       "  3.404,\n",
       "  2.533,\n",
       "  1.421,\n",
       "  3.034,\n",
       "  2.114,\n",
       "  1.047,\n",
       "  2.736,\n",
       "  4.112,\n",
       "  2.029,\n",
       "  3.257,\n",
       "  3.349]}"
      ]
     },
     "execution_count": 22,
     "metadata": {},
     "output_type": "execute_result"
    }
   ],
   "source": [
    "def parse_extra_tree_js(file_name):\n",
    "    \"\"\"Parse the javascript file for the splits\n",
    "    \n",
    "    Args:\n",
    "        file_name: name of file\n",
    "        \n",
    "    Returns:\n",
    "        dictionary containing question numbers and threshold\n",
    "    \"\"\"\n",
    "    \n",
    "    split_points = {}\n",
    "    q_numbers = []\n",
    "    thresholds = []\n",
    "    \n",
    "    with open(file_name, 'r') as f:\n",
    "        content = f.read()\n",
    "        \n",
    "    instances = re.findall(r'features\\[\\d+\\] <= \\d+\\.\\d+', content)\n",
    "    \n",
    "    for instance in instances:\n",
    "        q_number = int(re.search(r'\\d+|$', instance).group())\n",
    "        threshold = float(re.search(r'\\d+\\.\\d+', instance).group())\n",
    "        threshold = round(threshold, 3)\n",
    "        q_numbers.append(q_number)\n",
    "        thresholds.append(threshold)\n",
    "        \n",
    "    split_points['q_numbers'] = q_numbers\n",
    "    split_points['thresholds'] = thresholds \n",
    "    return split_points\n",
    "\n",
    "split_dict = parse_extra_tree_js(OUT_DIR + 'extraTrees.js')\n",
    "split_dict"
   ]
  },
  {
   "cell_type": "code",
   "execution_count": 23,
   "metadata": {
    "ExecuteTime": {
     "end_time": "2019-09-03T00:07:06.898532Z",
     "start_time": "2019-09-03T00:07:06.818348Z"
    }
   },
   "outputs": [],
   "source": [
    "def parse_multiple_extra_tree_js(file_dir):\n",
    "    \"\"\"Parse multiple javascript files for splits.\n",
    "    CAUTION: right now, we only take the files with exactly 14 splits.\n",
    "    \n",
    "    Args:\n",
    "        file_dir: directory containing the javascript files\n",
    "        \n",
    "    Returns:\n",
    "        \n",
    "    \"\"\"\n",
    "    \n",
    "    file_name_to_split_points = {}\n",
    "    js_files = []\n",
    "    #q_numbers = []\n",
    "    \n",
    "    for file in os.listdir(file_dir):\n",
    "        if file.endswith(\".js\"):\n",
    "            js_files.append(file)\n",
    "    \n",
    "    for js_file in js_files:\n",
    "        split_points = parse_extra_tree_js(os.path.join(file_dir, js_file))\n",
    "        \n",
    "        if len(split_points['q_numbers']) == 14:\n",
    "            file_name_to_split_points['f' + js_file.split('.')[0]] = split_points\n",
    "        #q_numbers.append(split_points['q_numbers'])\n",
    "    \n",
    "    return file_name_to_split_points\n",
    "\n",
    "split_dict = parse_multiple_extra_tree_js(OUT_DIR)"
   ]
  },
  {
   "cell_type": "code",
   "execution_count": 24,
   "metadata": {
    "ExecuteTime": {
     "end_time": "2019-09-03T00:07:09.572268Z",
     "start_time": "2019-09-03T00:07:09.560254Z"
    }
   },
   "outputs": [],
   "source": [
    "with open('../website/js/tree_splits.json', 'w') as json_file:\n",
    "#     json.dump(split_dict, json_file, indent=4, sort_keys=True)\n",
    "    json.dump(split_dict, json_file, sort_keys=True)"
   ]
  },
  {
   "cell_type": "code",
   "execution_count": 63,
   "metadata": {
    "ExecuteTime": {
     "end_time": "2019-09-03T01:08:58.427323Z",
     "start_time": "2019-09-03T01:08:58.393636Z"
    }
   },
   "outputs": [],
   "source": [
    "items = \"ptsd_items.xlsx\"\n",
    "ptsd_items = pd.read_excel(items)\n",
    "ptsd_items.set_index(\"Variable / Field Name\", inplace=True)\n",
    "ptsd_items.columns = ['questions', 'choices']\n",
    "ptsd_items[\"choices\"] = ptsd_items[\"choices\"].map(lambda x: x.replace('|', '<br>').replace(\",\", \":\"))"
   ]
  },
  {
   "cell_type": "code",
   "execution_count": 64,
   "metadata": {
    "ExecuteTime": {
     "end_time": "2019-09-03T01:08:58.792001Z",
     "start_time": "2019-09-03T01:08:58.784579Z"
    }
   },
   "outputs": [
    {
     "data": {
      "text/html": [
       "<div>\n",
       "<style scoped>\n",
       "    .dataframe tbody tr th:only-of-type {\n",
       "        vertical-align: middle;\n",
       "    }\n",
       "\n",
       "    .dataframe tbody tr th {\n",
       "        vertical-align: top;\n",
       "    }\n",
       "\n",
       "    .dataframe thead th {\n",
       "        text-align: right;\n",
       "    }\n",
       "</style>\n",
       "<table border=\"1\" class=\"dataframe\">\n",
       "  <thead>\n",
       "    <tr style=\"text-align: right;\">\n",
       "      <th></th>\n",
       "      <th>questions</th>\n",
       "      <th>choices</th>\n",
       "    </tr>\n",
       "    <tr>\n",
       "      <th>Variable / Field Name</th>\n",
       "      <th></th>\n",
       "      <th></th>\n",
       "    </tr>\n",
       "  </thead>\n",
       "  <tbody>\n",
       "    <tr>\n",
       "      <th>ptsd1</th>\n",
       "      <td>During a stressful event in the past, how much...</td>\n",
       "      <td>1: Not at all &lt;br&gt; 2: A little bit &lt;br&gt; 3: Mod...</td>\n",
       "    </tr>\n",
       "    <tr>\n",
       "      <th>ptsd2</th>\n",
       "      <td>During a stressful event in the past, how many...</td>\n",
       "      <td>1: None &lt;br&gt; 2: A few &lt;br&gt; 3: At least half &lt;b...</td>\n",
       "    </tr>\n",
       "    <tr>\n",
       "      <th>ptsd3</th>\n",
       "      <td>During a stressful event in the past, I person...</td>\n",
       "      <td>1: Not at all &lt;br&gt; 2: A little bit &lt;br&gt; 3: Mod...</td>\n",
       "    </tr>\n",
       "    <tr>\n",
       "      <th>ptsd4</th>\n",
       "      <td>During a stressful event in the past, I observ...</td>\n",
       "      <td>1: Never &lt;br&gt; 2: Rarely &lt;br&gt; 3: Sometimes &lt;br&gt;...</td>\n",
       "    </tr>\n",
       "    <tr>\n",
       "      <th>ptsd5</th>\n",
       "      <td>During a stressful event in the past, someone ...</td>\n",
       "      <td>1: Never &lt;br&gt; 2: Rarely &lt;br&gt; 3: Sometimes &lt;br&gt;...</td>\n",
       "    </tr>\n",
       "  </tbody>\n",
       "</table>\n",
       "</div>"
      ],
      "text/plain": [
       "                                                               questions  \\\n",
       "Variable / Field Name                                                      \n",
       "ptsd1                  During a stressful event in the past, how much...   \n",
       "ptsd2                  During a stressful event in the past, how many...   \n",
       "ptsd3                  During a stressful event in the past, I person...   \n",
       "ptsd4                  During a stressful event in the past, I observ...   \n",
       "ptsd5                  During a stressful event in the past, someone ...   \n",
       "\n",
       "                                                                 choices  \n",
       "Variable / Field Name                                                     \n",
       "ptsd1                  1: Not at all <br> 2: A little bit <br> 3: Mod...  \n",
       "ptsd2                  1: None <br> 2: A few <br> 3: At least half <b...  \n",
       "ptsd3                  1: Not at all <br> 2: A little bit <br> 3: Mod...  \n",
       "ptsd4                  1: Never <br> 2: Rarely <br> 3: Sometimes <br>...  \n",
       "ptsd5                  1: Never <br> 2: Rarely <br> 3: Sometimes <br>...  "
      ]
     },
     "execution_count": 64,
     "metadata": {},
     "output_type": "execute_result"
    }
   ],
   "source": [
    "ptsd_items.head()"
   ]
  },
  {
   "cell_type": "code",
   "execution_count": 65,
   "metadata": {
    "ExecuteTime": {
     "end_time": "2019-09-03T01:09:01.658761Z",
     "start_time": "2019-09-03T01:09:01.652096Z"
    }
   },
   "outputs": [
    {
     "data": {
      "text/plain": [
       "array(['1: Not at all <br> 2: A little bit <br> 3: Moderately <br> 4: Quite a bit <br> 5: Very much <br> ',\n",
       "       '1: None <br> 2: A few <br> 3: At least half <br> 4: More than half <br> ',\n",
       "       '1: Never <br> 2: Rarely <br> 3: Sometimes <br> 4: Often <br> '],\n",
       "      dtype=object)"
      ]
     },
     "execution_count": 65,
     "metadata": {},
     "output_type": "execute_result"
    }
   ],
   "source": [
    "ptsd_items[\"choices\"].unique()"
   ]
  },
  {
   "cell_type": "code",
   "execution_count": 66,
   "metadata": {
    "ExecuteTime": {
     "end_time": "2019-09-03T01:09:02.043346Z",
     "start_time": "2019-09-03T01:09:02.032214Z"
    }
   },
   "outputs": [],
   "source": [
    "def ptsd_items_to_json():\n",
    "    dict_ = {}\n",
    "    for i, q in enumerate(ptsd_items.index):\n",
    "        items = {}\n",
    "        items[\"questions\"] = ptsd_items[\"questions\"][i]\n",
    "        items[\"choices\"] = ptsd_items[\"choices\"][i]\n",
    "        dict_[q] = items\n",
    "#         print (q)\n",
    "    return dict_\n",
    "        \n",
    "ptsd_items_dict = ptsd_items_to_json()\n"
   ]
  },
  {
   "cell_type": "code",
   "execution_count": 67,
   "metadata": {
    "ExecuteTime": {
     "end_time": "2019-09-03T01:09:02.703854Z",
     "start_time": "2019-09-03T01:09:02.696511Z"
    }
   },
   "outputs": [],
   "source": [
    "with open(\"../website/js/questions.json\", 'w') as outfile:\n",
    "    json.dump(ptsd_items_dict, outfile)"
   ]
  },
  {
   "cell_type": "code",
   "execution_count": 60,
   "metadata": {
    "ExecuteTime": {
     "end_time": "2019-09-03T00:27:52.693050Z",
     "start_time": "2019-09-03T00:27:52.689767Z"
    }
   },
   "outputs": [],
   "source": [
    "# for i in ptsd_items.index:\n",
    "#     print(i)"
   ]
  },
  {
   "cell_type": "code",
   "execution_count": null,
   "metadata": {},
   "outputs": [],
   "source": []
  }
 ],
 "metadata": {
  "kernelspec": {
   "display_name": "venv",
   "language": "python",
   "name": "venv"
  },
  "language_info": {
   "codemirror_mode": {
    "name": "ipython",
    "version": 3
   },
   "file_extension": ".py",
   "mimetype": "text/x-python",
   "name": "python",
   "nbconvert_exporter": "python",
   "pygments_lexer": "ipython3",
   "version": "3.7.3"
  },
  "latex_envs": {
   "LaTeX_envs_menu_present": true,
   "autoclose": false,
   "autocomplete": true,
   "bibliofile": "biblio.bib",
   "cite_by": "apalike",
   "current_citInitial": 1,
   "eqLabelWithNumbers": true,
   "eqNumInitial": 1,
   "hotkeys": {
    "equation": "Ctrl-E",
    "itemize": "Ctrl-I"
   },
   "labels_anchors": false,
   "latex_user_defs": false,
   "report_style_numbering": false,
   "user_envs_cfg": false
  },
  "toc": {
   "base_numbering": 1,
   "nav_menu": {},
   "number_sections": true,
   "sideBar": true,
   "skip_h1_title": false,
   "title_cell": "Table of Contents",
   "title_sidebar": "Contents",
   "toc_cell": false,
   "toc_position": {},
   "toc_section_display": true,
   "toc_window_display": false
  },
  "varInspector": {
   "cols": {
    "lenName": 16,
    "lenType": 16,
    "lenVar": 40
   },
   "kernels_config": {
    "python": {
     "delete_cmd_postfix": "",
     "delete_cmd_prefix": "del ",
     "library": "var_list.py",
     "varRefreshCmd": "print(var_dic_list())"
    },
    "r": {
     "delete_cmd_postfix": ") ",
     "delete_cmd_prefix": "rm(",
     "library": "var_list.r",
     "varRefreshCmd": "cat(var_dic_list()) "
    }
   },
   "types_to_exclude": [
    "module",
    "function",
    "builtin_function_or_method",
    "instance",
    "_Feature"
   ],
   "window_display": false
  }
 },
 "nbformat": 4,
 "nbformat_minor": 2
}
