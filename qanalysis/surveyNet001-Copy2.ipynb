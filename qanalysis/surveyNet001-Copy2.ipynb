{
 "cells": [
  {
   "cell_type": "code",
   "execution_count": 353,
   "metadata": {},
   "outputs": [],
   "source": [
    "import pandas as pd\n",
    "import numpy as np\n",
    "import os\n",
    "import re\n",
    "from quasinet.qnet import Qnet, qdistance, membership_degree, export_qnet_tree,load_qnet, qdistance_matrix, save_qnet\n",
    "from quasinet.qsampling import qsample, targeted_qsample\n",
    "import subprocess\n",
    "EMBED='/home/ishanu/Dropbox/ZED/Research/data_smashing_/bin/embed '\n",
    "import seaborn as sns\n",
    "import random\n",
    "from tqdm import tqdm\n",
    "from pqdm.processes import pqdm                                                                     \n",
    "from sklearn import metrics\n",
    "import pylab as plt\n",
    "from sklearn.decomposition import PCA\n"
   ]
  },
  {
   "cell_type": "code",
   "execution_count": 2,
   "metadata": {},
   "outputs": [
    {
     "data": {
      "text/plain": [
       "169"
      ]
     },
     "execution_count": 2,
     "metadata": {},
     "output_type": "execute_result"
    }
   ],
   "source": [
    "COLSA=[1,2,3,4,5,6,7,8,9,10,11,12,13,14,15,68,69,70,72,73,78,80,86,87,88,89,90,94,95,96,97,98,99,100,102,103,125,126,127,128,129,130,209,210,211,212,213,215,216,217,218,219,220,221,222,223,224,225,226,227,228,229,230,231,232,16,17,18,19,20,21,22,23,24,25,26,27,28,29,30,31,32,33,34,39,40,41,42,45,46,47,48,49,50,51,52,53,54,55,56,57,58,59,60,61,62,63,64,65,233,234,235,236,237,238,239,240,241,242,243,244,245,246,247,248,249,250,251,252,134,137,144,145,146,147,148,149,150,151,152,153,154,155,156,157,158,159,160,161,162,189,190,191,193,195,196,200,201,202,203,205,206,208,177,183,185,186,187,188]\n",
    "COLSA=np.array(COLSA).astype(int)-1\n",
    "len(COLSA)"
   ]
  },
  {
   "cell_type": "code",
   "execution_count": 3,
   "metadata": {},
   "outputs": [],
   "source": [
    "xf=pd.read_csv('cjust/SA.dat',sep=' ',header=None,index_col=0,names=['data'])\n",
    "pd.DataFrame([list(x[0]) for x in xf.values]).to_csv('cjust/SA.csv',index=None)"
   ]
  },
  {
   "cell_type": "code",
   "execution_count": 4,
   "metadata": {},
   "outputs": [],
   "source": [
    "xf=pd.read_csv('cjust/JAIL.dat',header=None,names=['data'])\n",
    "pd.DataFrame([list(x[0]) for x in xf.values]).to_csv('cjust/JAIL.csv',index=None)"
   ]
  },
  {
   "cell_type": "code",
   "execution_count": 308,
   "metadata": {},
   "outputs": [
    {
     "data": {
      "text/plain": [
       "476"
      ]
     },
     "execution_count": 308,
     "metadata": {},
     "output_type": "execute_result"
    }
   ],
   "source": [
    "jf.index.size"
   ]
  },
  {
   "cell_type": "code",
   "execution_count": 5,
   "metadata": {},
   "outputs": [
    {
     "data": {
      "text/plain": [
       "array([['2', '2', '2', ..., '6', '6', '6'],\n",
       "       ['1', '', '1', ..., '', '', ''],\n",
       "       ['', '', '2', ..., '', '', ''],\n",
       "       ...,\n",
       "       ['', '', '2', ..., '', '', ''],\n",
       "       ['1', '', '1', ..., '', '', ''],\n",
       "       ['', '', '2', ..., '', '', '']], dtype='<U1')"
      ]
     },
     "execution_count": 5,
     "metadata": {},
     "output_type": "execute_result"
    }
   ],
   "source": [
    "jf=pd.read_csv('cjust/JAIL.csv')\n",
    "jf=jf.astype(str).replace('0','')\n",
    "Xj = jf.values.astype(str)[:]\n",
    "Xj"
   ]
  },
  {
   "cell_type": "code",
   "execution_count": 253,
   "metadata": {},
   "outputs": [
    {
     "data": {
      "text/plain": [
       "0    12.60084\n",
       "dtype: float64"
      ]
     },
     "execution_count": 253,
     "metadata": {},
     "output_type": "execute_result"
    }
   ],
   "source": [
    "pd.DataFrame(jf.replace('',np.nan).count(axis=1)).mean()"
   ]
  },
  {
   "cell_type": "code",
   "execution_count": 6,
   "metadata": {},
   "outputs": [],
   "source": [
    "df=pd.read_csv('cjust/SA.csv')\n",
    "df=df.iloc[:,COLSA]\n",
    "df=df.astype(str).replace('0','')"
   ]
  },
  {
   "cell_type": "code",
   "execution_count": 254,
   "metadata": {},
   "outputs": [
    {
     "data": {
      "text/plain": [
       "0      2\n",
       "1      2\n",
       "2      2\n",
       "3      2\n",
       "4      2\n",
       "      ..\n",
       "182    6\n",
       "184    6\n",
       "185    6\n",
       "186    6\n",
       "187    6\n",
       "Name: 0, Length: 169, dtype: object"
      ]
     },
     "execution_count": 254,
     "metadata": {},
     "output_type": "execute_result"
    }
   ],
   "source": []
  },
  {
   "cell_type": "code",
   "execution_count": 7,
   "metadata": {},
   "outputs": [
    {
     "data": {
      "text/plain": [
       "array([['2', '2', '2', ..., '6', '6', '6'],\n",
       "       ['2', '2', '1', ..., '1', '1', '1'],\n",
       "       ['2', '2', '2', ..., '4', '', '1'],\n",
       "       ...,\n",
       "       ['1', '1', '1', ..., '', '', ''],\n",
       "       ['2', '1', '1', ..., '', '', ''],\n",
       "       ['2', '1', '2', ..., '', '', '']], dtype='<U1')"
      ]
     },
     "execution_count": 7,
     "metadata": {},
     "output_type": "execute_result"
    }
   ],
   "source": [
    "X = df.values.astype(str)[:]\n",
    "X"
   ]
  },
  {
   "cell_type": "code",
   "execution_count": 8,
   "metadata": {},
   "outputs": [],
   "source": [
    "qnet = Qnet(n_jobs=12,feature_names=df.columns.values).fit(X)"
   ]
  },
  {
   "cell_type": "code",
   "execution_count": 318,
   "metadata": {},
   "outputs": [],
   "source": [
    "qnetj = Qnet(n_jobs=12,feature_names=df.columns.values).fit(Xj)\n",
    "save_qnet(qnetj,'cjustJAIL.joblib')"
   ]
  },
  {
   "cell_type": "code",
   "execution_count": 9,
   "metadata": {},
   "outputs": [],
   "source": [
    "save_qnet(qnet,'cjustSA.joblib')"
   ]
  },
  {
   "cell_type": "code",
   "execution_count": null,
   "metadata": {},
   "outputs": [],
   "source": [
    "qnet=load_qnet('cjustSA.joblib')"
   ]
  },
  {
   "cell_type": "code",
   "execution_count": 10,
   "metadata": {},
   "outputs": [],
   "source": [
    "out_dirname='./cjust/'\n",
    "for idx, feature_name in enumerate(qnet.feature_names):\n",
    "            export_qnet_tree(qnet, idx,\n",
    "            os.path.join(out_dirname, '{}.dot'.format(feature_name)),\n",
    "            outformat='graphviz', detailed_output=False)"
   ]
  },
  {
   "cell_type": "code",
   "execution_count": 330,
   "metadata": {},
   "outputs": [
    {
     "name": "stdout",
     "output_type": "stream",
     "text": [
      "0.25446291295238976 0.7597823277435393 0.02887689168073047\n"
     ]
    }
   ],
   "source": [
    "# test qdistance calculation\n",
    "seq1 = X[1]\n",
    "seq2 = Xj[20]\n",
    "\n",
    "qdist = qdistance(seq1, seq2,qnet,qnet) \n",
    "qdistj = qdistance(seq1, seq2,qnet,qnetj) \n",
    "qdistjj = qdistance(seq1, seq2,qnetj,qnetj) \n",
    "print(qdist,qdistj,qdistjj)"
   ]
  },
  {
   "cell_type": "code",
   "execution_count": 355,
   "metadata": {},
   "outputs": [],
   "source": [
    "n=475\n",
    "Nsteps0=100\n",
    "Nsteps=1000\n",
    "\n",
    "index1 = np.random.choice(X.shape[0], n, replace=False)  \n",
    "index2 = np.random.choice(Xj.shape[0], n, replace=False)  \n",
    "index1a = np.random.choice(X.shape[0], n, replace=False)  \n",
    "\n",
    "\n",
    "Xj_=Xj[index2]\n",
    "X_=X[index1]\n",
    "\n",
    "A=pd.DataFrame(X_).replace('',np.nan).values.astype(float)*(1/((Xj_=='').astype(int)))\n",
    "A1=pd.DataFrame(A).replace(np.inf,np.nan).fillna('').astype(str)#\n",
    "X__=A1.replace({'\\.0': ''},regex=True).values.astype(str)[:]\n",
    "\n",
    "X_=X[index1a]\n",
    "A=pd.DataFrame(X_).replace('',np.nan).values.astype(float)*(1/((Xj_=='').astype(int)))\n",
    "A1=pd.DataFrame(A).replace(np.inf,np.nan).fillna('').astype(str)#\n",
    "X__a=A1.replace({'\\.0': ''},regex=True).values.astype(str)[:]\n",
    "\n",
    " \n",
    "X_=np.concatenate( (X__, X__a,\n",
    "                     Xj_), axis=0)\n",
    "\n",
    "LABEL=np.concatenate((np.zeros(len(index1)),np.zeros(len(index1)),np.ones(len(index2))))"
   ]
  },
  {
   "cell_type": "raw",
   "metadata": {},
   "source": [
    "# get random samples from X, Xj\n",
    "n=50\n",
    "Nsteps0=100\n",
    "Nsteps=1000\n",
    "\n",
    "index1 = np.random.choice(X.shape[0], n, replace=False)  \n",
    "index2 = np.random.choice(Xj.shape[0], n, replace=False)  \n",
    "\n",
    "\n",
    "Xj_=Xj[index2]\n",
    "Xj__=[qsample(s,qnet,Nsteps) for s in tqdm(Xj_)]\n",
    "\n",
    "\n",
    "X_=X[index1]\n",
    "X__=[qsample(s,qnet,Nsteps0) for s in tqdm(X_)]\n",
    "\n",
    "\n",
    "X_=np.concatenate( (X__, Xj__), axis=0)\n",
    "LABEL=np.concatenate((np.zeros(len(index1)),np.ones(len(index2))))"
   ]
  },
  {
   "cell_type": "code",
   "execution_count": 332,
   "metadata": {},
   "outputs": [
    {
     "data": {
      "text/plain": [
       "(950, 950)"
      ]
     },
     "execution_count": 332,
     "metadata": {},
     "output_type": "execute_result"
    }
   ],
   "source": [
    "# generate distanec matrix\n",
    "H=qdistance_matrix(X_,X_, qnetj, qnetj)\n",
    "\n",
    "pd.DataFrame(H).to_csv('cjust/HMATjj.csv',index=None,header=None,sep=' ')\n",
    "H.shape"
   ]
  },
  {
   "cell_type": "code",
   "execution_count": 333,
   "metadata": {},
   "outputs": [],
   "source": [
    "# calculate sippl embedding\n",
    "\n",
    "PREF='./cjust/'\n",
    "FILE='HMATjj.csv'\n",
    "DATAFILE=PREF+FILE#'data_'\n",
    "EFILE=PREF+'_Eb1_'\n",
    "DFILE=PREF+'_Db1_'\n",
    "PCAEFILE=PREF+'_PEb1_'"
   ]
  },
  {
   "cell_type": "code",
   "execution_count": 334,
   "metadata": {},
   "outputs": [],
   "source": [
    "STR=EMBED+' -f '+DATAFILE+' -E '+EFILE+' -D '+DFILE\n",
    "subprocess.call(STR,shell=True);"
   ]
  },
  {
   "cell_type": "code",
   "execution_count": 335,
   "metadata": {},
   "outputs": [
    {
     "data": {
      "text/plain": [
       "<matplotlib.axes._subplots.AxesSubplot at 0x7f797abb7470>"
      ]
     },
     "execution_count": 335,
     "metadata": {},
     "output_type": "execute_result"
    },
    {
     "data": {
      "image/png": "[encoded data removed]",
      "text/plain": [
       "<Figure size 432x288 with 1 Axes>"
      ]
     },
     "metadata": {},
     "output_type": "display_data"
    }
   ],
   "source": [
    "# plot dimensional error\n",
    "pd.read_csv(DFILE,sep=' ',header=None).transpose().plot(style='ko')"
   ]
  },
  {
   "cell_type": "code",
   "execution_count": 336,
   "metadata": {},
   "outputs": [],
   "source": [
    "# get embedding matrix\n",
    "E=pd.read_csv(EFILE,sep=' ',header=None).dropna(axis=1).transpose()\n",
    "E.columns=['x'+str(i) for i in E.columns]\n",
    "E.to_csv(PREF+'Eb1.csv')"
   ]
  },
  {
   "cell_type": "code",
   "execution_count": 337,
   "metadata": {},
   "outputs": [
    {
     "data": {
      "text/plain": [
       "<matplotlib.axes._subplots.AxesSubplot at 0x7f796456de10>"
      ]
     },
     "execution_count": 337,
     "metadata": {},
     "output_type": "execute_result"
    },
    {
     "data": {
      "image/png": "[encoded data removed]",
      "text/plain": [
       "<Figure size 432x288 with 1 Axes>"
      ]
     },
     "metadata": {},
     "output_type": "display_data"
    }
   ],
   "source": [
    "# scatterplot of emedding, colored with DX\n",
    "sns.scatterplot(E.x0,E.x1,hue=LABEL)"
   ]
  },
  {
   "cell_type": "code",
   "execution_count": 338,
   "metadata": {},
   "outputs": [
    {
     "data": {
      "image/png": "[encoded data removed]",
      "text/plain": [
       "<Figure size 432x288 with 1 Axes>"
      ]
     },
     "metadata": {},
     "output_type": "display_data"
    }
   ],
   "source": [
    "Ef=pd.read_csv(EFILE,sep=' ',header=None).dropna(axis=1).transpose()\n",
    "Ef.columns=['x'+str(i) for i in Ef.columns]\n",
    "xf=Ef#.assign(IF=dx.ido)\n",
    "\n",
    "pca = PCA(n_components=2).fit(xf)\n",
    "ef=pca.fit_transform(xf)\n",
    "\n",
    "pd.DataFrame(ef).to_csv(PCAEFILE,header=None,index=None)\n",
    "\n",
    "sns.scatterplot(x=ef[:,0],y=ef[:,1],hue=LABEL);\n",
    "plt.legend(bbox_to_anchor=(1.05, 1), loc=2, borderaxespad=0.);"
   ]
  },
  {
   "cell_type": "code",
   "execution_count": 339,
   "metadata": {},
   "outputs": [
    {
     "data": {
      "image/png": "[encoded data removed]",
      "text/plain": [
       "<Figure size 432x432 with 1 Axes>"
      ]
     },
     "metadata": {},
     "output_type": "display_data"
    }
   ],
   "source": [
    "def varname(x):\n",
    "    if x:\n",
    "        return 'JAIL'\n",
    "    return 'SA'\n",
    "plt.style.use('fivethirtyeight')\n",
    "fig=plt.figure(figsize=[6,6])\n",
    "sns.set()\n",
    "\n",
    "ax=plt.gca()\n",
    "\n",
    "pf=pd.DataFrame(ef,columns=['X','Y']).assign(ido=LABEL)\n",
    "pf['dx']=(pf.ido==1)\n",
    "pf['dx']=[varname(x) for x in pf.dx]\n",
    "ax=sns.kdeplot(x='X',y='Y',fill=False,data=pf,alpha=.95,lw=2,levels=20,hue='dx',thresh=.05,palette=['.5','r'],fontsize=16)\n",
    "\n",
    "ax.set_title('Dx contours',fontsize=18,fontweight='bold',y=1.02,color='.5')\n",
    "plt.setp(ax.get_xticklabels(), fontsize=16,y=-.02)\n",
    "plt.setp(ax.get_yticklabels(), fontsize=16)\n",
    "#plt.setp(ax2.get_yticklabels(), fontsize=16)\n",
    "#plt.gca().set_xlabel('% reduction in error', fontsize=16,color='.5')\n",
    "ax.set_facecolor((1.0, 0.47, 0.42,0))\n",
    "fig.set_facecolor((1,0,1,0))\n",
    "ax.spines['bottom'].set_color('.75')\n",
    "ax.spines['top'].set_color('.75') \n",
    "ax.spines['right'].set_color('.75')\n",
    "ax.spines['left'].set_color('.75')\n",
    "##ax.set_xlim(-100,100);\n",
    "ax.grid(color='#dddddd', linestyle='--', linewidth=2)\n",
    "plt.setp(ax.spines.values(), linewidth=1)\n",
    "ax.tick_params(axis='x', colors='.5')    #setting up X-axis tick color to red\n",
    "ax.tick_params(axis='y', colors='.5',pad=15)  #setting up Y-axis tick color to black\n",
    "#ax.set_ylabel('density',fontsize=16,color='.5',labelpad=10)\n",
    "#ax.legend(fontsize=16)\n",
    "\n",
    "\n",
    "plt.savefig('dxcontour_balanced50jj'+'.png',dpi=600,bbox_inches='tight',transparent=True)"
   ]
  },
  {
   "cell_type": "code",
   "execution_count": 190,
   "metadata": {},
   "outputs": [],
   "source": [
    "# the null response\n",
    "s_null=['']*len(X[0])\n",
    "D_null=qnet.predict_distributions(s_null)"
   ]
  },
  {
   "cell_type": "code",
   "execution_count": 191,
   "metadata": {},
   "outputs": [],
   "source": [
    "def getMaskedSample(s,cols,mutable_vars,\n",
    "                    mask_prob=0.5,\n",
    "                    allow_all_mutable=False):\n",
    "    '''\n",
    "    Get random masked sample, with mask_prob fraction masked\n",
    "    '''\n",
    "    MUTABLE=pd.DataFrame(np.zeros(len(cols)),index=cols).transpose()\n",
    "    WITHVAL=[x for x in cols[np.where(s)[0]] if x in mutable_vars ]\n",
    "    MASKrand=[x for x in WITHVAL if random.random() > mask_prob ]\n",
    "    for m in MASKrand:\n",
    "        MUTABLE[m]=1.0\n",
    "            \n",
    "    mutable_x=MUTABLE.values[0]\n",
    "    base_frequency=mutable_x/mutable_x.sum()\n",
    "    \n",
    "    s1=s.copy()\n",
    "    for i in range(len(base_frequency)):\n",
    "        if base_frequency[i]>0.0001:\n",
    "            s1[i]=''\n",
    "            \n",
    "    s_rand=np.copy(s)\n",
    "    rnd_match_prob=[]        \n",
    "    max_match_prob=[]        \n",
    "    D=qnet.predict_distributions(s)\n",
    "    for i in MASKrand:\n",
    "        s_rand[np.where(\n",
    "            cols==i)[0][0]]=choose_one(\n",
    "                D_null[np.where(cols==i)[0][0]].keys())\n",
    "        rnd_match_prob=np.append(rnd_match_prob,1/len(\n",
    "            D_null[np.where(cols==i)[0][0]].keys()))\n",
    "        max_match_prob=np.append(\n",
    "            max_match_prob,np.max(\n",
    "                list(D[np.where(\n",
    "                    cols==i)[0][0]].values())))\n",
    "        \n",
    "    if allow_all_mutable:\n",
    "        for m in mutable_vars:\n",
    "            MUTABLE[m]=1.0\n",
    "        mutable_x=MUTABLE.values[0]\n",
    "        base_frequency=mutable_x/mutable_x.sum()\n",
    "\n",
    "    return s1,base_frequency,MASKrand,np.where(\n",
    "        base_frequency)[0],np.mean(rnd_match_prob),np.mean(max_match_prob),s_rand\n",
    "\n",
    "def choose_one(X):\n",
    "    X=list(X)\n",
    "    if len(X)>0:\n",
    "        return X[np.random.randint(len(X))]\n",
    "    return None\n",
    "\n",
    "samples=None\n",
    "def getRecon(index,MEAN=True):\n",
    "    s=samples[index]\n",
    "    \n",
    "    s1,bp,mask_,maskindex,rmatch_u,rmatch,s_rand=getMaskedSample(s,cols,\n",
    "                                                                     mutable_vars,\n",
    "                                                                     mask_prob=MASKPROB)\n",
    "    qs=qsample(s1,qnet,Nsteps,bp)\n",
    "    recondf=pd.DataFrame([s,qs,s_rand],columns=cols,index=['s','q','r'])[mask_].transpose()\n",
    "    recondf=recondf.replace('',np.nan).dropna(axis=0).astype(float)\n",
    "    recondf['delta']=recondf.s-recondf.q\n",
    "    if MEAN:\n",
    "        return recondf.delta.mean()\n",
    "    return recondf"
   ]
  },
  {
   "cell_type": "code",
   "execution_count": 161,
   "metadata": {},
   "outputs": [],
   "source": [
    "# Reconstruction parameters\n",
    "\n",
    "cols=qnet.feature_names\n",
    "mutable_vars=cols\n",
    "MASKPROB=.018\n",
    "Nsteps=12000"
   ]
  },
  {
   "cell_type": "code",
   "execution_count": 162,
   "metadata": {},
   "outputs": [
    {
     "data": {
      "text/plain": [
       "<matplotlib.axes._subplots.AxesSubplot at 0x7f797f6446a0>"
      ]
     },
     "execution_count": 162,
     "metadata": {},
     "output_type": "execute_result"
    },
    {
     "data": {
      "image/png": "[encoded data removed]",
      "text/plain": [
       "<Figure size 432x288 with 1 Axes>"
      ]
     },
     "metadata": {},
     "output_type": "display_data"
    }
   ],
   "source": [
    "samples=X\n",
    "#getDissonance(0)\n",
    "\n",
    "getRecon(0,MEAN=False).delta.plot.kde()"
   ]
  },
  {
   "cell_type": "code",
   "execution_count": 163,
   "metadata": {},
   "outputs": [
    {
     "data": {
      "application/vnd.jupyter.widget-view+json": {
       "model_id": "b0bdd2bd1648424c90d27c97acb44c57",
       "version_major": 2,
       "version_minor": 0
      },
      "text/plain": [
       "HBox(children=(FloatProgress(value=0.0, description='SUBMITTING | ', style=ProgressStyle(description_width='in…"
      ]
     },
     "metadata": {},
     "output_type": "display_data"
    },
    {
     "name": "stdout",
     "output_type": "stream",
     "text": [
      "\n"
     ]
    },
    {
     "data": {
      "application/vnd.jupyter.widget-view+json": {
       "model_id": "9a9c7abbf8774783b9551303e05621c9",
       "version_major": 2,
       "version_minor": 0
      },
      "text/plain": [
       "HBox(children=(FloatProgress(value=0.0, description='PROCESSING | ', style=ProgressStyle(description_width='in…"
      ]
     },
     "metadata": {},
     "output_type": "display_data"
    },
    {
     "name": "stdout",
     "output_type": "stream",
     "text": [
      "\n"
     ]
    },
    {
     "data": {
      "application/vnd.jupyter.widget-view+json": {
       "model_id": "bebdf0d8a45841d49f3a458c8815a4cc",
       "version_major": 2,
       "version_minor": 0
      },
      "text/plain": [
       "HBox(children=(FloatProgress(value=0.0, description='COLLECTING | ', style=ProgressStyle(description_width='in…"
      ]
     },
     "metadata": {},
     "output_type": "display_data"
    },
    {
     "name": "stdout",
     "output_type": "stream",
     "text": [
      "\n"
     ]
    },
    {
     "ename": "AttributeError",
     "evalue": "'DataFrame' object has no attribute 'PTSDDx'",
     "output_type": "error",
     "traceback": [
      "\u001b[0;31m---------------------------------------------------------------------------\u001b[0m",
      "\u001b[0;31mAttributeError\u001b[0m                            Traceback (most recent call last)",
      "\u001b[0;32m<ipython-input-163-42fef3c6c926>\u001b[0m in \u001b[0;36m<module>\u001b[0;34m\u001b[0m\n\u001b[1;32m      5\u001b[0m \u001b[0mDF\u001b[0m\u001b[0;34m.\u001b[0m\u001b[0mto_csv\u001b[0m\u001b[0;34m(\u001b[0m\u001b[0mPREF\u001b[0m\u001b[0;34m+\u001b[0m\u001b[0;34m'Recon3.csv'\u001b[0m\u001b[0;34m)\u001b[0m\u001b[0;34m\u001b[0m\u001b[0;34m\u001b[0m\u001b[0m\n\u001b[1;32m      6\u001b[0m \u001b[0mDF\u001b[0m\u001b[0;34m=\u001b[0m\u001b[0mpd\u001b[0m\u001b[0;34m.\u001b[0m\u001b[0mread_csv\u001b[0m\u001b[0;34m(\u001b[0m\u001b[0mPREF\u001b[0m\u001b[0;34m+\u001b[0m\u001b[0;34m'Recon3.csv'\u001b[0m\u001b[0;34m,\u001b[0m\u001b[0mindex_col\u001b[0m\u001b[0;34m=\u001b[0m\u001b[0;36m0\u001b[0m\u001b[0;34m)\u001b[0m\u001b[0;34m\u001b[0m\u001b[0;34m\u001b[0m\u001b[0m\n\u001b[0;32m----> 7\u001b[0;31m \u001b[0mDF\u001b[0m\u001b[0;34m=\u001b[0m\u001b[0mDF\u001b[0m\u001b[0;34m.\u001b[0m\u001b[0mjoin\u001b[0m\u001b[0;34m(\u001b[0m\u001b[0mdf\u001b[0m\u001b[0;34m.\u001b[0m\u001b[0mPTSDDx\u001b[0m\u001b[0;34m.\u001b[0m\u001b[0mreset_index\u001b[0m\u001b[0;34m(\u001b[0m\u001b[0;34m)\u001b[0m\u001b[0;34m)\u001b[0m\u001b[0;34m.\u001b[0m\u001b[0mset_index\u001b[0m\u001b[0;34m(\u001b[0m\u001b[0;34m'record_id'\u001b[0m\u001b[0;34m)\u001b[0m\u001b[0;34m\u001b[0m\u001b[0;34m\u001b[0m\u001b[0m\n\u001b[0m",
      "\u001b[0;32m~/.local/lib/python3.7/site-packages/pandas/core/generic.py\u001b[0m in \u001b[0;36m__getattr__\u001b[0;34m(self, name)\u001b[0m\n\u001b[1;32m   5463\u001b[0m             \u001b[0;32mif\u001b[0m \u001b[0mself\u001b[0m\u001b[0;34m.\u001b[0m\u001b[0m_info_axis\u001b[0m\u001b[0;34m.\u001b[0m\u001b[0m_can_hold_identifiers_and_holds_name\u001b[0m\u001b[0;34m(\u001b[0m\u001b[0mname\u001b[0m\u001b[0;34m)\u001b[0m\u001b[0;34m:\u001b[0m\u001b[0;34m\u001b[0m\u001b[0;34m\u001b[0m\u001b[0m\n\u001b[1;32m   5464\u001b[0m                 \u001b[0;32mreturn\u001b[0m \u001b[0mself\u001b[0m\u001b[0;34m[\u001b[0m\u001b[0mname\u001b[0m\u001b[0;34m]\u001b[0m\u001b[0;34m\u001b[0m\u001b[0;34m\u001b[0m\u001b[0m\n\u001b[0;32m-> 5465\u001b[0;31m             \u001b[0;32mreturn\u001b[0m \u001b[0mobject\u001b[0m\u001b[0;34m.\u001b[0m\u001b[0m__getattribute__\u001b[0m\u001b[0;34m(\u001b[0m\u001b[0mself\u001b[0m\u001b[0;34m,\u001b[0m \u001b[0mname\u001b[0m\u001b[0;34m)\u001b[0m\u001b[0;34m\u001b[0m\u001b[0;34m\u001b[0m\u001b[0m\n\u001b[0m\u001b[1;32m   5466\u001b[0m \u001b[0;34m\u001b[0m\u001b[0m\n\u001b[1;32m   5467\u001b[0m     \u001b[0;32mdef\u001b[0m \u001b[0m__setattr__\u001b[0m\u001b[0;34m(\u001b[0m\u001b[0mself\u001b[0m\u001b[0;34m,\u001b[0m \u001b[0mname\u001b[0m\u001b[0;34m:\u001b[0m \u001b[0mstr\u001b[0m\u001b[0;34m,\u001b[0m \u001b[0mvalue\u001b[0m\u001b[0;34m)\u001b[0m \u001b[0;34m->\u001b[0m \u001b[0;32mNone\u001b[0m\u001b[0;34m:\u001b[0m\u001b[0;34m\u001b[0m\u001b[0;34m\u001b[0m\u001b[0m\n",
      "\u001b[0;31mAttributeError\u001b[0m: 'DataFrame' object has no attribute 'PTSDDx'"
     ]
    }
   ],
   "source": [
    "samples=X_\n",
    "Recon=pqdm(range(len(X_)), getRecon, n_jobs=12)                                                              \n",
    "DF=pd.DataFrame(Recon,columns=['recon'])\n",
    "DF\n",
    "DF.to_csv(PREF+'Recon3.csv')\n",
    "DF=pd.read_csv(PREF+'Recon3.csv',index_col=0)\n",
    "#DF=DF.join(df.PTSDDx.reset_index()).set_index('record_id')"
   ]
  },
  {
   "cell_type": "code",
   "execution_count": null,
   "metadata": {},
   "outputs": [],
   "source": [
    "#print(DF[DF.PTSDDx==1].recon.mean(),DF[DF.PTSDDx==0].recon.mean())"
   ]
  },
  {
   "cell_type": "code",
   "execution_count": null,
   "metadata": {
    "scrolled": false
   },
   "outputs": [],
   "source": [
    "plt.figure(figsize=[20,6])\n",
    "plt.style.use('fivethirtyeight')\n",
    "plt.subplot(2,1,1)\n",
    "plt.subplots_adjust(hspace=.5)\n",
    "DF.iloc[:len(index1),:].recon.plot(kind='bar',color='r')\n",
    "plt.gca().set_xlabel('')\n",
    "ax0=plt.gca()\n",
    "plt.subplot(2,1,2)\n",
    "DF.iloc[len(index1):,:].recon.plot(kind='bar',color='k')\n",
    "ax=plt.gca()\n",
    "#plt.setp(ax.get_xticklabels(), fontsize=10);\n",
    "for label in ax.xaxis.get_ticklabels()[::2]:\n",
    "    label.set_visible(False)\n",
    "ax0.set_title('mean reconstruction error',fontsize=20,fontweight='bold');\n",
    "ax0.legend(['positive'],fontsize=18)\n",
    "ax.legend(['control'],fontsize=18)\n",
    "\n",
    "plt.savefig(PREF+'recosntruction_3_balanced1'+'.png',dpi=600,bbox_inches='tight',transparent=True)"
   ]
  },
  {
   "cell_type": "markdown",
   "metadata": {},
   "source": [
    "## conclusions\n",
    "+ we achieve small reconstruction error with a very few items revealed (2.5% ie 5)"
   ]
  },
  {
   "cell_type": "code",
   "execution_count": 47,
   "metadata": {},
   "outputs": [],
   "source": [
    "def getDissonance(sample_index,index=None,MISSING_VAL=np.nan):                                  \n",
    "    '''                                                                                               \n",
    "    Dissonnace vector                                                                                                   \n",
    "    '''  \n",
    "    if isinstance(sample_index, int):\n",
    "        s=samples[sample_index]                                                                           \n",
    "    else:\n",
    "        s=sample_index\n",
    "    if index is None:                                                                                 \n",
    "        index=range(len(s))                                                                           \n",
    "                                                                                                      \n",
    "    Ds=qnet.predict_distributions(s)                                                                  \n",
    "                                                                                                      \n",
    "    diss=np.ones(len(Ds))*MISSING_VAL                                                                 \n",
    "    for i in index:                                                                                   \n",
    "        if s[i] != '':                                                                                \n",
    "            if s[i] in Ds[i].keys():                                                                  \n",
    "                diss[i]=1-Ds[i][s[i]]/np.max(                                                         \n",
    "                    list(Ds[i].values()))                                                             \n",
    "            else:                                                                                     \n",
    "                diss[i]=1.0                                                                           \n",
    "                                                                                                      \n",
    "    return diss                                                                        "
   ]
  },
  {
   "cell_type": "code",
   "execution_count": 48,
   "metadata": {},
   "outputs": [
    {
     "data": {
      "application/vnd.jupyter.widget-view+json": {
       "model_id": "130f3629594c459d8f0d9b2d3d72e498",
       "version_major": 2,
       "version_minor": 0
      },
      "text/plain": [
       "HBox(children=(FloatProgress(value=0.0, description='SUBMITTING | ', max=1027.0, style=ProgressStyle(descripti…"
      ]
     },
     "metadata": {},
     "output_type": "display_data"
    },
    {
     "name": "stdout",
     "output_type": "stream",
     "text": [
      "\n"
     ]
    },
    {
     "data": {
      "application/vnd.jupyter.widget-view+json": {
       "model_id": "bf31ae168b894ad9bb4508a62c0f1501",
       "version_major": 2,
       "version_minor": 0
      },
      "text/plain": [
       "HBox(children=(FloatProgress(value=0.0, description='PROCESSING | ', max=1027.0, style=ProgressStyle(descripti…"
      ]
     },
     "metadata": {},
     "output_type": "display_data"
    },
    {
     "name": "stdout",
     "output_type": "stream",
     "text": [
      "\n"
     ]
    },
    {
     "data": {
      "application/vnd.jupyter.widget-view+json": {
       "model_id": "a686ef48b2c94e96ab51d781522bf196",
       "version_major": 2,
       "version_minor": 0
      },
      "text/plain": [
       "HBox(children=(FloatProgress(value=0.0, description='COLLECTING | ', max=1027.0, style=ProgressStyle(descripti…"
      ]
     },
     "metadata": {},
     "output_type": "display_data"
    },
    {
     "name": "stdout",
     "output_type": "stream",
     "text": [
      "\n"
     ]
    }
   ],
   "source": [
    "samples=X\n",
    "from pqdm.processes import pqdm                                                                     \n",
    "Diss=pqdm(range(len(X)), getDissonance, n_jobs=12)                                                              \n",
    "Diss=pd.DataFrame(Diss)"
   ]
  },
  {
   "cell_type": "code",
   "execution_count": 49,
   "metadata": {},
   "outputs": [
    {
     "data": {
      "text/html": [
       "<div>\n",
       "<style scoped>\n",
       "    .dataframe tbody tr th:only-of-type {\n",
       "        vertical-align: middle;\n",
       "    }\n",
       "\n",
       "    .dataframe tbody tr th {\n",
       "        vertical-align: top;\n",
       "    }\n",
       "\n",
       "    .dataframe thead th {\n",
       "        text-align: right;\n",
       "    }\n",
       "</style>\n",
       "<table border=\"1\" class=\"dataframe\">\n",
       "  <thead>\n",
       "    <tr style=\"text-align: right;\">\n",
       "      <th></th>\n",
       "      <th>0</th>\n",
       "      <th>1</th>\n",
       "      <th>2</th>\n",
       "      <th>3</th>\n",
       "      <th>4</th>\n",
       "      <th>5</th>\n",
       "      <th>6</th>\n",
       "      <th>7</th>\n",
       "      <th>8</th>\n",
       "      <th>9</th>\n",
       "      <th>...</th>\n",
       "      <th>159</th>\n",
       "      <th>160</th>\n",
       "      <th>161</th>\n",
       "      <th>162</th>\n",
       "      <th>163</th>\n",
       "      <th>164</th>\n",
       "      <th>165</th>\n",
       "      <th>166</th>\n",
       "      <th>167</th>\n",
       "      <th>168</th>\n",
       "    </tr>\n",
       "  </thead>\n",
       "  <tbody>\n",
       "    <tr>\n",
       "      <th>0</th>\n",
       "      <td>0.000000</td>\n",
       "      <td>0.000000</td>\n",
       "      <td>0.132474</td>\n",
       "      <td>0.354631</td>\n",
       "      <td>0.141257</td>\n",
       "      <td>0.000000</td>\n",
       "      <td>0.742338</td>\n",
       "      <td>0.075538</td>\n",
       "      <td>0.856074</td>\n",
       "      <td>0.453560</td>\n",
       "      <td>...</td>\n",
       "      <td>0.889283</td>\n",
       "      <td>0.119073</td>\n",
       "      <td>0.584074</td>\n",
       "      <td>0.982306</td>\n",
       "      <td>0.760433</td>\n",
       "      <td>0.839609</td>\n",
       "      <td>0.938249</td>\n",
       "      <td>0.969268</td>\n",
       "      <td>0.977821</td>\n",
       "      <td>0.989853</td>\n",
       "    </tr>\n",
       "    <tr>\n",
       "      <th>1</th>\n",
       "      <td>0.000000</td>\n",
       "      <td>0.168590</td>\n",
       "      <td>0.000000</td>\n",
       "      <td>0.000000</td>\n",
       "      <td>0.000000</td>\n",
       "      <td>0.000000</td>\n",
       "      <td>0.000000</td>\n",
       "      <td>0.000000</td>\n",
       "      <td>0.712532</td>\n",
       "      <td>0.643405</td>\n",
       "      <td>...</td>\n",
       "      <td>0.000000</td>\n",
       "      <td>0.203042</td>\n",
       "      <td>0.000000</td>\n",
       "      <td>0.000000</td>\n",
       "      <td>0.000000</td>\n",
       "      <td>0.000000</td>\n",
       "      <td>0.000000</td>\n",
       "      <td>0.000000</td>\n",
       "      <td>0.000000</td>\n",
       "      <td>0.000000</td>\n",
       "    </tr>\n",
       "    <tr>\n",
       "      <th>2</th>\n",
       "      <td>0.000000</td>\n",
       "      <td>0.000000</td>\n",
       "      <td>0.430947</td>\n",
       "      <td>0.000000</td>\n",
       "      <td>0.436082</td>\n",
       "      <td>0.000000</td>\n",
       "      <td>0.721008</td>\n",
       "      <td>0.461465</td>\n",
       "      <td>0.000000</td>\n",
       "      <td>0.759459</td>\n",
       "      <td>...</td>\n",
       "      <td>0.877883</td>\n",
       "      <td>0.000000</td>\n",
       "      <td>0.000000</td>\n",
       "      <td>0.000000</td>\n",
       "      <td>0.000000</td>\n",
       "      <td>0.674041</td>\n",
       "      <td>0.786087</td>\n",
       "      <td>0.784054</td>\n",
       "      <td>NaN</td>\n",
       "      <td>0.000000</td>\n",
       "    </tr>\n",
       "    <tr>\n",
       "      <th>3</th>\n",
       "      <td>0.000000</td>\n",
       "      <td>0.420499</td>\n",
       "      <td>0.837435</td>\n",
       "      <td>0.838782</td>\n",
       "      <td>0.000000</td>\n",
       "      <td>0.000000</td>\n",
       "      <td>0.000000</td>\n",
       "      <td>0.000000</td>\n",
       "      <td>0.812577</td>\n",
       "      <td>0.639608</td>\n",
       "      <td>...</td>\n",
       "      <td>0.876505</td>\n",
       "      <td>0.690580</td>\n",
       "      <td>0.598335</td>\n",
       "      <td>0.991799</td>\n",
       "      <td>0.000000</td>\n",
       "      <td>0.911587</td>\n",
       "      <td>0.901356</td>\n",
       "      <td>0.835104</td>\n",
       "      <td>0.964892</td>\n",
       "      <td>0.989550</td>\n",
       "    </tr>\n",
       "    <tr>\n",
       "      <th>4</th>\n",
       "      <td>0.000000</td>\n",
       "      <td>0.000000</td>\n",
       "      <td>0.680366</td>\n",
       "      <td>0.000000</td>\n",
       "      <td>0.505537</td>\n",
       "      <td>0.000000</td>\n",
       "      <td>0.752095</td>\n",
       "      <td>0.177092</td>\n",
       "      <td>0.858198</td>\n",
       "      <td>0.809590</td>\n",
       "      <td>...</td>\n",
       "      <td>0.000000</td>\n",
       "      <td>0.654411</td>\n",
       "      <td>0.000000</td>\n",
       "      <td>0.000000</td>\n",
       "      <td>0.000000</td>\n",
       "      <td>0.000000</td>\n",
       "      <td>0.000000</td>\n",
       "      <td>0.000000</td>\n",
       "      <td>0.000000</td>\n",
       "      <td>0.000000</td>\n",
       "    </tr>\n",
       "    <tr>\n",
       "      <th>...</th>\n",
       "      <td>...</td>\n",
       "      <td>...</td>\n",
       "      <td>...</td>\n",
       "      <td>...</td>\n",
       "      <td>...</td>\n",
       "      <td>...</td>\n",
       "      <td>...</td>\n",
       "      <td>...</td>\n",
       "      <td>...</td>\n",
       "      <td>...</td>\n",
       "      <td>...</td>\n",
       "      <td>...</td>\n",
       "      <td>...</td>\n",
       "      <td>...</td>\n",
       "      <td>...</td>\n",
       "      <td>...</td>\n",
       "      <td>...</td>\n",
       "      <td>...</td>\n",
       "      <td>...</td>\n",
       "      <td>...</td>\n",
       "      <td>...</td>\n",
       "    </tr>\n",
       "    <tr>\n",
       "      <th>1022</th>\n",
       "      <td>0.000000</td>\n",
       "      <td>0.454392</td>\n",
       "      <td>0.000000</td>\n",
       "      <td>0.000000</td>\n",
       "      <td>0.000000</td>\n",
       "      <td>0.000000</td>\n",
       "      <td>0.000000</td>\n",
       "      <td>0.000000</td>\n",
       "      <td>0.000000</td>\n",
       "      <td>0.811310</td>\n",
       "      <td>...</td>\n",
       "      <td>NaN</td>\n",
       "      <td>NaN</td>\n",
       "      <td>NaN</td>\n",
       "      <td>NaN</td>\n",
       "      <td>NaN</td>\n",
       "      <td>NaN</td>\n",
       "      <td>NaN</td>\n",
       "      <td>NaN</td>\n",
       "      <td>NaN</td>\n",
       "      <td>NaN</td>\n",
       "    </tr>\n",
       "    <tr>\n",
       "      <th>1023</th>\n",
       "      <td>0.000000</td>\n",
       "      <td>0.000000</td>\n",
       "      <td>0.275795</td>\n",
       "      <td>0.000000</td>\n",
       "      <td>0.000000</td>\n",
       "      <td>0.000000</td>\n",
       "      <td>0.729726</td>\n",
       "      <td>0.154871</td>\n",
       "      <td>0.776430</td>\n",
       "      <td>0.331001</td>\n",
       "      <td>...</td>\n",
       "      <td>NaN</td>\n",
       "      <td>NaN</td>\n",
       "      <td>NaN</td>\n",
       "      <td>NaN</td>\n",
       "      <td>NaN</td>\n",
       "      <td>NaN</td>\n",
       "      <td>NaN</td>\n",
       "      <td>NaN</td>\n",
       "      <td>NaN</td>\n",
       "      <td>NaN</td>\n",
       "    </tr>\n",
       "    <tr>\n",
       "      <th>1024</th>\n",
       "      <td>0.626609</td>\n",
       "      <td>0.000000</td>\n",
       "      <td>0.000000</td>\n",
       "      <td>0.000000</td>\n",
       "      <td>0.000000</td>\n",
       "      <td>0.000000</td>\n",
       "      <td>0.000000</td>\n",
       "      <td>0.000000</td>\n",
       "      <td>0.000000</td>\n",
       "      <td>0.861265</td>\n",
       "      <td>...</td>\n",
       "      <td>NaN</td>\n",
       "      <td>NaN</td>\n",
       "      <td>NaN</td>\n",
       "      <td>NaN</td>\n",
       "      <td>NaN</td>\n",
       "      <td>NaN</td>\n",
       "      <td>NaN</td>\n",
       "      <td>NaN</td>\n",
       "      <td>NaN</td>\n",
       "      <td>NaN</td>\n",
       "    </tr>\n",
       "    <tr>\n",
       "      <th>1025</th>\n",
       "      <td>0.000000</td>\n",
       "      <td>0.000000</td>\n",
       "      <td>0.000000</td>\n",
       "      <td>0.000000</td>\n",
       "      <td>0.000000</td>\n",
       "      <td>0.000000</td>\n",
       "      <td>0.000000</td>\n",
       "      <td>0.000000</td>\n",
       "      <td>0.000000</td>\n",
       "      <td>0.000000</td>\n",
       "      <td>...</td>\n",
       "      <td>NaN</td>\n",
       "      <td>NaN</td>\n",
       "      <td>NaN</td>\n",
       "      <td>NaN</td>\n",
       "      <td>NaN</td>\n",
       "      <td>NaN</td>\n",
       "      <td>NaN</td>\n",
       "      <td>NaN</td>\n",
       "      <td>NaN</td>\n",
       "      <td>NaN</td>\n",
       "    </tr>\n",
       "    <tr>\n",
       "      <th>1026</th>\n",
       "      <td>0.000000</td>\n",
       "      <td>0.233948</td>\n",
       "      <td>0.812937</td>\n",
       "      <td>0.235357</td>\n",
       "      <td>0.495277</td>\n",
       "      <td>0.362677</td>\n",
       "      <td>0.867215</td>\n",
       "      <td>0.000000</td>\n",
       "      <td>0.895417</td>\n",
       "      <td>0.872811</td>\n",
       "      <td>...</td>\n",
       "      <td>NaN</td>\n",
       "      <td>NaN</td>\n",
       "      <td>NaN</td>\n",
       "      <td>NaN</td>\n",
       "      <td>NaN</td>\n",
       "      <td>NaN</td>\n",
       "      <td>NaN</td>\n",
       "      <td>NaN</td>\n",
       "      <td>NaN</td>\n",
       "      <td>NaN</td>\n",
       "    </tr>\n",
       "  </tbody>\n",
       "</table>\n",
       "<p>1027 rows × 169 columns</p>\n",
       "</div>"
      ],
      "text/plain": [
       "           0         1         2         3         4         5         6    \\\n",
       "0     0.000000  0.000000  0.132474  0.354631  0.141257  0.000000  0.742338   \n",
       "1     0.000000  0.168590  0.000000  0.000000  0.000000  0.000000  0.000000   \n",
       "2     0.000000  0.000000  0.430947  0.000000  0.436082  0.000000  0.721008   \n",
       "3     0.000000  0.420499  0.837435  0.838782  0.000000  0.000000  0.000000   \n",
       "4     0.000000  0.000000  0.680366  0.000000  0.505537  0.000000  0.752095   \n",
       "...        ...       ...       ...       ...       ...       ...       ...   \n",
       "1022  0.000000  0.454392  0.000000  0.000000  0.000000  0.000000  0.000000   \n",
       "1023  0.000000  0.000000  0.275795  0.000000  0.000000  0.000000  0.729726   \n",
       "1024  0.626609  0.000000  0.000000  0.000000  0.000000  0.000000  0.000000   \n",
       "1025  0.000000  0.000000  0.000000  0.000000  0.000000  0.000000  0.000000   \n",
       "1026  0.000000  0.233948  0.812937  0.235357  0.495277  0.362677  0.867215   \n",
       "\n",
       "           7         8         9    ...       159       160       161  \\\n",
       "0     0.075538  0.856074  0.453560  ...  0.889283  0.119073  0.584074   \n",
       "1     0.000000  0.712532  0.643405  ...  0.000000  0.203042  0.000000   \n",
       "2     0.461465  0.000000  0.759459  ...  0.877883  0.000000  0.000000   \n",
       "3     0.000000  0.812577  0.639608  ...  0.876505  0.690580  0.598335   \n",
       "4     0.177092  0.858198  0.809590  ...  0.000000  0.654411  0.000000   \n",
       "...        ...       ...       ...  ...       ...       ...       ...   \n",
       "1022  0.000000  0.000000  0.811310  ...       NaN       NaN       NaN   \n",
       "1023  0.154871  0.776430  0.331001  ...       NaN       NaN       NaN   \n",
       "1024  0.000000  0.000000  0.861265  ...       NaN       NaN       NaN   \n",
       "1025  0.000000  0.000000  0.000000  ...       NaN       NaN       NaN   \n",
       "1026  0.000000  0.895417  0.872811  ...       NaN       NaN       NaN   \n",
       "\n",
       "           162       163       164       165       166       167       168  \n",
       "0     0.982306  0.760433  0.839609  0.938249  0.969268  0.977821  0.989853  \n",
       "1     0.000000  0.000000  0.000000  0.000000  0.000000  0.000000  0.000000  \n",
       "2     0.000000  0.000000  0.674041  0.786087  0.784054       NaN  0.000000  \n",
       "3     0.991799  0.000000  0.911587  0.901356  0.835104  0.964892  0.989550  \n",
       "4     0.000000  0.000000  0.000000  0.000000  0.000000  0.000000  0.000000  \n",
       "...        ...       ...       ...       ...       ...       ...       ...  \n",
       "1022       NaN       NaN       NaN       NaN       NaN       NaN       NaN  \n",
       "1023       NaN       NaN       NaN       NaN       NaN       NaN       NaN  \n",
       "1024       NaN       NaN       NaN       NaN       NaN       NaN       NaN  \n",
       "1025       NaN       NaN       NaN       NaN       NaN       NaN       NaN  \n",
       "1026       NaN       NaN       NaN       NaN       NaN       NaN       NaN  \n",
       "\n",
       "[1027 rows x 169 columns]"
      ]
     },
     "execution_count": 49,
     "metadata": {},
     "output_type": "execute_result"
    }
   ],
   "source": [
    "Diss"
   ]
  },
  {
   "cell_type": "code",
   "execution_count": 50,
   "metadata": {},
   "outputs": [
    {
     "data": {
      "application/vnd.jupyter.widget-view+json": {
       "model_id": "1b5d54b20fcb4cda9474dc8858a732aa",
       "version_major": 2,
       "version_minor": 0
      },
      "text/plain": [
       "HBox(children=(FloatProgress(value=0.0, description='SUBMITTING | ', max=476.0, style=ProgressStyle(descriptio…"
      ]
     },
     "metadata": {},
     "output_type": "display_data"
    },
    {
     "name": "stdout",
     "output_type": "stream",
     "text": [
      "\n"
     ]
    },
    {
     "data": {
      "application/vnd.jupyter.widget-view+json": {
       "model_id": "26892e88c63b47b888e499e29cf4edf0",
       "version_major": 2,
       "version_minor": 0
      },
      "text/plain": [
       "HBox(children=(FloatProgress(value=0.0, description='PROCESSING | ', max=476.0, style=ProgressStyle(descriptio…"
      ]
     },
     "metadata": {},
     "output_type": "display_data"
    },
    {
     "name": "stdout",
     "output_type": "stream",
     "text": [
      "\n"
     ]
    },
    {
     "data": {
      "application/vnd.jupyter.widget-view+json": {
       "model_id": "79b111ebe52b4fbeba3abd5ebe89f899",
       "version_major": 2,
       "version_minor": 0
      },
      "text/plain": [
       "HBox(children=(FloatProgress(value=0.0, description='COLLECTING | ', max=476.0, style=ProgressStyle(descriptio…"
      ]
     },
     "metadata": {},
     "output_type": "display_data"
    },
    {
     "name": "stdout",
     "output_type": "stream",
     "text": [
      "\n"
     ]
    }
   ],
   "source": [
    "samples=Xj\n",
    "from pqdm.processes import pqdm                                                                     \n",
    "Dissj=pqdm(range(len(Xj)), getDissonance, n_jobs=12)                                                              \n",
    "Dissj=pd.DataFrame(Dissj)"
   ]
  },
  {
   "cell_type": "code",
   "execution_count": 51,
   "metadata": {},
   "outputs": [
    {
     "data": {
      "text/html": [
       "<div>\n",
       "<style scoped>\n",
       "    .dataframe tbody tr th:only-of-type {\n",
       "        vertical-align: middle;\n",
       "    }\n",
       "\n",
       "    .dataframe tbody tr th {\n",
       "        vertical-align: top;\n",
       "    }\n",
       "\n",
       "    .dataframe thead th {\n",
       "        text-align: right;\n",
       "    }\n",
       "</style>\n",
       "<table border=\"1\" class=\"dataframe\">\n",
       "  <thead>\n",
       "    <tr style=\"text-align: right;\">\n",
       "      <th></th>\n",
       "      <th>0</th>\n",
       "      <th>1</th>\n",
       "      <th>2</th>\n",
       "      <th>3</th>\n",
       "      <th>4</th>\n",
       "      <th>5</th>\n",
       "      <th>6</th>\n",
       "      <th>7</th>\n",
       "      <th>8</th>\n",
       "      <th>9</th>\n",
       "      <th>...</th>\n",
       "      <th>159</th>\n",
       "      <th>160</th>\n",
       "      <th>161</th>\n",
       "      <th>162</th>\n",
       "      <th>163</th>\n",
       "      <th>164</th>\n",
       "      <th>165</th>\n",
       "      <th>166</th>\n",
       "      <th>167</th>\n",
       "      <th>168</th>\n",
       "    </tr>\n",
       "  </thead>\n",
       "  <tbody>\n",
       "    <tr>\n",
       "      <th>0</th>\n",
       "      <td>0.000000</td>\n",
       "      <td>0.0</td>\n",
       "      <td>0.132474</td>\n",
       "      <td>0.354631</td>\n",
       "      <td>0.141257</td>\n",
       "      <td>0.0</td>\n",
       "      <td>0.742338</td>\n",
       "      <td>0.075538</td>\n",
       "      <td>0.856074</td>\n",
       "      <td>0.45356</td>\n",
       "      <td>...</td>\n",
       "      <td>0.889283</td>\n",
       "      <td>0.119073</td>\n",
       "      <td>0.584074</td>\n",
       "      <td>0.982306</td>\n",
       "      <td>0.760433</td>\n",
       "      <td>0.839609</td>\n",
       "      <td>0.938249</td>\n",
       "      <td>0.969268</td>\n",
       "      <td>0.977821</td>\n",
       "      <td>0.989853</td>\n",
       "    </tr>\n",
       "    <tr>\n",
       "      <th>1</th>\n",
       "      <td>0.174059</td>\n",
       "      <td>NaN</td>\n",
       "      <td>0.000000</td>\n",
       "      <td>NaN</td>\n",
       "      <td>NaN</td>\n",
       "      <td>NaN</td>\n",
       "      <td>NaN</td>\n",
       "      <td>NaN</td>\n",
       "      <td>NaN</td>\n",
       "      <td>NaN</td>\n",
       "      <td>...</td>\n",
       "      <td>NaN</td>\n",
       "      <td>NaN</td>\n",
       "      <td>NaN</td>\n",
       "      <td>NaN</td>\n",
       "      <td>NaN</td>\n",
       "      <td>NaN</td>\n",
       "      <td>NaN</td>\n",
       "      <td>NaN</td>\n",
       "      <td>NaN</td>\n",
       "      <td>NaN</td>\n",
       "    </tr>\n",
       "    <tr>\n",
       "      <th>2</th>\n",
       "      <td>NaN</td>\n",
       "      <td>NaN</td>\n",
       "      <td>0.531114</td>\n",
       "      <td>NaN</td>\n",
       "      <td>NaN</td>\n",
       "      <td>NaN</td>\n",
       "      <td>NaN</td>\n",
       "      <td>NaN</td>\n",
       "      <td>NaN</td>\n",
       "      <td>NaN</td>\n",
       "      <td>...</td>\n",
       "      <td>NaN</td>\n",
       "      <td>NaN</td>\n",
       "      <td>NaN</td>\n",
       "      <td>NaN</td>\n",
       "      <td>NaN</td>\n",
       "      <td>NaN</td>\n",
       "      <td>NaN</td>\n",
       "      <td>NaN</td>\n",
       "      <td>NaN</td>\n",
       "      <td>NaN</td>\n",
       "    </tr>\n",
       "    <tr>\n",
       "      <th>3</th>\n",
       "      <td>NaN</td>\n",
       "      <td>NaN</td>\n",
       "      <td>0.000000</td>\n",
       "      <td>NaN</td>\n",
       "      <td>NaN</td>\n",
       "      <td>NaN</td>\n",
       "      <td>NaN</td>\n",
       "      <td>NaN</td>\n",
       "      <td>NaN</td>\n",
       "      <td>NaN</td>\n",
       "      <td>...</td>\n",
       "      <td>NaN</td>\n",
       "      <td>NaN</td>\n",
       "      <td>NaN</td>\n",
       "      <td>NaN</td>\n",
       "      <td>NaN</td>\n",
       "      <td>NaN</td>\n",
       "      <td>NaN</td>\n",
       "      <td>NaN</td>\n",
       "      <td>NaN</td>\n",
       "      <td>NaN</td>\n",
       "    </tr>\n",
       "    <tr>\n",
       "      <th>4</th>\n",
       "      <td>0.174059</td>\n",
       "      <td>NaN</td>\n",
       "      <td>0.000000</td>\n",
       "      <td>NaN</td>\n",
       "      <td>NaN</td>\n",
       "      <td>NaN</td>\n",
       "      <td>NaN</td>\n",
       "      <td>NaN</td>\n",
       "      <td>NaN</td>\n",
       "      <td>NaN</td>\n",
       "      <td>...</td>\n",
       "      <td>NaN</td>\n",
       "      <td>NaN</td>\n",
       "      <td>NaN</td>\n",
       "      <td>NaN</td>\n",
       "      <td>NaN</td>\n",
       "      <td>NaN</td>\n",
       "      <td>NaN</td>\n",
       "      <td>NaN</td>\n",
       "      <td>NaN</td>\n",
       "      <td>NaN</td>\n",
       "    </tr>\n",
       "    <tr>\n",
       "      <th>...</th>\n",
       "      <td>...</td>\n",
       "      <td>...</td>\n",
       "      <td>...</td>\n",
       "      <td>...</td>\n",
       "      <td>...</td>\n",
       "      <td>...</td>\n",
       "      <td>...</td>\n",
       "      <td>...</td>\n",
       "      <td>...</td>\n",
       "      <td>...</td>\n",
       "      <td>...</td>\n",
       "      <td>...</td>\n",
       "      <td>...</td>\n",
       "      <td>...</td>\n",
       "      <td>...</td>\n",
       "      <td>...</td>\n",
       "      <td>...</td>\n",
       "      <td>...</td>\n",
       "      <td>...</td>\n",
       "      <td>...</td>\n",
       "      <td>...</td>\n",
       "    </tr>\n",
       "    <tr>\n",
       "      <th>471</th>\n",
       "      <td>0.000000</td>\n",
       "      <td>NaN</td>\n",
       "      <td>0.000000</td>\n",
       "      <td>NaN</td>\n",
       "      <td>NaN</td>\n",
       "      <td>NaN</td>\n",
       "      <td>NaN</td>\n",
       "      <td>NaN</td>\n",
       "      <td>NaN</td>\n",
       "      <td>NaN</td>\n",
       "      <td>...</td>\n",
       "      <td>NaN</td>\n",
       "      <td>NaN</td>\n",
       "      <td>NaN</td>\n",
       "      <td>NaN</td>\n",
       "      <td>NaN</td>\n",
       "      <td>NaN</td>\n",
       "      <td>NaN</td>\n",
       "      <td>NaN</td>\n",
       "      <td>NaN</td>\n",
       "      <td>NaN</td>\n",
       "    </tr>\n",
       "    <tr>\n",
       "      <th>472</th>\n",
       "      <td>NaN</td>\n",
       "      <td>NaN</td>\n",
       "      <td>0.948276</td>\n",
       "      <td>NaN</td>\n",
       "      <td>NaN</td>\n",
       "      <td>NaN</td>\n",
       "      <td>NaN</td>\n",
       "      <td>NaN</td>\n",
       "      <td>NaN</td>\n",
       "      <td>NaN</td>\n",
       "      <td>...</td>\n",
       "      <td>NaN</td>\n",
       "      <td>NaN</td>\n",
       "      <td>NaN</td>\n",
       "      <td>NaN</td>\n",
       "      <td>NaN</td>\n",
       "      <td>NaN</td>\n",
       "      <td>NaN</td>\n",
       "      <td>NaN</td>\n",
       "      <td>NaN</td>\n",
       "      <td>NaN</td>\n",
       "    </tr>\n",
       "    <tr>\n",
       "      <th>473</th>\n",
       "      <td>NaN</td>\n",
       "      <td>NaN</td>\n",
       "      <td>0.947887</td>\n",
       "      <td>NaN</td>\n",
       "      <td>NaN</td>\n",
       "      <td>NaN</td>\n",
       "      <td>NaN</td>\n",
       "      <td>NaN</td>\n",
       "      <td>NaN</td>\n",
       "      <td>NaN</td>\n",
       "      <td>...</td>\n",
       "      <td>NaN</td>\n",
       "      <td>NaN</td>\n",
       "      <td>NaN</td>\n",
       "      <td>NaN</td>\n",
       "      <td>NaN</td>\n",
       "      <td>NaN</td>\n",
       "      <td>NaN</td>\n",
       "      <td>NaN</td>\n",
       "      <td>NaN</td>\n",
       "      <td>NaN</td>\n",
       "    </tr>\n",
       "    <tr>\n",
       "      <th>474</th>\n",
       "      <td>0.174059</td>\n",
       "      <td>NaN</td>\n",
       "      <td>0.000000</td>\n",
       "      <td>NaN</td>\n",
       "      <td>NaN</td>\n",
       "      <td>NaN</td>\n",
       "      <td>NaN</td>\n",
       "      <td>NaN</td>\n",
       "      <td>NaN</td>\n",
       "      <td>NaN</td>\n",
       "      <td>...</td>\n",
       "      <td>NaN</td>\n",
       "      <td>NaN</td>\n",
       "      <td>NaN</td>\n",
       "      <td>NaN</td>\n",
       "      <td>NaN</td>\n",
       "      <td>NaN</td>\n",
       "      <td>NaN</td>\n",
       "      <td>NaN</td>\n",
       "      <td>NaN</td>\n",
       "      <td>NaN</td>\n",
       "    </tr>\n",
       "    <tr>\n",
       "      <th>475</th>\n",
       "      <td>NaN</td>\n",
       "      <td>NaN</td>\n",
       "      <td>0.531114</td>\n",
       "      <td>NaN</td>\n",
       "      <td>NaN</td>\n",
       "      <td>NaN</td>\n",
       "      <td>NaN</td>\n",
       "      <td>NaN</td>\n",
       "      <td>NaN</td>\n",
       "      <td>NaN</td>\n",
       "      <td>...</td>\n",
       "      <td>NaN</td>\n",
       "      <td>NaN</td>\n",
       "      <td>NaN</td>\n",
       "      <td>NaN</td>\n",
       "      <td>NaN</td>\n",
       "      <td>NaN</td>\n",
       "      <td>NaN</td>\n",
       "      <td>NaN</td>\n",
       "      <td>NaN</td>\n",
       "      <td>NaN</td>\n",
       "    </tr>\n",
       "  </tbody>\n",
       "</table>\n",
       "<p>476 rows × 169 columns</p>\n",
       "</div>"
      ],
      "text/plain": [
       "          0    1         2         3         4    5         6         7    \\\n",
       "0    0.000000  0.0  0.132474  0.354631  0.141257  0.0  0.742338  0.075538   \n",
       "1    0.174059  NaN  0.000000       NaN       NaN  NaN       NaN       NaN   \n",
       "2         NaN  NaN  0.531114       NaN       NaN  NaN       NaN       NaN   \n",
       "3         NaN  NaN  0.000000       NaN       NaN  NaN       NaN       NaN   \n",
       "4    0.174059  NaN  0.000000       NaN       NaN  NaN       NaN       NaN   \n",
       "..        ...  ...       ...       ...       ...  ...       ...       ...   \n",
       "471  0.000000  NaN  0.000000       NaN       NaN  NaN       NaN       NaN   \n",
       "472       NaN  NaN  0.948276       NaN       NaN  NaN       NaN       NaN   \n",
       "473       NaN  NaN  0.947887       NaN       NaN  NaN       NaN       NaN   \n",
       "474  0.174059  NaN  0.000000       NaN       NaN  NaN       NaN       NaN   \n",
       "475       NaN  NaN  0.531114       NaN       NaN  NaN       NaN       NaN   \n",
       "\n",
       "          8        9    ...       159       160       161       162       163  \\\n",
       "0    0.856074  0.45356  ...  0.889283  0.119073  0.584074  0.982306  0.760433   \n",
       "1         NaN      NaN  ...       NaN       NaN       NaN       NaN       NaN   \n",
       "2         NaN      NaN  ...       NaN       NaN       NaN       NaN       NaN   \n",
       "3         NaN      NaN  ...       NaN       NaN       NaN       NaN       NaN   \n",
       "4         NaN      NaN  ...       NaN       NaN       NaN       NaN       NaN   \n",
       "..        ...      ...  ...       ...       ...       ...       ...       ...   \n",
       "471       NaN      NaN  ...       NaN       NaN       NaN       NaN       NaN   \n",
       "472       NaN      NaN  ...       NaN       NaN       NaN       NaN       NaN   \n",
       "473       NaN      NaN  ...       NaN       NaN       NaN       NaN       NaN   \n",
       "474       NaN      NaN  ...       NaN       NaN       NaN       NaN       NaN   \n",
       "475       NaN      NaN  ...       NaN       NaN       NaN       NaN       NaN   \n",
       "\n",
       "          164       165       166       167       168  \n",
       "0    0.839609  0.938249  0.969268  0.977821  0.989853  \n",
       "1         NaN       NaN       NaN       NaN       NaN  \n",
       "2         NaN       NaN       NaN       NaN       NaN  \n",
       "3         NaN       NaN       NaN       NaN       NaN  \n",
       "4         NaN       NaN       NaN       NaN       NaN  \n",
       "..        ...       ...       ...       ...       ...  \n",
       "471       NaN       NaN       NaN       NaN       NaN  \n",
       "472       NaN       NaN       NaN       NaN       NaN  \n",
       "473       NaN       NaN       NaN       NaN       NaN  \n",
       "474       NaN       NaN       NaN       NaN       NaN  \n",
       "475       NaN       NaN       NaN       NaN       NaN  \n",
       "\n",
       "[476 rows x 169 columns]"
      ]
     },
     "execution_count": 51,
     "metadata": {},
     "output_type": "execute_result"
    }
   ],
   "source": [
    "Dissj"
   ]
  },
  {
   "cell_type": "code",
   "execution_count": 70,
   "metadata": {},
   "outputs": [],
   "source": [
    "# generate random responses\n",
    "Xrand=[(np.random.randint(5,size=len(X[0]))+1).astype(str) for i in range(100)]"
   ]
  },
  {
   "cell_type": "code",
   "execution_count": 71,
   "metadata": {},
   "outputs": [
    {
     "data": {
      "application/vnd.jupyter.widget-view+json": {
       "model_id": "bdbe7a9d31b049b3968dadaa8cb4aefd",
       "version_major": 2,
       "version_minor": 0
      },
      "text/plain": [
       "HBox(children=(FloatProgress(value=0.0, description='SUBMITTING | ', style=ProgressStyle(description_width='in…"
      ]
     },
     "metadata": {},
     "output_type": "display_data"
    },
    {
     "name": "stdout",
     "output_type": "stream",
     "text": [
      "\n"
     ]
    },
    {
     "data": {
      "application/vnd.jupyter.widget-view+json": {
       "model_id": "2b51b130288d4d1f9f8d8ad30483b877",
       "version_major": 2,
       "version_minor": 0
      },
      "text/plain": [
       "HBox(children=(FloatProgress(value=0.0, description='PROCESSING | ', style=ProgressStyle(description_width='in…"
      ]
     },
     "metadata": {},
     "output_type": "display_data"
    },
    {
     "name": "stdout",
     "output_type": "stream",
     "text": [
      "\n"
     ]
    },
    {
     "data": {
      "application/vnd.jupyter.widget-view+json": {
       "model_id": "90f2776c57dc4c89a0b87918b2e8e75b",
       "version_major": 2,
       "version_minor": 0
      },
      "text/plain": [
       "HBox(children=(FloatProgress(value=0.0, description='COLLECTING | ', style=ProgressStyle(description_width='in…"
      ]
     },
     "metadata": {},
     "output_type": "display_data"
    },
    {
     "name": "stdout",
     "output_type": "stream",
     "text": [
      "\n"
     ]
    }
   ],
   "source": [
    "# compute dissonance for random responses\n",
    "samples=Xrand\n",
    "from pqdm.processes import pqdm                                                                     \n",
    "Dissrand=pqdm(range(len(Xrand)), getDissonance, n_jobs=12)                                                              \n",
    "Dissrand=pd.DataFrame(Dissrand)"
   ]
  },
  {
   "cell_type": "code",
   "execution_count": 216,
   "metadata": {
    "scrolled": false
   },
   "outputs": [
    {
     "name": "stdout",
     "output_type": "stream",
     "text": [
      "0.2995872932481531 0.18308203869040007\n"
     ]
    },
    {
     "data": {
      "image/png": "[encoded data removed]",
      "text/plain": [
       "<Figure size 504x360 with 1 Axes>"
      ]
     },
     "metadata": {},
     "output_type": "display_data"
    }
   ],
   "source": [
    "print(Dissj.mean(axis=1).mean(),Dissj.mean(axis=1).std())\n",
    "\n",
    "fig=plt.figure(figsize=[7,5])\n",
    "sns.set()\n",
    "\n",
    "ax=plt.gca()\n",
    "\n",
    "\n",
    "#Dissj.mean(axis=1).plot.kde(bw_method=0.25,lw=3,label='JAIL')\n",
    "#Diss.mean(axis=1).plot.kde(ax=ax,bw_method=0.25,lw=3,label='SA')\n",
    "DS=pd.DataFrame(Diss.mean(axis=1),columns=['SA']).join(pd.DataFrame(Dissj.mean(axis=1),columns=['JAIL'])).join(pd.DataFrame(Dissrand.mean(axis=1),columns=['RND']))\n",
    "\n",
    "DSTD=pd.DataFrame(Diss.std(axis=1),columns=['SA']).join(\n",
    "    pd.DataFrame(Dissj.std(axis=1),columns=['JAIL'])).join(\n",
    "    pd.DataFrame(Dissrand.std(axis=1),columns=['RND']))\n",
    "\n",
    "DS=DS.join(DSTD,rsuffix='_std').dropna()\n",
    "\n",
    "DS=DS.assign(delta=DS.SA-DS.JAIL)\n",
    "\n",
    "\n",
    "ax=DS.SA.plot.kde(bw_method=.2)\n",
    "DS.JAIL.plot.kde(ax=ax,bw_method=.2)\n",
    "DS.RND.plot.kde(ax=ax,bw_method=.3)\n",
    "ax.set_xlim(-.1,1)\n",
    "\n",
    "\n",
    "ax.set_title('Dissonance Distribution',fontsize=18,fontweight='bold',y=1.02,color='.5')\n",
    "plt.setp(ax.get_xticklabels(), fontsize=16,y=-.02)\n",
    "plt.setp(ax.get_yticklabels(), fontsize=16)\n",
    "ax.set_facecolor((1.0, 0.47, 0.42,0))\n",
    "fig.set_facecolor((1,0,1,0))\n",
    "ax.spines['bottom'].set_color('.75')\n",
    "ax.spines['top'].set_color('.75') \n",
    "ax.spines['right'].set_color('.75')\n",
    "ax.spines['left'].set_color('.75')\n",
    "ax.grid(color='#dddddd', linestyle='--', linewidth=2)\n",
    "plt.setp(ax.spines.values(), linewidth=1)\n",
    "ax.tick_params(axis='x', colors='.5')    #setting up X-axis tick color to red\n",
    "ax.tick_params(axis='y', colors='.5',pad=15)  #setting up Y-axis tick color to black\n",
    "#plt.gca().set_xlim(-.1,.4)\n",
    "ax.set_ylabel('density',fontsize=16,color='.5')\n",
    "ax.set_xlabel('mean dissonance (avg. over samples)',fontsize=16,color='.5')\n",
    "ax.legend(fontsize=16)\n",
    "\n",
    "plt.savefig(PREF+'dissonance_dist'+'.png',dpi=600,bbox_inches='tight',transparent=True)"
   ]
  },
  {
   "cell_type": "code",
   "execution_count": 236,
   "metadata": {},
   "outputs": [
    {
     "name": "stdout",
     "output_type": "stream",
     "text": [
      "0.5959091548171902\n"
     ]
    },
    {
     "data": {
      "image/png": "[encoded data removed]",
      "text/plain": [
       "<Figure size 432x288 with 1 Axes>"
      ]
     },
     "metadata": {},
     "output_type": "display_data"
    }
   ],
   "source": [
    "# determine threshold\n",
    "Dissrand.mean(axis=1).plot.kde()\n",
    "mRND=Dissrand.mean(axis=1).mean()\n",
    "sRND=Dissrand.mean(axis=1).std(ddof=1)\n",
    "from scipy import stats\n",
    "\n",
    "# alpha to critical\n",
    "alpha = 0.05\n",
    "n_sided = 1 # 2-sided test\n",
    "z_crit = stats.norm.ppf(1-alpha/n_sided)\n",
    "\n",
    "# critical to alpha\n",
    "#alpha = stats.norm.sf(z_crit) * n_sided\n",
    "#print(alpha) # 0.05\n",
    "\n",
    "threshold=(-z_crit*sRND)+mRND\n",
    "print(threshold)"
   ]
  },
  {
   "cell_type": "code",
   "execution_count": 241,
   "metadata": {},
   "outputs": [
    {
     "name": "stdout",
     "output_type": "stream",
     "text": [
      "476 34\n",
      "0    0.661849\n",
      "dtype: float64\n"
     ]
    },
    {
     "data": {
      "image/png": "[encoded data removed]",
      "text/plain": [
       "<Figure size 432x288 with 1 Axes>"
      ]
     },
     "metadata": {},
     "output_type": "display_data"
    }
   ],
   "source": [
    "Diss.mean(axis=1).plot.kde()\n",
    "Dissj.mean(axis=1).plot.kde()\n",
    "TH=threshold\n",
    "\n",
    "mDissj=Dissj.mean(axis=1).sort_values(ascending=False)\n",
    "print(mDissj.index.size,mDissj[mDissj>TH].index.size)\n",
    "mDiss=Diss.mean(axis=1).sort_values(ascending=False)\n",
    "print(mDiss[mDiss>TH])\n"
   ]
  },
  {
   "cell_type": "code",
   "execution_count": 128,
   "metadata": {
    "scrolled": false
   },
   "outputs": [
    {
     "name": "stdout",
     "output_type": "stream",
     "text": [
      "0.2995872932481531 0.18308203869040007\n"
     ]
    }
   ],
   "source": [
    "print(Dissj.mean(axis=1).mean(),Dissj.mean(axis=1).std())\n",
    "\n",
    "\n",
    "\n",
    "\n",
    "#Dissj.mean(axis=1).plot.kde(bw_method=0.25,lw=3,label='JAIL')\n",
    "#Diss.mean(axis=1).plot.kde(ax=ax,bw_method=0.25,lw=3,label='SA')\n",
    "DS=pd.DataFrame(Diss.mean(axis=0),columns=['SA']).join(\n",
    "    pd.DataFrame(Dissj.mean(axis=0),columns=['JAIL'])).join(\n",
    "    pd.DataFrame(Dissrand.mean(axis=0),columns=['RND']))\n",
    "DSTD=pd.DataFrame(Diss.std(axis=0),columns=['SA']).join(\n",
    "    pd.DataFrame(Dissj.std(axis=0),columns=['JAIL'])).join(\n",
    "    pd.DataFrame(Dissrand.std(axis=0),columns=['RND']))\n",
    "DSn=pd.DataFrame(Diss.count(axis=0),columns=['SA']).join(\n",
    "    pd.DataFrame(Dissj.count(axis=0),columns=['JAIL'])).join(\n",
    "    pd.DataFrame(Dissrand.count(axis=0),columns=['RND']))\n",
    "\n",
    "\n",
    "\n",
    "DS=DS.assign(delta=DS.SA-DS.JAIL)"
   ]
  },
  {
   "cell_type": "code",
   "execution_count": 130,
   "metadata": {},
   "outputs": [
    {
     "data": {
      "text/html": [
       "<div>\n",
       "<style scoped>\n",
       "    .dataframe tbody tr th:only-of-type {\n",
       "        vertical-align: middle;\n",
       "    }\n",
       "\n",
       "    .dataframe tbody tr th {\n",
       "        vertical-align: top;\n",
       "    }\n",
       "\n",
       "    .dataframe thead th {\n",
       "        text-align: right;\n",
       "    }\n",
       "</style>\n",
       "<table border=\"1\" class=\"dataframe\">\n",
       "  <thead>\n",
       "    <tr style=\"text-align: right;\">\n",
       "      <th></th>\n",
       "      <th>SA</th>\n",
       "      <th>JAIL</th>\n",
       "      <th>RND</th>\n",
       "      <th>delta</th>\n",
       "      <th>SA_std</th>\n",
       "      <th>JAIL_std</th>\n",
       "      <th>RND_std</th>\n",
       "      <th>SA_n</th>\n",
       "      <th>JAIL_n</th>\n",
       "      <th>RND_n</th>\n",
       "    </tr>\n",
       "  </thead>\n",
       "  <tbody>\n",
       "    <tr>\n",
       "      <th>0</th>\n",
       "      <td>0.087542</td>\n",
       "      <td>0.140488</td>\n",
       "      <td>0.807192</td>\n",
       "      <td>-0.052946</td>\n",
       "      <td>0.007626</td>\n",
       "      <td>0.017600</td>\n",
       "      <td>0.038119</td>\n",
       "      <td>1015</td>\n",
       "      <td>166</td>\n",
       "      <td>100</td>\n",
       "    </tr>\n",
       "    <tr>\n",
       "      <th>2</th>\n",
       "      <td>0.212351</td>\n",
       "      <td>0.284472</td>\n",
       "      <td>0.702066</td>\n",
       "      <td>-0.072121</td>\n",
       "      <td>0.010339</td>\n",
       "      <td>0.018660</td>\n",
       "      <td>0.041459</td>\n",
       "      <td>1015</td>\n",
       "      <td>476</td>\n",
       "      <td>100</td>\n",
       "    </tr>\n",
       "    <tr>\n",
       "      <th>4</th>\n",
       "      <td>0.131427</td>\n",
       "      <td>0.047086</td>\n",
       "      <td>0.731912</td>\n",
       "      <td>0.084341</td>\n",
       "      <td>0.007643</td>\n",
       "      <td>0.047086</td>\n",
       "      <td>0.040260</td>\n",
       "      <td>1015</td>\n",
       "      <td>3</td>\n",
       "      <td>100</td>\n",
       "    </tr>\n",
       "    <tr>\n",
       "      <th>20</th>\n",
       "      <td>0.051634</td>\n",
       "      <td>0.151566</td>\n",
       "      <td>0.841260</td>\n",
       "      <td>-0.099932</td>\n",
       "      <td>0.009682</td>\n",
       "      <td>0.016214</td>\n",
       "      <td>0.035535</td>\n",
       "      <td>514</td>\n",
       "      <td>476</td>\n",
       "      <td>100</td>\n",
       "    </tr>\n",
       "    <tr>\n",
       "      <th>21</th>\n",
       "      <td>0.140105</td>\n",
       "      <td>0.112225</td>\n",
       "      <td>0.740047</td>\n",
       "      <td>0.027880</td>\n",
       "      <td>0.014893</td>\n",
       "      <td>0.013809</td>\n",
       "      <td>0.041772</td>\n",
       "      <td>514</td>\n",
       "      <td>476</td>\n",
       "      <td>100</td>\n",
       "    </tr>\n",
       "    <tr>\n",
       "      <th>23</th>\n",
       "      <td>0.225381</td>\n",
       "      <td>0.148038</td>\n",
       "      <td>0.729077</td>\n",
       "      <td>0.077342</td>\n",
       "      <td>0.017651</td>\n",
       "      <td>0.015353</td>\n",
       "      <td>0.040094</td>\n",
       "      <td>514</td>\n",
       "      <td>476</td>\n",
       "      <td>100</td>\n",
       "    </tr>\n",
       "    <tr>\n",
       "      <th>25</th>\n",
       "      <td>0.129123</td>\n",
       "      <td>0.265092</td>\n",
       "      <td>0.814769</td>\n",
       "      <td>-0.135969</td>\n",
       "      <td>0.014601</td>\n",
       "      <td>0.019397</td>\n",
       "      <td>0.037068</td>\n",
       "      <td>514</td>\n",
       "      <td>476</td>\n",
       "      <td>100</td>\n",
       "    </tr>\n",
       "    <tr>\n",
       "      <th>31</th>\n",
       "      <td>0.125031</td>\n",
       "      <td>0.444488</td>\n",
       "      <td>0.831787</td>\n",
       "      <td>-0.319457</td>\n",
       "      <td>0.010600</td>\n",
       "      <td>0.035120</td>\n",
       "      <td>0.036597</td>\n",
       "      <td>909</td>\n",
       "      <td>150</td>\n",
       "      <td>100</td>\n",
       "    </tr>\n",
       "    <tr>\n",
       "      <th>32</th>\n",
       "      <td>0.105200</td>\n",
       "      <td>0.673998</td>\n",
       "      <td>0.822451</td>\n",
       "      <td>-0.568797</td>\n",
       "      <td>0.009681</td>\n",
       "      <td>0.143877</td>\n",
       "      <td>0.037440</td>\n",
       "      <td>910</td>\n",
       "      <td>3</td>\n",
       "      <td>100</td>\n",
       "    </tr>\n",
       "    <tr>\n",
       "      <th>33</th>\n",
       "      <td>0.044305</td>\n",
       "      <td>0.549451</td>\n",
       "      <td>0.770380</td>\n",
       "      <td>-0.505147</td>\n",
       "      <td>0.006640</td>\n",
       "      <td>0.079545</td>\n",
       "      <td>0.040710</td>\n",
       "      <td>910</td>\n",
       "      <td>31</td>\n",
       "      <td>100</td>\n",
       "    </tr>\n",
       "    <tr>\n",
       "      <th>34</th>\n",
       "      <td>0.066679</td>\n",
       "      <td>0.457301</td>\n",
       "      <td>0.744426</td>\n",
       "      <td>-0.390622</td>\n",
       "      <td>0.008165</td>\n",
       "      <td>0.077415</td>\n",
       "      <td>0.042073</td>\n",
       "      <td>909</td>\n",
       "      <td>35</td>\n",
       "      <td>100</td>\n",
       "    </tr>\n",
       "    <tr>\n",
       "      <th>54</th>\n",
       "      <td>0.276708</td>\n",
       "      <td>0.115067</td>\n",
       "      <td>0.752548</td>\n",
       "      <td>0.161641</td>\n",
       "      <td>0.018405</td>\n",
       "      <td>0.063587</td>\n",
       "      <td>0.040602</td>\n",
       "      <td>511</td>\n",
       "      <td>24</td>\n",
       "      <td>100</td>\n",
       "    </tr>\n",
       "    <tr>\n",
       "      <th>58</th>\n",
       "      <td>0.150493</td>\n",
       "      <td>0.258721</td>\n",
       "      <td>0.829743</td>\n",
       "      <td>-0.108227</td>\n",
       "      <td>0.011030</td>\n",
       "      <td>0.114670</td>\n",
       "      <td>0.036428</td>\n",
       "      <td>1021</td>\n",
       "      <td>15</td>\n",
       "      <td>100</td>\n",
       "    </tr>\n",
       "    <tr>\n",
       "      <th>59</th>\n",
       "      <td>0.197822</td>\n",
       "      <td>0.364835</td>\n",
       "      <td>0.759865</td>\n",
       "      <td>-0.167013</td>\n",
       "      <td>0.012107</td>\n",
       "      <td>0.036583</td>\n",
       "      <td>0.040624</td>\n",
       "      <td>1022</td>\n",
       "      <td>144</td>\n",
       "      <td>100</td>\n",
       "    </tr>\n",
       "    <tr>\n",
       "      <th>62</th>\n",
       "      <td>0.073597</td>\n",
       "      <td>0.980042</td>\n",
       "      <td>0.815294</td>\n",
       "      <td>-0.906445</td>\n",
       "      <td>0.009052</td>\n",
       "      <td>0.012945</td>\n",
       "      <td>0.036557</td>\n",
       "      <td>814</td>\n",
       "      <td>4</td>\n",
       "      <td>100</td>\n",
       "    </tr>\n",
       "    <tr>\n",
       "      <th>64</th>\n",
       "      <td>0.141214</td>\n",
       "      <td>0.282875</td>\n",
       "      <td>0.791014</td>\n",
       "      <td>-0.141662</td>\n",
       "      <td>0.010782</td>\n",
       "      <td>0.182600</td>\n",
       "      <td>0.039771</td>\n",
       "      <td>1020</td>\n",
       "      <td>7</td>\n",
       "      <td>100</td>\n",
       "    </tr>\n",
       "    <tr>\n",
       "      <th>68</th>\n",
       "      <td>0.231476</td>\n",
       "      <td>0.489902</td>\n",
       "      <td>0.586897</td>\n",
       "      <td>-0.258425</td>\n",
       "      <td>0.009285</td>\n",
       "      <td>0.032032</td>\n",
       "      <td>0.031658</td>\n",
       "      <td>1026</td>\n",
       "      <td>85</td>\n",
       "      <td>100</td>\n",
       "    </tr>\n",
       "    <tr>\n",
       "      <th>69</th>\n",
       "      <td>0.305868</td>\n",
       "      <td>0.615946</td>\n",
       "      <td>0.546998</td>\n",
       "      <td>-0.310078</td>\n",
       "      <td>0.007919</td>\n",
       "      <td>0.006133</td>\n",
       "      <td>0.031902</td>\n",
       "      <td>1027</td>\n",
       "      <td>64</td>\n",
       "      <td>100</td>\n",
       "    </tr>\n",
       "    <tr>\n",
       "      <th>72</th>\n",
       "      <td>0.202883</td>\n",
       "      <td>0.189754</td>\n",
       "      <td>0.500490</td>\n",
       "      <td>0.013129</td>\n",
       "      <td>0.007400</td>\n",
       "      <td>0.122868</td>\n",
       "      <td>0.032630</td>\n",
       "      <td>1027</td>\n",
       "      <td>4</td>\n",
       "      <td>100</td>\n",
       "    </tr>\n",
       "    <tr>\n",
       "      <th>79</th>\n",
       "      <td>0.338401</td>\n",
       "      <td>0.818970</td>\n",
       "      <td>0.637811</td>\n",
       "      <td>-0.480568</td>\n",
       "      <td>0.011090</td>\n",
       "      <td>0.020711</td>\n",
       "      <td>0.033996</td>\n",
       "      <td>1026</td>\n",
       "      <td>73</td>\n",
       "      <td>100</td>\n",
       "    </tr>\n",
       "    <tr>\n",
       "      <th>80</th>\n",
       "      <td>0.341209</td>\n",
       "      <td>0.223779</td>\n",
       "      <td>0.600570</td>\n",
       "      <td>0.117430</td>\n",
       "      <td>0.009143</td>\n",
       "      <td>0.148162</td>\n",
       "      <td>0.034533</td>\n",
       "      <td>1026</td>\n",
       "      <td>3</td>\n",
       "      <td>100</td>\n",
       "    </tr>\n",
       "    <tr>\n",
       "      <th>88</th>\n",
       "      <td>0.304599</td>\n",
       "      <td>0.363725</td>\n",
       "      <td>0.462646</td>\n",
       "      <td>-0.059126</td>\n",
       "      <td>0.009619</td>\n",
       "      <td>0.209997</td>\n",
       "      <td>0.032688</td>\n",
       "      <td>1009</td>\n",
       "      <td>4</td>\n",
       "      <td>100</td>\n",
       "    </tr>\n",
       "    <tr>\n",
       "      <th>91</th>\n",
       "      <td>0.316109</td>\n",
       "      <td>0.296661</td>\n",
       "      <td>0.522663</td>\n",
       "      <td>0.019448</td>\n",
       "      <td>0.009889</td>\n",
       "      <td>0.030569</td>\n",
       "      <td>0.032326</td>\n",
       "      <td>1012</td>\n",
       "      <td>179</td>\n",
       "      <td>100</td>\n",
       "    </tr>\n",
       "    <tr>\n",
       "      <th>93</th>\n",
       "      <td>0.374169</td>\n",
       "      <td>0.335679</td>\n",
       "      <td>0.542126</td>\n",
       "      <td>0.038491</td>\n",
       "      <td>0.010543</td>\n",
       "      <td>0.072429</td>\n",
       "      <td>0.034972</td>\n",
       "      <td>1012</td>\n",
       "      <td>20</td>\n",
       "      <td>100</td>\n",
       "    </tr>\n",
       "    <tr>\n",
       "      <th>97</th>\n",
       "      <td>0.256628</td>\n",
       "      <td>0.379966</td>\n",
       "      <td>0.497558</td>\n",
       "      <td>-0.123338</td>\n",
       "      <td>0.009137</td>\n",
       "      <td>0.084511</td>\n",
       "      <td>0.031033</td>\n",
       "      <td>1013</td>\n",
       "      <td>17</td>\n",
       "      <td>100</td>\n",
       "    </tr>\n",
       "    <tr>\n",
       "      <th>98</th>\n",
       "      <td>0.320735</td>\n",
       "      <td>0.118242</td>\n",
       "      <td>0.569681</td>\n",
       "      <td>0.202493</td>\n",
       "      <td>0.010148</td>\n",
       "      <td>0.013543</td>\n",
       "      <td>0.034642</td>\n",
       "      <td>1014</td>\n",
       "      <td>294</td>\n",
       "      <td>100</td>\n",
       "    </tr>\n",
       "    <tr>\n",
       "      <th>99</th>\n",
       "      <td>0.289125</td>\n",
       "      <td>0.346982</td>\n",
       "      <td>0.416599</td>\n",
       "      <td>-0.057858</td>\n",
       "      <td>0.009313</td>\n",
       "      <td>0.085633</td>\n",
       "      <td>0.031236</td>\n",
       "      <td>1013</td>\n",
       "      <td>21</td>\n",
       "      <td>100</td>\n",
       "    </tr>\n",
       "    <tr>\n",
       "      <th>100</th>\n",
       "      <td>0.274133</td>\n",
       "      <td>0.088676</td>\n",
       "      <td>0.365764</td>\n",
       "      <td>0.185458</td>\n",
       "      <td>0.009113</td>\n",
       "      <td>0.023562</td>\n",
       "      <td>0.028976</td>\n",
       "      <td>1014</td>\n",
       "      <td>86</td>\n",
       "      <td>100</td>\n",
       "    </tr>\n",
       "    <tr>\n",
       "      <th>105</th>\n",
       "      <td>0.217376</td>\n",
       "      <td>0.249729</td>\n",
       "      <td>0.565118</td>\n",
       "      <td>-0.032353</td>\n",
       "      <td>0.009516</td>\n",
       "      <td>0.035558</td>\n",
       "      <td>0.034342</td>\n",
       "      <td>1011</td>\n",
       "      <td>127</td>\n",
       "      <td>100</td>\n",
       "    </tr>\n",
       "    <tr>\n",
       "      <th>106</th>\n",
       "      <td>0.242476</td>\n",
       "      <td>0.139354</td>\n",
       "      <td>0.526518</td>\n",
       "      <td>0.103122</td>\n",
       "      <td>0.008621</td>\n",
       "      <td>0.058539</td>\n",
       "      <td>0.030749</td>\n",
       "      <td>1012</td>\n",
       "      <td>23</td>\n",
       "      <td>100</td>\n",
       "    </tr>\n",
       "    <tr>\n",
       "      <th>114</th>\n",
       "      <td>0.241870</td>\n",
       "      <td>0.150434</td>\n",
       "      <td>0.375720</td>\n",
       "      <td>0.091436</td>\n",
       "      <td>0.013303</td>\n",
       "      <td>0.039352</td>\n",
       "      <td>0.028188</td>\n",
       "      <td>402</td>\n",
       "      <td>43</td>\n",
       "      <td>100</td>\n",
       "    </tr>\n",
       "    <tr>\n",
       "      <th>115</th>\n",
       "      <td>0.360821</td>\n",
       "      <td>0.255539</td>\n",
       "      <td>0.562483</td>\n",
       "      <td>0.105282</td>\n",
       "      <td>0.014226</td>\n",
       "      <td>0.018716</td>\n",
       "      <td>0.030390</td>\n",
       "      <td>402</td>\n",
       "      <td>293</td>\n",
       "      <td>100</td>\n",
       "    </tr>\n",
       "    <tr>\n",
       "      <th>116</th>\n",
       "      <td>0.253902</td>\n",
       "      <td>0.013625</td>\n",
       "      <td>0.434439</td>\n",
       "      <td>0.240277</td>\n",
       "      <td>0.013487</td>\n",
       "      <td>0.008023</td>\n",
       "      <td>0.030777</td>\n",
       "      <td>402</td>\n",
       "      <td>71</td>\n",
       "      <td>100</td>\n",
       "    </tr>\n",
       "    <tr>\n",
       "      <th>117</th>\n",
       "      <td>0.408448</td>\n",
       "      <td>0.342129</td>\n",
       "      <td>0.545033</td>\n",
       "      <td>0.066319</td>\n",
       "      <td>0.014854</td>\n",
       "      <td>0.016732</td>\n",
       "      <td>0.028482</td>\n",
       "      <td>402</td>\n",
       "      <td>326</td>\n",
       "      <td>100</td>\n",
       "    </tr>\n",
       "    <tr>\n",
       "      <th>118</th>\n",
       "      <td>0.232260</td>\n",
       "      <td>0.529476</td>\n",
       "      <td>0.391718</td>\n",
       "      <td>-0.297216</td>\n",
       "      <td>0.012100</td>\n",
       "      <td>0.021906</td>\n",
       "      <td>0.030193</td>\n",
       "      <td>402</td>\n",
       "      <td>244</td>\n",
       "      <td>100</td>\n",
       "    </tr>\n",
       "    <tr>\n",
       "      <th>127</th>\n",
       "      <td>0.150589</td>\n",
       "      <td>0.356933</td>\n",
       "      <td>0.447446</td>\n",
       "      <td>-0.206344</td>\n",
       "      <td>0.013552</td>\n",
       "      <td>0.029186</td>\n",
       "      <td>0.035384</td>\n",
       "      <td>402</td>\n",
       "      <td>170</td>\n",
       "      <td>100</td>\n",
       "    </tr>\n",
       "    <tr>\n",
       "      <th>128</th>\n",
       "      <td>0.249372</td>\n",
       "      <td>0.213464</td>\n",
       "      <td>0.491078</td>\n",
       "      <td>0.035908</td>\n",
       "      <td>0.014671</td>\n",
       "      <td>0.017005</td>\n",
       "      <td>0.029518</td>\n",
       "      <td>402</td>\n",
       "      <td>382</td>\n",
       "      <td>100</td>\n",
       "    </tr>\n",
       "    <tr>\n",
       "      <th>132</th>\n",
       "      <td>0.325667</td>\n",
       "      <td>0.631529</td>\n",
       "      <td>0.489290</td>\n",
       "      <td>-0.305862</td>\n",
       "      <td>0.012916</td>\n",
       "      <td>0.021129</td>\n",
       "      <td>0.032577</td>\n",
       "      <td>514</td>\n",
       "      <td>146</td>\n",
       "      <td>100</td>\n",
       "    </tr>\n",
       "    <tr>\n",
       "      <th>133</th>\n",
       "      <td>0.302398</td>\n",
       "      <td>0.581300</td>\n",
       "      <td>0.514658</td>\n",
       "      <td>-0.278903</td>\n",
       "      <td>0.013244</td>\n",
       "      <td>0.035686</td>\n",
       "      <td>0.025672</td>\n",
       "      <td>513</td>\n",
       "      <td>68</td>\n",
       "      <td>100</td>\n",
       "    </tr>\n",
       "    <tr>\n",
       "      <th>142</th>\n",
       "      <td>0.306387</td>\n",
       "      <td>0.312630</td>\n",
       "      <td>0.401991</td>\n",
       "      <td>-0.006243</td>\n",
       "      <td>0.012586</td>\n",
       "      <td>0.031369</td>\n",
       "      <td>0.029915</td>\n",
       "      <td>511</td>\n",
       "      <td>164</td>\n",
       "      <td>100</td>\n",
       "    </tr>\n",
       "  </tbody>\n",
       "</table>\n",
       "</div>"
      ],
      "text/plain": [
       "           SA      JAIL       RND     delta    SA_std  JAIL_std   RND_std  \\\n",
       "0    0.087542  0.140488  0.807192 -0.052946  0.007626  0.017600  0.038119   \n",
       "2    0.212351  0.284472  0.702066 -0.072121  0.010339  0.018660  0.041459   \n",
       "4    0.131427  0.047086  0.731912  0.084341  0.007643  0.047086  0.040260   \n",
       "20   0.051634  0.151566  0.841260 -0.099932  0.009682  0.016214  0.035535   \n",
       "21   0.140105  0.112225  0.740047  0.027880  0.014893  0.013809  0.041772   \n",
       "23   0.225381  0.148038  0.729077  0.077342  0.017651  0.015353  0.040094   \n",
       "25   0.129123  0.265092  0.814769 -0.135969  0.014601  0.019397  0.037068   \n",
       "31   0.125031  0.444488  0.831787 -0.319457  0.010600  0.035120  0.036597   \n",
       "32   0.105200  0.673998  0.822451 -0.568797  0.009681  0.143877  0.037440   \n",
       "33   0.044305  0.549451  0.770380 -0.505147  0.006640  0.079545  0.040710   \n",
       "34   0.066679  0.457301  0.744426 -0.390622  0.008165  0.077415  0.042073   \n",
       "54   0.276708  0.115067  0.752548  0.161641  0.018405  0.063587  0.040602   \n",
       "58   0.150493  0.258721  0.829743 -0.108227  0.011030  0.114670  0.036428   \n",
       "59   0.197822  0.364835  0.759865 -0.167013  0.012107  0.036583  0.040624   \n",
       "62   0.073597  0.980042  0.815294 -0.906445  0.009052  0.012945  0.036557   \n",
       "64   0.141214  0.282875  0.791014 -0.141662  0.010782  0.182600  0.039771   \n",
       "68   0.231476  0.489902  0.586897 -0.258425  0.009285  0.032032  0.031658   \n",
       "69   0.305868  0.615946  0.546998 -0.310078  0.007919  0.006133  0.031902   \n",
       "72   0.202883  0.189754  0.500490  0.013129  0.007400  0.122868  0.032630   \n",
       "79   0.338401  0.818970  0.637811 -0.480568  0.011090  0.020711  0.033996   \n",
       "80   0.341209  0.223779  0.600570  0.117430  0.009143  0.148162  0.034533   \n",
       "88   0.304599  0.363725  0.462646 -0.059126  0.009619  0.209997  0.032688   \n",
       "91   0.316109  0.296661  0.522663  0.019448  0.009889  0.030569  0.032326   \n",
       "93   0.374169  0.335679  0.542126  0.038491  0.010543  0.072429  0.034972   \n",
       "97   0.256628  0.379966  0.497558 -0.123338  0.009137  0.084511  0.031033   \n",
       "98   0.320735  0.118242  0.569681  0.202493  0.010148  0.013543  0.034642   \n",
       "99   0.289125  0.346982  0.416599 -0.057858  0.009313  0.085633  0.031236   \n",
       "100  0.274133  0.088676  0.365764  0.185458  0.009113  0.023562  0.028976   \n",
       "105  0.217376  0.249729  0.565118 -0.032353  0.009516  0.035558  0.034342   \n",
       "106  0.242476  0.139354  0.526518  0.103122  0.008621  0.058539  0.030749   \n",
       "114  0.241870  0.150434  0.375720  0.091436  0.013303  0.039352  0.028188   \n",
       "115  0.360821  0.255539  0.562483  0.105282  0.014226  0.018716  0.030390   \n",
       "116  0.253902  0.013625  0.434439  0.240277  0.013487  0.008023  0.030777   \n",
       "117  0.408448  0.342129  0.545033  0.066319  0.014854  0.016732  0.028482   \n",
       "118  0.232260  0.529476  0.391718 -0.297216  0.012100  0.021906  0.030193   \n",
       "127  0.150589  0.356933  0.447446 -0.206344  0.013552  0.029186  0.035384   \n",
       "128  0.249372  0.213464  0.491078  0.035908  0.014671  0.017005  0.029518   \n",
       "132  0.325667  0.631529  0.489290 -0.305862  0.012916  0.021129  0.032577   \n",
       "133  0.302398  0.581300  0.514658 -0.278903  0.013244  0.035686  0.025672   \n",
       "142  0.306387  0.312630  0.401991 -0.006243  0.012586  0.031369  0.029915   \n",
       "\n",
       "     SA_n  JAIL_n  RND_n  \n",
       "0    1015     166    100  \n",
       "2    1015     476    100  \n",
       "4    1015       3    100  \n",
       "20    514     476    100  \n",
       "21    514     476    100  \n",
       "23    514     476    100  \n",
       "25    514     476    100  \n",
       "31    909     150    100  \n",
       "32    910       3    100  \n",
       "33    910      31    100  \n",
       "34    909      35    100  \n",
       "54    511      24    100  \n",
       "58   1021      15    100  \n",
       "59   1022     144    100  \n",
       "62    814       4    100  \n",
       "64   1020       7    100  \n",
       "68   1026      85    100  \n",
       "69   1027      64    100  \n",
       "72   1027       4    100  \n",
       "79   1026      73    100  \n",
       "80   1026       3    100  \n",
       "88   1009       4    100  \n",
       "91   1012     179    100  \n",
       "93   1012      20    100  \n",
       "97   1013      17    100  \n",
       "98   1014     294    100  \n",
       "99   1013      21    100  \n",
       "100  1014      86    100  \n",
       "105  1011     127    100  \n",
       "106  1012      23    100  \n",
       "114   402      43    100  \n",
       "115   402     293    100  \n",
       "116   402      71    100  \n",
       "117   402     326    100  \n",
       "118   402     244    100  \n",
       "127   402     170    100  \n",
       "128   402     382    100  \n",
       "132   514     146    100  \n",
       "133   513      68    100  \n",
       "142   511     164    100  "
      ]
     },
     "execution_count": 130,
     "metadata": {},
     "output_type": "execute_result"
    }
   ],
   "source": [
    "DSs=DS.join(DSTD,rsuffix='_std').join(DSn,rsuffix='_n').dropna()\n",
    "DSs.SA_std=DSs.SA_std/np.sqrt(DSs.SA_n)\n",
    "DSs.JAIL_std=DSs.JAIL_std/np.sqrt(DSs.JAIL_n)\n",
    "DSs.RND_std=DSs.RND_std/np.sqrt(DSs.RND_n)\n",
    "DSs"
   ]
  },
  {
   "cell_type": "code",
   "execution_count": 131,
   "metadata": {},
   "outputs": [
    {
     "data": {
      "image/png": "[encoded data removed]",
      "text/plain": [
       "<Figure size 504x360 with 1 Axes>"
      ]
     },
     "metadata": {},
     "output_type": "display_data"
    }
   ],
   "source": [
    "fig=plt.figure(figsize=[7,5])\n",
    "sns.set()\n",
    "\n",
    "ax=plt.gca()\n",
    "\n",
    "ax=DSs.SA.plot.kde(bw_method=.4)\n",
    "\n",
    "#(DSs.SA+DSs.SA_std).plot.kde(ax=ax,color='.8',bw_method=.4)\n",
    "#(DSs.SA-DSs.SA_std).plot.kde(ax=ax,color='.8',bw_method=.4)\n",
    "\n",
    "\n",
    "DSs.JAIL.plot.kde(ax=ax,bw_method=.3)\n",
    "#(DSs.JAIL+DSs.JAIL_std).plot.kde(ax=ax,color='.8',bw_method=.2)\n",
    "#(DSs.JAIL-DSs.JAIL_std).plot.kde(ax=ax,color='.8',bw_method=.2)\n",
    "\n",
    "DSs.RND.plot.kde(ax=ax,bw_method=.4)\n",
    "#(DSs.RND+DSs.RND_std).plot.kde(ax=ax,color='.8',bw_method=.4)\n",
    "#(DSs.RND-DSs.RND_std).plot.kde(ax=ax,color='.8',bw_method=.4)\n",
    "ax.set_xlim(-.1,1)\n",
    "\n",
    "\n",
    "\n",
    "\n",
    "ax.set_title('Dissonance Distribution',fontsize=18,fontweight='bold',y=1.02,color='.5')\n",
    "plt.setp(ax.get_xticklabels(), fontsize=16,y=-.02)\n",
    "plt.setp(ax.get_yticklabels(), fontsize=16)\n",
    "ax.set_facecolor((1.0, 0.47, 0.42,0))\n",
    "fig.set_facecolor((1,0,1,0))\n",
    "ax.spines['bottom'].set_color('.75')\n",
    "ax.spines['top'].set_color('.75') \n",
    "ax.spines['right'].set_color('.75')\n",
    "ax.spines['left'].set_color('.75')\n",
    "ax.grid(color='#dddddd', linestyle='--', linewidth=2)\n",
    "plt.setp(ax.spines.values(), linewidth=1)\n",
    "ax.tick_params(axis='x', colors='.5')    #setting up X-axis tick color to red\n",
    "ax.tick_params(axis='y', colors='.5',pad=15)  #setting up Y-axis tick color to black\n",
    "#plt.gca().set_xlim(-.1,.4)\n",
    "ax.set_ylabel('density',fontsize=16,color='.5')\n",
    "ax.set_xlabel('mean dissonance (avg. over items)',fontsize=16,color='.5')\n",
    "ax.legend(fontsize=16)\n",
    "\n",
    "plt.savefig(PREF+'dissonance_dist_items_nonnan'+'.png',dpi=600,bbox_inches='tight',transparent=True)"
   ]
  },
  {
   "cell_type": "code",
   "execution_count": 136,
   "metadata": {},
   "outputs": [
    {
     "data": {
      "text/plain": [
       "<matplotlib.axes._subplots.AxesSubplot at 0x7f797f878a58>"
      ]
     },
     "execution_count": 136,
     "metadata": {},
     "output_type": "execute_result"
    },
    {
     "data": {
      "image/png": "[encoded data removed]",
      "text/plain": [
       "<Figure size 432x288 with 1 Axes>"
      ]
     },
     "metadata": {},
     "output_type": "display_data"
    }
   ],
   "source": [
    "DD=DSs.assign(deltaabs=np.abs(DSs.delta)).sort_values('deltaabs',ascending=False).reset_index()\n",
    "#DD=DD[DD.deltaabs>0.4]\n",
    "sns.scatterplot(y='delta',x=DD.index,data=DD,hue='index')"
   ]
  },
  {
   "cell_type": "code",
   "execution_count": 138,
   "metadata": {},
   "outputs": [
    {
     "data": {
      "text/html": [
       "<div>\n",
       "<style scoped>\n",
       "    .dataframe tbody tr th:only-of-type {\n",
       "        vertical-align: middle;\n",
       "    }\n",
       "\n",
       "    .dataframe tbody tr th {\n",
       "        vertical-align: top;\n",
       "    }\n",
       "\n",
       "    .dataframe thead th {\n",
       "        text-align: right;\n",
       "    }\n",
       "</style>\n",
       "<table border=\"1\" class=\"dataframe\">\n",
       "  <thead>\n",
       "    <tr style=\"text-align: right;\">\n",
       "      <th></th>\n",
       "      <th>index</th>\n",
       "      <th>SA</th>\n",
       "      <th>JAIL</th>\n",
       "      <th>RND</th>\n",
       "      <th>delta</th>\n",
       "      <th>SA_std</th>\n",
       "      <th>JAIL_std</th>\n",
       "      <th>RND_std</th>\n",
       "      <th>SA_n</th>\n",
       "      <th>JAIL_n</th>\n",
       "      <th>RND_n</th>\n",
       "      <th>deltaabs</th>\n",
       "    </tr>\n",
       "  </thead>\n",
       "  <tbody>\n",
       "    <tr>\n",
       "      <th>0</th>\n",
       "      <td>62</td>\n",
       "      <td>0.073597</td>\n",
       "      <td>0.980042</td>\n",
       "      <td>0.815294</td>\n",
       "      <td>-0.906445</td>\n",
       "      <td>0.009052</td>\n",
       "      <td>0.012945</td>\n",
       "      <td>0.036557</td>\n",
       "      <td>814</td>\n",
       "      <td>4</td>\n",
       "      <td>100</td>\n",
       "      <td>0.906445</td>\n",
       "    </tr>\n",
       "    <tr>\n",
       "      <th>1</th>\n",
       "      <td>32</td>\n",
       "      <td>0.105200</td>\n",
       "      <td>0.673998</td>\n",
       "      <td>0.822451</td>\n",
       "      <td>-0.568797</td>\n",
       "      <td>0.009681</td>\n",
       "      <td>0.143877</td>\n",
       "      <td>0.037440</td>\n",
       "      <td>910</td>\n",
       "      <td>3</td>\n",
       "      <td>100</td>\n",
       "      <td>0.568797</td>\n",
       "    </tr>\n",
       "    <tr>\n",
       "      <th>2</th>\n",
       "      <td>33</td>\n",
       "      <td>0.044305</td>\n",
       "      <td>0.549451</td>\n",
       "      <td>0.770380</td>\n",
       "      <td>-0.505147</td>\n",
       "      <td>0.006640</td>\n",
       "      <td>0.079545</td>\n",
       "      <td>0.040710</td>\n",
       "      <td>910</td>\n",
       "      <td>31</td>\n",
       "      <td>100</td>\n",
       "      <td>0.505147</td>\n",
       "    </tr>\n",
       "    <tr>\n",
       "      <th>3</th>\n",
       "      <td>79</td>\n",
       "      <td>0.338401</td>\n",
       "      <td>0.818970</td>\n",
       "      <td>0.637811</td>\n",
       "      <td>-0.480568</td>\n",
       "      <td>0.011090</td>\n",
       "      <td>0.020711</td>\n",
       "      <td>0.033996</td>\n",
       "      <td>1026</td>\n",
       "      <td>73</td>\n",
       "      <td>100</td>\n",
       "      <td>0.480568</td>\n",
       "    </tr>\n",
       "    <tr>\n",
       "      <th>4</th>\n",
       "      <td>34</td>\n",
       "      <td>0.066679</td>\n",
       "      <td>0.457301</td>\n",
       "      <td>0.744426</td>\n",
       "      <td>-0.390622</td>\n",
       "      <td>0.008165</td>\n",
       "      <td>0.077415</td>\n",
       "      <td>0.042073</td>\n",
       "      <td>909</td>\n",
       "      <td>35</td>\n",
       "      <td>100</td>\n",
       "      <td>0.390622</td>\n",
       "    </tr>\n",
       "  </tbody>\n",
       "</table>\n",
       "</div>"
      ],
      "text/plain": [
       "   index        SA      JAIL       RND     delta    SA_std  JAIL_std  \\\n",
       "0     62  0.073597  0.980042  0.815294 -0.906445  0.009052  0.012945   \n",
       "1     32  0.105200  0.673998  0.822451 -0.568797  0.009681  0.143877   \n",
       "2     33  0.044305  0.549451  0.770380 -0.505147  0.006640  0.079545   \n",
       "3     79  0.338401  0.818970  0.637811 -0.480568  0.011090  0.020711   \n",
       "4     34  0.066679  0.457301  0.744426 -0.390622  0.008165  0.077415   \n",
       "\n",
       "    RND_std  SA_n  JAIL_n  RND_n  deltaabs  \n",
       "0  0.036557   814       4    100  0.906445  \n",
       "1  0.037440   910       3    100  0.568797  \n",
       "2  0.040710   910      31    100  0.505147  \n",
       "3  0.033996  1026      73    100  0.480568  \n",
       "4  0.042073   909      35    100  0.390622  "
      ]
     },
     "execution_count": 138,
     "metadata": {},
     "output_type": "execute_result"
    }
   ],
   "source": [
    "DD[DD.delta<-.35]"
   ]
  },
  {
   "cell_type": "code",
   "execution_count": 196,
   "metadata": {},
   "outputs": [
    {
     "data": {
      "text/html": [
       "<div>\n",
       "<style scoped>\n",
       "    .dataframe tbody tr th:only-of-type {\n",
       "        vertical-align: middle;\n",
       "    }\n",
       "\n",
       "    .dataframe tbody tr th {\n",
       "        vertical-align: top;\n",
       "    }\n",
       "\n",
       "    .dataframe thead th {\n",
       "        text-align: right;\n",
       "    }\n",
       "</style>\n",
       "<table border=\"1\" class=\"dataframe\">\n",
       "  <thead>\n",
       "    <tr style=\"text-align: right;\">\n",
       "      <th></th>\n",
       "      <th>index</th>\n",
       "      <th>SA</th>\n",
       "      <th>JAIL</th>\n",
       "      <th>RND</th>\n",
       "      <th>delta</th>\n",
       "      <th>SA_std</th>\n",
       "      <th>JAIL_std</th>\n",
       "      <th>RND_std</th>\n",
       "      <th>SA_n</th>\n",
       "      <th>JAIL_n</th>\n",
       "      <th>RND_n</th>\n",
       "      <th>deltaabs</th>\n",
       "    </tr>\n",
       "  </thead>\n",
       "  <tbody>\n",
       "    <tr>\n",
       "      <th>11</th>\n",
       "      <td>116</td>\n",
       "      <td>0.253902</td>\n",
       "      <td>0.013625</td>\n",
       "      <td>0.434439</td>\n",
       "      <td>0.240277</td>\n",
       "      <td>0.013487</td>\n",
       "      <td>0.008023</td>\n",
       "      <td>0.030777</td>\n",
       "      <td>402</td>\n",
       "      <td>71</td>\n",
       "      <td>100</td>\n",
       "      <td>0.240277</td>\n",
       "    </tr>\n",
       "    <tr>\n",
       "      <th>13</th>\n",
       "      <td>98</td>\n",
       "      <td>0.320735</td>\n",
       "      <td>0.118242</td>\n",
       "      <td>0.569681</td>\n",
       "      <td>0.202493</td>\n",
       "      <td>0.010148</td>\n",
       "      <td>0.013543</td>\n",
       "      <td>0.034642</td>\n",
       "      <td>1014</td>\n",
       "      <td>294</td>\n",
       "      <td>100</td>\n",
       "      <td>0.202493</td>\n",
       "    </tr>\n",
       "    <tr>\n",
       "      <th>14</th>\n",
       "      <td>100</td>\n",
       "      <td>0.274133</td>\n",
       "      <td>0.088676</td>\n",
       "      <td>0.365764</td>\n",
       "      <td>0.185458</td>\n",
       "      <td>0.009113</td>\n",
       "      <td>0.023562</td>\n",
       "      <td>0.028976</td>\n",
       "      <td>1014</td>\n",
       "      <td>86</td>\n",
       "      <td>100</td>\n",
       "      <td>0.185458</td>\n",
       "    </tr>\n",
       "    <tr>\n",
       "      <th>16</th>\n",
       "      <td>54</td>\n",
       "      <td>0.276708</td>\n",
       "      <td>0.115067</td>\n",
       "      <td>0.752548</td>\n",
       "      <td>0.161641</td>\n",
       "      <td>0.018405</td>\n",
       "      <td>0.063587</td>\n",
       "      <td>0.040602</td>\n",
       "      <td>511</td>\n",
       "      <td>24</td>\n",
       "      <td>100</td>\n",
       "      <td>0.161641</td>\n",
       "    </tr>\n",
       "  </tbody>\n",
       "</table>\n",
       "</div>"
      ],
      "text/plain": [
       "    index        SA      JAIL       RND     delta    SA_std  JAIL_std  \\\n",
       "11    116  0.253902  0.013625  0.434439  0.240277  0.013487  0.008023   \n",
       "13     98  0.320735  0.118242  0.569681  0.202493  0.010148  0.013543   \n",
       "14    100  0.274133  0.088676  0.365764  0.185458  0.009113  0.023562   \n",
       "16     54  0.276708  0.115067  0.752548  0.161641  0.018405  0.063587   \n",
       "\n",
       "     RND_std  SA_n  JAIL_n  RND_n  deltaabs  \n",
       "11  0.030777   402      71    100  0.240277  \n",
       "13  0.034642  1014     294    100  0.202493  \n",
       "14  0.028976  1014      86    100  0.185458  \n",
       "16  0.040602   511      24    100  0.161641  "
      ]
     },
     "execution_count": 196,
     "metadata": {},
     "output_type": "execute_result"
    }
   ],
   "source": [
    "DD[DD.delta>.15]"
   ]
  },
  {
   "cell_type": "code",
   "execution_count": 210,
   "metadata": {},
   "outputs": [
    {
     "data": {
      "text/plain": [
       "array([2, 2, 1, 1, 1, 1, 1, 1, 1, 1, 1, 1, 1, 1, 1, 1, 1, 1, 1, 1, 1, 1,\n",
       "       1, 1, 1, 1, 1, 1, 1, 1, 1, 1, 1, 1, 1, 1, 1, 1, 2, 2, 1, 2, 1, 1,\n",
       "       1, 1, 1, 2, 1, 1, 1, 2, 1, 1, 1, 1, 1, 1, 1, 1, 1, 1, 1, 1, 1, 1,\n",
       "       1, 4, 3, 2, 3, 4, 2, 1, 4, 1, 1, 2, 2, 2, 2, 4, 1, 2, 2, 1, 2, 1,\n",
       "       3, 3, 2, 4, 2, 4, 5, 4, 1, 1, 1, 4, 2, 2, 1, 1, 1, 1, 2, 1, 1, 4,\n",
       "       2, 1, 5, 1, 2, 2, 2, 4, 4, 2, 2, 2, 1, 4, 3, 4, 2, 1, 2, 2, 1, 4,\n",
       "       4, 7, 9, 7, 5, 7, 2, 3, 1, 3, 3, 3, 1, 1, 1, 4, 3, 2, 6, 1, 1, 6,\n",
       "       2, 1, 1, 1, 6, 5, 4, 1, 1, 1, 2, 1, 1, 1, 1])"
      ]
     },
     "execution_count": 210,
     "metadata": {},
     "output_type": "execute_result"
    }
   ],
   "source": [
    "X[:][239].astype(int)#.mean()"
   ]
  },
  {
   "cell_type": "code",
   "execution_count": 215,
   "metadata": {},
   "outputs": [
    {
     "data": {
      "text/plain": [
       "array(['2', '2', '2', '2', '2', '2', '2', '2', '2', '2', '2', '2', '2',\n",
       "       '2', '2', '4', '2', '2', '2', '2', '4', '4', '4', '5', '5', '5',\n",
       "       '5', '2', '2', '2', '2', '2', '2', '2', '2', '2', '2', '2', '2',\n",
       "       '2', '2', '2', '2', '2', '2', '2', '2', '2', '2', '2', '2', '2',\n",
       "       '2', '2', '2', '4', '4', '4', '4', '4', '4', '2', '4', '4', '4',\n",
       "       '2', '2', '4', '4', '4', '4', '4', '4', '4', '4', '4', '4', '4',\n",
       "       '4', '4', '4', '4', '4', '4', '2', '2', '2', '2', '5', '5', '5',\n",
       "       '5', '5', '5', '5', '5', '5', '5', '5', '5', '5', '5', '5', '5',\n",
       "       '5', '5', '5', '5', '2', '5', '5', '5', '5', '5', '5', '5', '5',\n",
       "       '5', '5', '5', '5', '5', '5', '5', '5', '5', '5', '5', '5', '2',\n",
       "       '2', '5', '5', '9', '9', '9', '9', '9', '5', '5', '5', '5', '5',\n",
       "       '5', '5', '5', '5', '5', '5', '5', '6', '6', '6', '6', '6', '6',\n",
       "       '6', '6', '6', '6', '5', '5', '5', '2', '6', '6', '6', '6', '6'],\n",
       "      dtype='<U1')"
      ]
     },
     "execution_count": 215,
     "metadata": {},
     "output_type": "execute_result"
    }
   ],
   "source": [
    "Xj[0]"
   ]
  },
  {
   "cell_type": "code",
   "execution_count": 197,
   "metadata": {},
   "outputs": [
    {
     "data": {
      "text/plain": [
       "array([239,  54,  56, 221])"
      ]
     },
     "execution_count": 197,
     "metadata": {},
     "output_type": "execute_result"
    }
   ],
   "source": [
    "COLSA[DD[DD.delta>.15]['index'].values]"
   ]
  },
  {
   "cell_type": "code",
   "execution_count": 142,
   "metadata": {},
   "outputs": [
    {
     "data": {
      "text/plain": [
       "array([229,  98,  99,  29, 101])"
      ]
     },
     "execution_count": 142,
     "metadata": {},
     "output_type": "execute_result"
    }
   ],
   "source": [
    "COLSA[DD[DD.delta<-.35]['index'].values]"
   ]
  },
  {
   "cell_type": "code",
   "execution_count": 77,
   "metadata": {},
   "outputs": [
    {
     "data": {
      "text/plain": [
       "<matplotlib.axes._subplots.AxesSubplot at 0x7f798bda5cf8>"
      ]
     },
     "execution_count": 77,
     "metadata": {},
     "output_type": "execute_result"
    },
    {
     "data": {
      "image/png": "[encoded data removed]",
      "text/plain": [
       "<Figure size 432x288 with 1 Axes>"
      ]
     },
     "metadata": {},
     "output_type": "display_data"
    }
   ],
   "source": [
    "DS=pd.DataFrame(Dissrand.mean(axis=0),columns=['RND']).join(DS)\n",
    "#DS=DS.assign(delta=DS.SA-DS.JAIL)\n",
    "ax=DS.SA.plot.kde(bw_method=.2)\n",
    "DS.JAIL.plot.kde(ax=ax,bw_method=.2)\n",
    "DS.RND.plot.kde(ax=ax,bw_method=.2)\n",
    "#ax.set_xlim(-0,1.05)"
   ]
  },
  {
   "cell_type": "code",
   "execution_count": 73,
   "metadata": {},
   "outputs": [
    {
     "data": {
      "text/html": [
       "<div>\n",
       "<style scoped>\n",
       "    .dataframe tbody tr th:only-of-type {\n",
       "        vertical-align: middle;\n",
       "    }\n",
       "\n",
       "    .dataframe tbody tr th {\n",
       "        vertical-align: top;\n",
       "    }\n",
       "\n",
       "    .dataframe thead th {\n",
       "        text-align: right;\n",
       "    }\n",
       "</style>\n",
       "<table border=\"1\" class=\"dataframe\">\n",
       "  <thead>\n",
       "    <tr style=\"text-align: right;\">\n",
       "      <th></th>\n",
       "      <th>RND</th>\n",
       "      <th>SA</th>\n",
       "      <th>JAIL</th>\n",
       "      <th>delta</th>\n",
       "    </tr>\n",
       "  </thead>\n",
       "  <tbody>\n",
       "    <tr>\n",
       "      <th>0</th>\n",
       "      <td>0.807192</td>\n",
       "      <td>0.087542</td>\n",
       "      <td>0.140488</td>\n",
       "      <td>-0.052946</td>\n",
       "    </tr>\n",
       "    <tr>\n",
       "      <th>1</th>\n",
       "      <td>0.623018</td>\n",
       "      <td>0.085105</td>\n",
       "      <td>0.000000</td>\n",
       "      <td>0.085105</td>\n",
       "    </tr>\n",
       "    <tr>\n",
       "      <th>2</th>\n",
       "      <td>0.702066</td>\n",
       "      <td>0.212351</td>\n",
       "      <td>0.284472</td>\n",
       "      <td>-0.072121</td>\n",
       "    </tr>\n",
       "    <tr>\n",
       "      <th>3</th>\n",
       "      <td>0.639066</td>\n",
       "      <td>0.212988</td>\n",
       "      <td>0.354631</td>\n",
       "      <td>-0.141644</td>\n",
       "    </tr>\n",
       "    <tr>\n",
       "      <th>4</th>\n",
       "      <td>0.731912</td>\n",
       "      <td>0.131427</td>\n",
       "      <td>0.047086</td>\n",
       "      <td>0.084341</td>\n",
       "    </tr>\n",
       "    <tr>\n",
       "      <th>...</th>\n",
       "      <td>...</td>\n",
       "      <td>...</td>\n",
       "      <td>...</td>\n",
       "      <td>...</td>\n",
       "    </tr>\n",
       "    <tr>\n",
       "      <th>164</th>\n",
       "      <td>0.566640</td>\n",
       "      <td>0.365785</td>\n",
       "      <td>0.839609</td>\n",
       "      <td>-0.473824</td>\n",
       "    </tr>\n",
       "    <tr>\n",
       "      <th>165</th>\n",
       "      <td>0.655777</td>\n",
       "      <td>0.285555</td>\n",
       "      <td>0.938249</td>\n",
       "      <td>-0.652694</td>\n",
       "    </tr>\n",
       "    <tr>\n",
       "      <th>166</th>\n",
       "      <td>0.653697</td>\n",
       "      <td>0.411744</td>\n",
       "      <td>0.969268</td>\n",
       "      <td>-0.557524</td>\n",
       "    </tr>\n",
       "    <tr>\n",
       "      <th>167</th>\n",
       "      <td>0.725347</td>\n",
       "      <td>0.262550</td>\n",
       "      <td>0.977821</td>\n",
       "      <td>-0.715271</td>\n",
       "    </tr>\n",
       "    <tr>\n",
       "      <th>168</th>\n",
       "      <td>0.790653</td>\n",
       "      <td>0.204212</td>\n",
       "      <td>0.989853</td>\n",
       "      <td>-0.785641</td>\n",
       "    </tr>\n",
       "  </tbody>\n",
       "</table>\n",
       "<p>169 rows × 4 columns</p>\n",
       "</div>"
      ],
      "text/plain": [
       "          RND        SA      JAIL     delta\n",
       "0    0.807192  0.087542  0.140488 -0.052946\n",
       "1    0.623018  0.085105  0.000000  0.085105\n",
       "2    0.702066  0.212351  0.284472 -0.072121\n",
       "3    0.639066  0.212988  0.354631 -0.141644\n",
       "4    0.731912  0.131427  0.047086  0.084341\n",
       "..        ...       ...       ...       ...\n",
       "164  0.566640  0.365785  0.839609 -0.473824\n",
       "165  0.655777  0.285555  0.938249 -0.652694\n",
       "166  0.653697  0.411744  0.969268 -0.557524\n",
       "167  0.725347  0.262550  0.977821 -0.715271\n",
       "168  0.790653  0.204212  0.989853 -0.785641\n",
       "\n",
       "[169 rows x 4 columns]"
      ]
     },
     "execution_count": 73,
     "metadata": {},
     "output_type": "execute_result"
    }
   ],
   "source": []
  },
  {
   "cell_type": "code",
   "execution_count": null,
   "metadata": {},
   "outputs": [],
   "source": [
    "samples=Xrand\n",
    "Reconrand=pqdm(range(len(Xrand)), getRecon, n_jobs=12)                                                              "
   ]
  },
  {
   "cell_type": "code",
   "execution_count": null,
   "metadata": {},
   "outputs": [],
   "source": [
    "DF=pd.DataFrame(Recon,columns=['recon'])\n",
    "DFrand=pd.DataFrame(Reconrand,columns=['recon_random'])\n",
    "ax=DFrand.plot.kde()\n",
    "DF.plot.kde(ax=ax)"
   ]
  },
  {
   "cell_type": "code",
   "execution_count": null,
   "metadata": {
    "scrolled": false
   },
   "outputs": [],
   "source": [
    "import seaborn as sns\n",
    "labels = DF1.PTSDDx.values\n",
    "lut = dict(zip(set(labels), ['.5','red']))\n",
    "row_colors = pd.DataFrame(labels)[0].map(lut)\n",
    "\n",
    "cm=sns.clustermap(Diss,method='ward',row_colors=row_colors,cmap='viridis')\n",
    "cm.ax_heatmap.set_xlabel('Items',fontsize=24,labelpad=20)\n",
    "cm.ax_heatmap.set_ylabel('Respondants',fontsize=24,labelpad=10)\n",
    "print(set(labels))\n",
    "\n",
    "plt.savefig('clsmap_balanced1'+'.png',dpi=600,bbox_inches='tight',transparent=True)"
   ]
  },
  {
   "cell_type": "code",
   "execution_count": null,
   "metadata": {},
   "outputs": [],
   "source": [
    "#sns.scatterplot(E.x0,E.x1,hue=DS.diss,cmap='jet')\n",
    "plt.style.use('fivethirtyeight')\n",
    "plt.scatter(E.x0,E.x1,c=DF1.dissonance,cmap='jet',s=2**(3*(DF1.PTSDDx+1)),alpha=.5)"
   ]
  },
  {
   "cell_type": "code",
   "execution_count": null,
   "metadata": {},
   "outputs": [],
   "source": [
    "fig=plt.figure(figsize=[7,6])\n",
    "sns.set()\n",
    "\n",
    "ax=plt.gca()\n",
    "\n",
    "fpr, tpr, thresholds = metrics.roc_curve(DF1.PTSDDx.values,DF1.dissonance, pos_label=1)\n",
    "print(metrics.auc(fpr, tpr))\n",
    "\n",
    "fpr1, tpr1, thresholds1 = metrics.roc_curve(DF1.PTSDDx.values,DF1.recon, pos_label=1)\n",
    "print(metrics.auc(fpr1, tpr1))\n",
    "\n",
    "plt.plot(fpr,tpr,lw=2,label='dissonance')\n",
    "plt.plot(fpr1,tpr1,lw=2,label='recon error')\n",
    "plt.gca().legend()\n",
    "plt.gca().set_xlim(-0.01,1.02)\n",
    "plt.gca().set_ylim(-0.01,1.02)\n",
    "\n",
    "ax.set_title('ROC curves',fontsize=18,fontweight='bold',y=1.02,color='.5')\n",
    "plt.setp(ax.get_xticklabels(), fontsize=16,y=-.02)\n",
    "plt.setp(ax.get_yticklabels(), fontsize=16)\n",
    "ax.set_facecolor((1.0, 0.47, 0.42,0))\n",
    "fig.set_facecolor((1,0,1,0))\n",
    "ax.spines['bottom'].set_color('.75')\n",
    "ax.spines['top'].set_color('.75') \n",
    "ax.spines['right'].set_color('.75')\n",
    "ax.spines['left'].set_color('.75')\n",
    "ax.grid(color='#dddddd', linestyle='--', linewidth=2)\n",
    "plt.setp(ax.spines.values(), linewidth=1)\n",
    "ax.tick_params(axis='x', colors='.5')    #setting up X-axis tick color to red\n",
    "ax.tick_params(axis='y', colors='.5',pad=15)  #setting up Y-axis tick color to black\n",
    "plt.gca().set_ylim(-0.01,1.02)\n",
    "plt.gca().set_xlim(-0.01,1.02)\n",
    "ax.set_ylabel('TPR',fontsize=16,color='.5')\n",
    "ax.set_xlabel('FPR',fontsize=16,color='.5')\n",
    "ax.legend(['Dissonance','Reconstruction Error'],fontsize=16)\n",
    "\n",
    "plt.savefig('ROC_balanced1'+'.png',dpi=600,bbox_inches='tight',transparent=True)"
   ]
  },
  {
   "cell_type": "code",
   "execution_count": null,
   "metadata": {},
   "outputs": [],
   "source": [
    "fig=plt.figure(figsize=[7,5])\n",
    "sns.set()\n",
    "\n",
    "ax=plt.gca()\n",
    "\n",
    "#DF1.plot.scatter(ax=ax,x='dissonance',y='recon',cmap='seismic',c='PTSDDx')\n",
    "sns.scatterplot(ax=ax,x='dissonance',y='recon',cmap='seismic',hue='PTSDDx',data=DF1)\n",
    "\n",
    "ax.set_title('Mean Dissonance vs Mean Reconstruction Error',fontsize=18,fontweight='bold',y=1.02,color='.5')\n",
    "plt.setp(ax.get_xticklabels(), fontsize=16,y=-.02)\n",
    "plt.setp(ax.get_yticklabels(), fontsize=16)\n",
    "ax.set_facecolor((1.0, 0.47, 0.42,0))\n",
    "fig.set_facecolor((1,0,1,0))\n",
    "ax.spines['bottom'].set_color('.75')\n",
    "ax.spines['top'].set_color('.75') \n",
    "ax.spines['right'].set_color('.75')\n",
    "ax.spines['left'].set_color('.75')\n",
    "ax.grid(color='#dddddd', linestyle='--', linewidth=2)\n",
    "plt.setp(ax.spines.values(), linewidth=1)\n",
    "ax.tick_params(axis='x', colors='.5')    #setting up X-axis tick color to red\n",
    "ax.tick_params(axis='y', colors='.5',pad=15)  #setting up Y-axis tick color to black\n",
    "plt.gca().set_ylim(-1.45,1.95)\n",
    "plt.gca().set_xlim(0.05,.5)\n",
    "ax.set_ylabel('mean reconstruction error',fontsize=16,color='.5')\n",
    "ax.set_xlabel('mean dissonance',fontsize=16,color='.5')\n",
    "#ax.legend(fontsize=16)\n",
    "\n",
    "print(Dissrand.mean(axis=1).mean(),Dissrand.mean(axis=1).std())\n",
    "\n",
    "plt.plot(Dissrand.mean(axis=1).mean()*np.array([1,1]),[-1.45,1.95],'-r')\n",
    "plt.plot((Dissrand.mean(axis=1).mean()-Dissrand.mean(axis=1).std())*np.array([1,1]),[-1.45,1.95],'--r')\n",
    "plt.plot((Dissrand.mean(axis=1).mean()+Dissrand.mean(axis=1).std())*np.array([1,1]),[-1.45,1.95],'--r')\n",
    "\n",
    "ax.text(s='random response',x=.44,y=-0.50,rotation=90,fontsize=16,color='r')\n",
    "\n",
    "plt.savefig('dissrecon_balanced1'+'.png',dpi=600,bbox_inches='tight',transparent=True)\n",
    "\n",
    "\n",
    "\n"
   ]
  },
  {
   "cell_type": "code",
   "execution_count": null,
   "metadata": {},
   "outputs": [],
   "source": [
    "DF1.sort_values('dissonance',ascending=False).head()"
   ]
  },
  {
   "cell_type": "code",
   "execution_count": null,
   "metadata": {},
   "outputs": [],
   "source": []
  }
 ],
 "metadata": {
  "kernelspec": {
   "display_name": "Python 3",
   "language": "python",
   "name": "python3"
  },
  "language_info": {
   "codemirror_mode": {
    "name": "ipython",
    "version": 3
   },
   "file_extension": ".py",
   "mimetype": "text/x-python",
   "name": "python",
   "nbconvert_exporter": "python",
   "pygments_lexer": "ipython3",
   "version": "3.7.1"
  }
 },
 "nbformat": 4,
 "nbformat_minor": 2
}
